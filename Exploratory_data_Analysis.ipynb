{
  "nbformat": 4,
  "nbformat_minor": 0,
  "metadata": {
    "colab": {
      "name": "Exploratory data Analysis.ipynb",
      "provenance": [],
      "include_colab_link": true
    },
    "kernelspec": {
      "name": "python3",
      "display_name": "Python 3"
    }
  },
  "cells": [
    {
      "cell_type": "markdown",
      "metadata": {
        "id": "view-in-github",
        "colab_type": "text"
      },
      "source": [
        "<a href=\"https://colab.research.google.com/github/KhandkerHaque/titanic/blob/main/Exploratory_data_Analysis.ipynb\" target=\"_parent\"><img src=\"https://colab.research.google.com/assets/colab-badge.svg\" alt=\"Open In Colab\"/></a>"
      ]
    },
    {
      "cell_type": "markdown",
      "metadata": {
        "id": "TOvht7vqQGdR"
      },
      "source": [
        "# Exploratory data analysis in Python."
      ]
    },
    {
      "cell_type": "markdown",
      "metadata": {
        "id": "mhA_0CQOTDQy"
      },
      "source": [
        "## Let us understand how to explore the data in python.\n"
      ]
    },
    {
      "cell_type": "markdown",
      "metadata": {
        "id": "TEfC0QszTKX_"
      },
      "source": [
        "\n",
        "![alt text](https://moriohcdn.b-cdn.net/ff3cc511fb.png)\n"
      ]
    },
    {
      "cell_type": "markdown",
      "metadata": {
        "id": "NMyUUHXcHdqt"
      },
      "source": [
        "Image Credits: Morioh"
      ]
    },
    {
      "cell_type": "markdown",
      "metadata": {
        "id": "dB_j6LtTTO5j"
      },
      "source": [
        "## Introduction"
      ]
    },
    {
      "cell_type": "markdown",
      "metadata": {
        "id": "8hg00soETQ3z"
      },
      "source": [
        "**What is Exploratory Data Analysis ?**\n",
        "\n",
        "Exploratory Data Analysis or (EDA) is understanding the data sets by summarizing their main characteristics often plotting them visually. This step is very important especially when we arrive at modeling the data in order to apply Machine learning. Plotting in EDA consists of Histograms, Box plot, Scatter plot and many more. It often takes much time to explore the data. Through the process of EDA, we can ask to define the problem statement or definition on our data set which is very important."
      ]
    },
    {
      "cell_type": "markdown",
      "metadata": {
        "id": "ZfelutoyTS25"
      },
      "source": [
        "**How to perform Exploratory Data Analysis ?**\n",
        "\n",
        "This is one such question that everyone is keen on knowing the answer. Well, the answer is it depends on the data set that you are working. There is no one method or common methods in order to perform EDA, whereas in this tutorial you can understand some common methods and plots that would be used in the EDA process."
      ]
    },
    {
      "cell_type": "markdown",
      "metadata": {
        "id": "n3VfNkBBw15s"
      },
      "source": [
        "**What data are we exploring today ?**\n",
        "\n",
        "\n",
        "\n",
        "Since I am a huge fan of cars, I got a very beautiful data-set of cars from Kaggle. The data-set can be downloaded from [here](https://www.kaggle.com/CooperUnion/cardataset). To give a piece of brief information about the data set this data contains more of 10, 000 rows and more than 10 columns which contains features of the car such as Engine Fuel Type, Engine HP, Transmission Type, highway MPG, city MPG and many more. So in this tutorial, we will explore the data and make it ready for modeling."
      ]
    },
    {
      "cell_type": "markdown",
      "metadata": {
        "id": "CQDO4JCqTThV"
      },
      "source": [
        "\n",
        "\n",
        "---\n",
        "\n"
      ]
    },
    {
      "cell_type": "markdown",
      "metadata": {
        "id": "FPSqz1wzTXvz"
      },
      "source": [
        "## 1. Importing the required libraries for EDA"
      ]
    },
    {
      "cell_type": "markdown",
      "metadata": {
        "id": "9eLMx1Ebwa92"
      },
      "source": [
        "Below are the libraries that are used in order to perform EDA (Exploratory data analysis) in this tutorial."
      ]
    },
    {
      "cell_type": "code",
      "metadata": {
        "id": "GGyDovL2QDLa"
      },
      "source": [
        "import pandas as pd\n",
        "import numpy as np\n",
        "import seaborn as sns                       #visualisation\n",
        "import matplotlib.pyplot as plt             #visualisation\n",
        "%matplotlib inline\n",
        "sns.set(color_codes=True)"
      ],
      "execution_count": 1,
      "outputs": []
    },
    {
      "cell_type": "code",
      "metadata": {
        "id": "5uVdx19Ojndw"
      },
      "source": [
        "import numpy as np\n",
        "import pandas as pd\n",
        "import seaborn as sns\n",
        "import matplotlib.pyplot as plt\n",
        "from IPython.display import Image, display\n",
        "%matplotlib inline\n",
        "\n",
        "sns.set(style=\"whitegrid\", font_scale=1.75)"
      ],
      "execution_count": 2,
      "outputs": []
    },
    {
      "cell_type": "code",
      "metadata": {
        "colab": {
          "base_uri": "https://localhost:8080/",
          "height": 0
        },
        "id": "225af269",
        "outputId": "2e925f13-7c53-4996-932d-518a3e46cb6c"
      },
      "source": [
        "!pip install ucimlrepo"
      ],
      "execution_count": 3,
      "outputs": [
        {
          "output_type": "stream",
          "name": "stdout",
          "text": [
            "Collecting ucimlrepo\n",
            "  Downloading ucimlrepo-0.0.7-py3-none-any.whl.metadata (5.5 kB)\n",
            "Requirement already satisfied: pandas>=1.0.0 in /usr/local/lib/python3.12/dist-packages (from ucimlrepo) (2.2.2)\n",
            "Requirement already satisfied: certifi>=2020.12.5 in /usr/local/lib/python3.12/dist-packages (from ucimlrepo) (2025.8.3)\n",
            "Requirement already satisfied: numpy>=1.26.0 in /usr/local/lib/python3.12/dist-packages (from pandas>=1.0.0->ucimlrepo) (2.0.2)\n",
            "Requirement already satisfied: python-dateutil>=2.8.2 in /usr/local/lib/python3.12/dist-packages (from pandas>=1.0.0->ucimlrepo) (2.9.0.post0)\n",
            "Requirement already satisfied: pytz>=2020.1 in /usr/local/lib/python3.12/dist-packages (from pandas>=1.0.0->ucimlrepo) (2025.2)\n",
            "Requirement already satisfied: tzdata>=2022.7 in /usr/local/lib/python3.12/dist-packages (from pandas>=1.0.0->ucimlrepo) (2025.2)\n",
            "Requirement already satisfied: six>=1.5 in /usr/local/lib/python3.12/dist-packages (from python-dateutil>=2.8.2->pandas>=1.0.0->ucimlrepo) (1.17.0)\n",
            "Downloading ucimlrepo-0.0.7-py3-none-any.whl (8.0 kB)\n",
            "Installing collected packages: ucimlrepo\n",
            "Successfully installed ucimlrepo-0.0.7\n"
          ]
        }
      ]
    },
    {
      "cell_type": "code",
      "source": [
        "from ucimlrepo import fetch_ucirepo\n",
        "\n",
        "# fetch dataset\n",
        "breast_cancer = fetch_ucirepo(id=14)\n",
        "\n",
        "# data (as pandas dataframes)\n",
        "X = breast_cancer.data.features\n",
        "y = breast_cancer.data.targets\n",
        "\n",
        "# metadata\n",
        "print(breast_cancer.metadata)\n",
        "\n",
        "# variable information\n",
        "print(breast_cancer.variables)\n"
      ],
      "metadata": {
        "colab": {
          "base_uri": "https://localhost:8080/",
          "height": 0
        },
        "id": "V3UVNXRXBTIB",
        "outputId": "6e06d154-7113-4195-f4cf-653e0b10839e"
      },
      "execution_count": 4,
      "outputs": [
        {
          "output_type": "stream",
          "name": "stdout",
          "text": [
            "{'uci_id': 14, 'name': 'Breast Cancer', 'repository_url': 'https://archive.ics.uci.edu/dataset/14/breast+cancer', 'data_url': 'https://archive.ics.uci.edu/static/public/14/data.csv', 'abstract': 'This breast cancer domain was obtained from the University Medical Centre, Institute of Oncology, Ljubljana, Yugoslavia. This is one of three domains provided by the Oncology Institute that has repeatedly appeared in the machine learning literature. (See also lymphography and primary-tumor.)', 'area': 'Health and Medicine', 'tasks': ['Classification'], 'characteristics': ['Multivariate'], 'num_instances': 286, 'num_features': 9, 'feature_types': ['Categorical'], 'demographics': ['Age'], 'target_col': ['Class'], 'index_col': None, 'has_missing_values': 'yes', 'missing_values_symbol': 'NaN', 'year_of_dataset_creation': 1988, 'last_updated': 'Thu Mar 07 2024', 'dataset_doi': '10.24432/C51P4M', 'creators': ['Matjaz Zwitter', 'Milan Soklic'], 'intro_paper': None, 'additional_info': {'summary': 'This data set includes 201 instances of one class and 85 instances of another class.  The instances are described by 9 attributes, some of which are linear and some are nominal.\\n', 'purpose': None, 'funded_by': None, 'instances_represent': None, 'recommended_data_splits': None, 'sensitive_data': None, 'preprocessing_description': None, 'variable_info': '   1. Class: no-recurrence-events, recurrence-events\\r\\n   2. age: 10-19, 20-29, 30-39, 40-49, 50-59, 60-69, 70-79, 80-89, 90-99.\\r\\n   3. menopause: lt40, ge40, premeno.\\r\\n   4. tumor-size: 0-4, 5-9, 10-14, 15-19, 20-24, 25-29, 30-34, 35-39, 40-44, 45-49, 50-54, 55-59.\\r\\n   5. inv-nodes: 0-2, 3-5, 6-8, 9-11, 12-14, 15-17, 18-20, 21-23, 24-26, 27-29, 30-32, 33-35, 36-39.\\r\\n   6. node-caps: yes, no.\\r\\n   7. deg-malig: 1, 2, 3.\\r\\n   8. breast: left, right.\\r\\n   9. breast-quad: left-up, left-low, right-up,\\tright-low, central.\\r\\n  10. irradiat:\\tyes, no.', 'citation': 'Obtained from the University Medical Centre, Institute of Oncology, Ljubljana, Yugoslavia.  Thanks go to M. Zwitter and M. Soklic for providing the data.  Please include this citation if you plan to use this database:\\nMatjaz Zwitter & Milan Soklic (physicians)\\nInstitute of Oncology \\nUniversity Medical Center\\nLjubljana, Yugoslavia'}}\n",
            "          name     role         type demographic  \\\n",
            "0        Class   Target       Binary        None   \n",
            "1          age  Feature  Categorical         Age   \n",
            "2    menopause  Feature  Categorical        None   \n",
            "3   tumor-size  Feature  Categorical        None   \n",
            "4    inv-nodes  Feature  Categorical        None   \n",
            "5    node-caps  Feature       Binary        None   \n",
            "6    deg-malig  Feature      Integer        None   \n",
            "7       breast  Feature       Binary        None   \n",
            "8  breast-quad  Feature  Categorical        None   \n",
            "9     irradiat  Feature       Binary        None   \n",
            "\n",
            "                                         description  units missing_values  \n",
            "0            no-recurrence-events, recurrence-events   None             no  \n",
            "1  10-19, 20-29, 30-39, 40-49, 50-59, 60-69, 70-7...  years             no  \n",
            "2                                lt40, ge40, premeno   None             no  \n",
            "3  0-4, 5-9, 10-14, 15-19, 20-24, 25-29, 30-34, 3...   None             no  \n",
            "4   0-2, 3-5, 6-8, 9-11, 12-14, 15-17, 18-20, 21-...   None             no  \n",
            "5                                            yes, no   None            yes  \n",
            "6                                            1, 2, 3   None             no  \n",
            "7                                        left, right   None             no  \n",
            "8   left-up, left-low, right-up,\\tright-low, central   None            yes  \n",
            "9                                            yes, no   None             no  \n"
          ]
        }
      ]
    },
    {
      "cell_type": "code",
      "source": [
        "import pandas as pd\n",
        "\n",
        "# Load the CSV file\n",
        "df = pd.read_csv('breast-cancer raw data.csv')\n",
        "\n",
        "# Display the first few rows\n",
        "print(df.head())"
      ],
      "metadata": {
        "colab": {
          "base_uri": "https://localhost:8080/",
          "height": 0
        },
        "id": "_tksr5OoxXKq",
        "outputId": "7f178e73-c6b6-4e2a-f653-2d4e820c38be"
      },
      "execution_count": 6,
      "outputs": [
        {
          "output_type": "stream",
          "name": "stdout",
          "text": [
            "                  Class    age menopause tumor-size inv-nodes node-caps  \\\n",
            "0  no-recurrence-events  30-39   premeno      30-34       0-2        no   \n",
            "1  no-recurrence-events  40-49   premeno      20-24       0-2        no   \n",
            "2  no-recurrence-events  40-49   premeno      20-24       0-2        no   \n",
            "3  no-recurrence-events  60-69      ge40      15-19       0-2        no   \n",
            "4  no-recurrence-events  40-49   premeno        0-4       0-2        no   \n",
            "\n",
            "   deg-malig breast breast-quad irradiat  \n",
            "0          3   left    left_low       no  \n",
            "1          2  right    right_up       no  \n",
            "2          2   left    left_low       no  \n",
            "3          2  right     left_up       no  \n",
            "4          2  right   right_low       no  \n"
          ]
        }
      ]
    },
    {
      "cell_type": "code",
      "source": [
        "display(df.describe())"
      ],
      "metadata": {
        "colab": {
          "base_uri": "https://localhost:8080/",
          "height": 300
        },
        "id": "bps1owdy4FQ2",
        "outputId": "e72e0bd4-6817-4a08-b19a-bca515577cd5"
      },
      "execution_count": 13,
      "outputs": [
        {
          "output_type": "display_data",
          "data": {
            "text/plain": [
              "        deg-malig\n",
              "count  286.000000\n",
              "mean     2.048951\n",
              "std      0.738217\n",
              "min      1.000000\n",
              "25%      2.000000\n",
              "50%      2.000000\n",
              "75%      3.000000\n",
              "max      3.000000"
            ],
            "text/html": [
              "\n",
              "  <div id=\"df-62e48dee-b7a3-4753-a51c-4482c78e5d2a\" class=\"colab-df-container\">\n",
              "    <div>\n",
              "<style scoped>\n",
              "    .dataframe tbody tr th:only-of-type {\n",
              "        vertical-align: middle;\n",
              "    }\n",
              "\n",
              "    .dataframe tbody tr th {\n",
              "        vertical-align: top;\n",
              "    }\n",
              "\n",
              "    .dataframe thead th {\n",
              "        text-align: right;\n",
              "    }\n",
              "</style>\n",
              "<table border=\"1\" class=\"dataframe\">\n",
              "  <thead>\n",
              "    <tr style=\"text-align: right;\">\n",
              "      <th></th>\n",
              "      <th>deg-malig</th>\n",
              "    </tr>\n",
              "  </thead>\n",
              "  <tbody>\n",
              "    <tr>\n",
              "      <th>count</th>\n",
              "      <td>286.000000</td>\n",
              "    </tr>\n",
              "    <tr>\n",
              "      <th>mean</th>\n",
              "      <td>2.048951</td>\n",
              "    </tr>\n",
              "    <tr>\n",
              "      <th>std</th>\n",
              "      <td>0.738217</td>\n",
              "    </tr>\n",
              "    <tr>\n",
              "      <th>min</th>\n",
              "      <td>1.000000</td>\n",
              "    </tr>\n",
              "    <tr>\n",
              "      <th>25%</th>\n",
              "      <td>2.000000</td>\n",
              "    </tr>\n",
              "    <tr>\n",
              "      <th>50%</th>\n",
              "      <td>2.000000</td>\n",
              "    </tr>\n",
              "    <tr>\n",
              "      <th>75%</th>\n",
              "      <td>3.000000</td>\n",
              "    </tr>\n",
              "    <tr>\n",
              "      <th>max</th>\n",
              "      <td>3.000000</td>\n",
              "    </tr>\n",
              "  </tbody>\n",
              "</table>\n",
              "</div>\n",
              "    <div class=\"colab-df-buttons\">\n",
              "\n",
              "  <div class=\"colab-df-container\">\n",
              "    <button class=\"colab-df-convert\" onclick=\"convertToInteractive('df-62e48dee-b7a3-4753-a51c-4482c78e5d2a')\"\n",
              "            title=\"Convert this dataframe to an interactive table.\"\n",
              "            style=\"display:none;\">\n",
              "\n",
              "  <svg xmlns=\"http://www.w3.org/2000/svg\" height=\"24px\" viewBox=\"0 -960 960 960\">\n",
              "    <path d=\"M120-120v-720h720v720H120Zm60-500h600v-160H180v160Zm220 220h160v-160H400v160Zm0 220h160v-160H400v160ZM180-400h160v-160H180v160Zm440 0h160v-160H620v160ZM180-180h160v-160H180v160Zm440 0h160v-160H620v160Z\"/>\n",
              "  </svg>\n",
              "    </button>\n",
              "\n",
              "  <style>\n",
              "    .colab-df-container {\n",
              "      display:flex;\n",
              "      gap: 12px;\n",
              "    }\n",
              "\n",
              "    .colab-df-convert {\n",
              "      background-color: #E8F0FE;\n",
              "      border: none;\n",
              "      border-radius: 50%;\n",
              "      cursor: pointer;\n",
              "      display: none;\n",
              "      fill: #1967D2;\n",
              "      height: 32px;\n",
              "      padding: 0 0 0 0;\n",
              "      width: 32px;\n",
              "    }\n",
              "\n",
              "    .colab-df-convert:hover {\n",
              "      background-color: #E2EBFA;\n",
              "      box-shadow: 0px 1px 2px rgba(60, 64, 67, 0.3), 0px 1px 3px 1px rgba(60, 64, 67, 0.15);\n",
              "      fill: #174EA6;\n",
              "    }\n",
              "\n",
              "    .colab-df-buttons div {\n",
              "      margin-bottom: 4px;\n",
              "    }\n",
              "\n",
              "    [theme=dark] .colab-df-convert {\n",
              "      background-color: #3B4455;\n",
              "      fill: #D2E3FC;\n",
              "    }\n",
              "\n",
              "    [theme=dark] .colab-df-convert:hover {\n",
              "      background-color: #434B5C;\n",
              "      box-shadow: 0px 1px 3px 1px rgba(0, 0, 0, 0.15);\n",
              "      filter: drop-shadow(0px 1px 2px rgba(0, 0, 0, 0.3));\n",
              "      fill: #FFFFFF;\n",
              "    }\n",
              "  </style>\n",
              "\n",
              "    <script>\n",
              "      const buttonEl =\n",
              "        document.querySelector('#df-62e48dee-b7a3-4753-a51c-4482c78e5d2a button.colab-df-convert');\n",
              "      buttonEl.style.display =\n",
              "        google.colab.kernel.accessAllowed ? 'block' : 'none';\n",
              "\n",
              "      async function convertToInteractive(key) {\n",
              "        const element = document.querySelector('#df-62e48dee-b7a3-4753-a51c-4482c78e5d2a');\n",
              "        const dataTable =\n",
              "          await google.colab.kernel.invokeFunction('convertToInteractive',\n",
              "                                                    [key], {});\n",
              "        if (!dataTable) return;\n",
              "\n",
              "        const docLinkHtml = 'Like what you see? Visit the ' +\n",
              "          '<a target=\"_blank\" href=https://colab.research.google.com/notebooks/data_table.ipynb>data table notebook</a>'\n",
              "          + ' to learn more about interactive tables.';\n",
              "        element.innerHTML = '';\n",
              "        dataTable['output_type'] = 'display_data';\n",
              "        await google.colab.output.renderOutput(dataTable, element);\n",
              "        const docLink = document.createElement('div');\n",
              "        docLink.innerHTML = docLinkHtml;\n",
              "        element.appendChild(docLink);\n",
              "      }\n",
              "    </script>\n",
              "  </div>\n",
              "\n",
              "\n",
              "    <div id=\"df-2c9b44e4-b1e0-45f5-9ede-b2961613070c\">\n",
              "      <button class=\"colab-df-quickchart\" onclick=\"quickchart('df-2c9b44e4-b1e0-45f5-9ede-b2961613070c')\"\n",
              "                title=\"Suggest charts\"\n",
              "                style=\"display:none;\">\n",
              "\n",
              "<svg xmlns=\"http://www.w3.org/2000/svg\" height=\"24px\"viewBox=\"0 0 24 24\"\n",
              "     width=\"24px\">\n",
              "    <g>\n",
              "        <path d=\"M19 3H5c-1.1 0-2 .9-2 2v14c0 1.1.9 2 2 2h14c1.1 0 2-.9 2-2V5c0-1.1-.9-2-2-2zM9 17H7v-7h2v7zm4 0h-2V7h2v10zm4 0h-2v-4h2v4z\"/>\n",
              "    </g>\n",
              "</svg>\n",
              "      </button>\n",
              "\n",
              "<style>\n",
              "  .colab-df-quickchart {\n",
              "      --bg-color: #E8F0FE;\n",
              "      --fill-color: #1967D2;\n",
              "      --hover-bg-color: #E2EBFA;\n",
              "      --hover-fill-color: #174EA6;\n",
              "      --disabled-fill-color: #AAA;\n",
              "      --disabled-bg-color: #DDD;\n",
              "  }\n",
              "\n",
              "  [theme=dark] .colab-df-quickchart {\n",
              "      --bg-color: #3B4455;\n",
              "      --fill-color: #D2E3FC;\n",
              "      --hover-bg-color: #434B5C;\n",
              "      --hover-fill-color: #FFFFFF;\n",
              "      --disabled-bg-color: #3B4455;\n",
              "      --disabled-fill-color: #666;\n",
              "  }\n",
              "\n",
              "  .colab-df-quickchart {\n",
              "    background-color: var(--bg-color);\n",
              "    border: none;\n",
              "    border-radius: 50%;\n",
              "    cursor: pointer;\n",
              "    display: none;\n",
              "    fill: var(--fill-color);\n",
              "    height: 32px;\n",
              "    padding: 0;\n",
              "    width: 32px;\n",
              "  }\n",
              "\n",
              "  .colab-df-quickchart:hover {\n",
              "    background-color: var(--hover-bg-color);\n",
              "    box-shadow: 0 1px 2px rgba(60, 64, 67, 0.3), 0 1px 3px 1px rgba(60, 64, 67, 0.15);\n",
              "    fill: var(--button-hover-fill-color);\n",
              "  }\n",
              "\n",
              "  .colab-df-quickchart-complete:disabled,\n",
              "  .colab-df-quickchart-complete:disabled:hover {\n",
              "    background-color: var(--disabled-bg-color);\n",
              "    fill: var(--disabled-fill-color);\n",
              "    box-shadow: none;\n",
              "  }\n",
              "\n",
              "  .colab-df-spinner {\n",
              "    border: 2px solid var(--fill-color);\n",
              "    border-color: transparent;\n",
              "    border-bottom-color: var(--fill-color);\n",
              "    animation:\n",
              "      spin 1s steps(1) infinite;\n",
              "  }\n",
              "\n",
              "  @keyframes spin {\n",
              "    0% {\n",
              "      border-color: transparent;\n",
              "      border-bottom-color: var(--fill-color);\n",
              "      border-left-color: var(--fill-color);\n",
              "    }\n",
              "    20% {\n",
              "      border-color: transparent;\n",
              "      border-left-color: var(--fill-color);\n",
              "      border-top-color: var(--fill-color);\n",
              "    }\n",
              "    30% {\n",
              "      border-color: transparent;\n",
              "      border-left-color: var(--fill-color);\n",
              "      border-top-color: var(--fill-color);\n",
              "      border-right-color: var(--fill-color);\n",
              "    }\n",
              "    40% {\n",
              "      border-color: transparent;\n",
              "      border-right-color: var(--fill-color);\n",
              "      border-top-color: var(--fill-color);\n",
              "    }\n",
              "    60% {\n",
              "      border-color: transparent;\n",
              "      border-right-color: var(--fill-color);\n",
              "    }\n",
              "    80% {\n",
              "      border-color: transparent;\n",
              "      border-right-color: var(--fill-color);\n",
              "      border-bottom-color: var(--fill-color);\n",
              "    }\n",
              "    90% {\n",
              "      border-color: transparent;\n",
              "      border-bottom-color: var(--fill-color);\n",
              "    }\n",
              "  }\n",
              "</style>\n",
              "\n",
              "      <script>\n",
              "        async function quickchart(key) {\n",
              "          const quickchartButtonEl =\n",
              "            document.querySelector('#' + key + ' button');\n",
              "          quickchartButtonEl.disabled = true;  // To prevent multiple clicks.\n",
              "          quickchartButtonEl.classList.add('colab-df-spinner');\n",
              "          try {\n",
              "            const charts = await google.colab.kernel.invokeFunction(\n",
              "                'suggestCharts', [key], {});\n",
              "          } catch (error) {\n",
              "            console.error('Error during call to suggestCharts:', error);\n",
              "          }\n",
              "          quickchartButtonEl.classList.remove('colab-df-spinner');\n",
              "          quickchartButtonEl.classList.add('colab-df-quickchart-complete');\n",
              "        }\n",
              "        (() => {\n",
              "          let quickchartButtonEl =\n",
              "            document.querySelector('#df-2c9b44e4-b1e0-45f5-9ede-b2961613070c button');\n",
              "          quickchartButtonEl.style.display =\n",
              "            google.colab.kernel.accessAllowed ? 'block' : 'none';\n",
              "        })();\n",
              "      </script>\n",
              "    </div>\n",
              "\n",
              "    </div>\n",
              "  </div>\n"
            ],
            "application/vnd.google.colaboratory.intrinsic+json": {
              "type": "dataframe",
              "summary": "{\n  \"name\": \"display(df\",\n  \"rows\": 8,\n  \"fields\": [\n    {\n      \"column\": \"deg-malig\",\n      \"properties\": {\n        \"dtype\": \"number\",\n        \"std\": 100.4231759856479,\n        \"min\": 0.7382166403717146,\n        \"max\": 286.0,\n        \"num_unique_values\": 6,\n        \"samples\": [\n          286.0,\n          2.0489510489510487,\n          3.0\n        ],\n        \"semantic_type\": \"\",\n        \"description\": \"\"\n      }\n    }\n  ]\n}"
            }
          },
          "metadata": {}
        }
      ]
    },
    {
      "cell_type": "code",
      "source": [
        "total_missing = df.isnull().sum().sum()\n",
        "print(\"Total missing values in the dataset:\", total_missing)\n",
        "\n",
        "# Show rows that contain at least one missing value\n",
        "missing_rows = df[df.isnull().any(axis=1)]\n",
        "print(missing_rows)\n",
        "columns_with_missing = df.columns[df.isnull().any()]\n",
        "print(\"Columns with missing values:\", columns_with_missing.tolist())"
      ],
      "metadata": {
        "colab": {
          "base_uri": "https://localhost:8080/",
          "height": 0
        },
        "id": "oh4SUyex94cx",
        "outputId": "6545df1e-c9f1-4cf6-ac19-fb80ccbc5034"
      },
      "execution_count": 7,
      "outputs": [
        {
          "output_type": "stream",
          "name": "stdout",
          "text": [
            "Total missing values in the dataset: 0\n",
            "Empty DataFrame\n",
            "Columns: [Class, age, menopause, tumor-size, inv-nodes, node-caps, deg-malig, breast, breast-quad, irradiat]\n",
            "Index: []\n",
            "Columns with missing values: []\n"
          ]
        }
      ]
    },
    {
      "cell_type": "code",
      "source": [
        "num_instances = df.shape[0]\n",
        "print(\"Total number of instances (rows):\", num_instances)\n",
        "num_attributes = df.shape[1]\n",
        "print(\"Total number of attributes (columns):\", num_attributes)\n",
        "num_classes = df['Class'].nunique()  # Use column name 'Class'\n",
        "print(\"Number of classes:\", num_classes)\n",
        "print(\"Class names:\", df['Class'].unique()) # Use column name 'Class'"
      ],
      "metadata": {
        "colab": {
          "base_uri": "https://localhost:8080/",
          "height": 0
        },
        "id": "CMPqCn8xAYbk",
        "outputId": "d4d77666-cfc6-41f6-f3ee-475bbb3b38f4"
      },
      "execution_count": 9,
      "outputs": [
        {
          "output_type": "stream",
          "name": "stdout",
          "text": [
            "Total number of instances (rows): 286\n",
            "Total number of attributes (columns): 10\n",
            "Number of classes: 2\n",
            "Class names: ['no-recurrence-events' 'recurrence-events']\n"
          ]
        }
      ]
    },
    {
      "cell_type": "code",
      "source": [
        "display(df['Class'].value_counts())"
      ],
      "metadata": {
        "colab": {
          "base_uri": "https://localhost:8080/",
          "height": 178
        },
        "id": "Y2_qgCWi4ue1",
        "outputId": "e97ea042-bff9-4377-a7d1-fb926a6dc705"
      },
      "execution_count": 14,
      "outputs": [
        {
          "output_type": "display_data",
          "data": {
            "text/plain": [
              "Class\n",
              "no-recurrence-events    201\n",
              "recurrence-events        85\n",
              "Name: count, dtype: int64"
            ],
            "text/html": [
              "<div>\n",
              "<style scoped>\n",
              "    .dataframe tbody tr th:only-of-type {\n",
              "        vertical-align: middle;\n",
              "    }\n",
              "\n",
              "    .dataframe tbody tr th {\n",
              "        vertical-align: top;\n",
              "    }\n",
              "\n",
              "    .dataframe thead th {\n",
              "        text-align: right;\n",
              "    }\n",
              "</style>\n",
              "<table border=\"1\" class=\"dataframe\">\n",
              "  <thead>\n",
              "    <tr style=\"text-align: right;\">\n",
              "      <th></th>\n",
              "      <th>count</th>\n",
              "    </tr>\n",
              "    <tr>\n",
              "      <th>Class</th>\n",
              "      <th></th>\n",
              "    </tr>\n",
              "  </thead>\n",
              "  <tbody>\n",
              "    <tr>\n",
              "      <th>no-recurrence-events</th>\n",
              "      <td>201</td>\n",
              "    </tr>\n",
              "    <tr>\n",
              "      <th>recurrence-events</th>\n",
              "      <td>85</td>\n",
              "    </tr>\n",
              "  </tbody>\n",
              "</table>\n",
              "</div><br><label><b>dtype:</b> int64</label>"
            ]
          },
          "metadata": {}
        }
      ]
    },
    {
      "cell_type": "markdown",
      "metadata": {
        "id": "fbc9ff9c"
      },
      "source": [
        "Based on the dataset information and previous analysis, the target variable is **'Class'**. This column indicates whether a patient had \"no-recurrence-events\" or \"recurrence-events\"."
      ]
    },
    {
      "cell_type": "markdown",
      "source": [
        "No missing data"
      ],
      "metadata": {
        "id": "n-KG_weWyPxi"
      }
    },
    {
      "cell_type": "code",
      "source": [],
      "metadata": {
        "colab": {
          "base_uri": "https://localhost:8080/",
          "height": 0
        },
        "id": "lcUcnkG4yCmd",
        "outputId": "f7abc955-e75e-4863-bce6-153a91e0f674"
      },
      "execution_count": 10,
      "outputs": [
        {
          "output_type": "stream",
          "name": "stdout",
          "text": [
            "Class          0\n",
            "age            0\n",
            "menopause      0\n",
            "tumor-size     0\n",
            "inv-nodes      0\n",
            "node-caps      0\n",
            "deg-malig      0\n",
            "breast         0\n",
            "breast-quad    0\n",
            "irradiat       0\n",
            "dtype: int64\n"
          ]
        }
      ]
    },
    {
      "cell_type": "code",
      "source": [
        "# Based on the breast_cancer.variables output:\n",
        "# 'age', 'menopause', 'tumor-size', 'inv-nodes', 'node-caps', 'breast', 'breast-quad', 'irradiat' are Categorical/Binary (Nominal)\n",
        "# 'deg-malig' is Integer (Linear)\n",
        "\n",
        "# Count the number of nominal and linear features\n",
        "nominal_count = 8\n",
        "linear_count = 1\n",
        "\n",
        "print(f\"Number of nominal (categorical/binary) features: {nominal_count}\")\n",
        "print(f\"Number of linear (integer) features: {linear_count}\")"
      ],
      "metadata": {
        "colab": {
          "base_uri": "https://localhost:8080/",
          "height": 0
        },
        "id": "IiLrCVe6ybKI",
        "outputId": "d8c838c8-170f-4b54-d170-72ee2dc96928"
      },
      "execution_count": 11,
      "outputs": [
        {
          "output_type": "stream",
          "name": "stdout",
          "text": [
            "Number of nominal (categorical/binary) features: 8\n",
            "Number of linear (integer) features: 1\n"
          ]
        }
      ]
    },
    {
      "cell_type": "code",
      "metadata": {
        "colab": {
          "base_uri": "https://localhost:8080/",
          "height": 613
        },
        "id": "30e2673c",
        "outputId": "6e0216d7-4ad1-487f-856d-33057b68f0e8"
      },
      "source": [
        "display(df.describe())"
      ],
      "execution_count": 12,
      "outputs": [
        {
          "output_type": "display_data",
          "data": {
            "text/plain": [
              "        deg-malig\n",
              "count  286.000000\n",
              "mean     2.048951\n",
              "std      0.738217\n",
              "min      1.000000\n",
              "25%      2.000000\n",
              "50%      2.000000\n",
              "75%      3.000000\n",
              "max      3.000000"
            ],
            "text/html": [
              "\n",
              "  <div id=\"df-391f9a29-f314-4f1e-ad78-2e83ffbef10c\" class=\"colab-df-container\">\n",
              "    <div>\n",
              "<style scoped>\n",
              "    .dataframe tbody tr th:only-of-type {\n",
              "        vertical-align: middle;\n",
              "    }\n",
              "\n",
              "    .dataframe tbody tr th {\n",
              "        vertical-align: top;\n",
              "    }\n",
              "\n",
              "    .dataframe thead th {\n",
              "        text-align: right;\n",
              "    }\n",
              "</style>\n",
              "<table border=\"1\" class=\"dataframe\">\n",
              "  <thead>\n",
              "    <tr style=\"text-align: right;\">\n",
              "      <th></th>\n",
              "      <th>deg-malig</th>\n",
              "    </tr>\n",
              "  </thead>\n",
              "  <tbody>\n",
              "    <tr>\n",
              "      <th>count</th>\n",
              "      <td>286.000000</td>\n",
              "    </tr>\n",
              "    <tr>\n",
              "      <th>mean</th>\n",
              "      <td>2.048951</td>\n",
              "    </tr>\n",
              "    <tr>\n",
              "      <th>std</th>\n",
              "      <td>0.738217</td>\n",
              "    </tr>\n",
              "    <tr>\n",
              "      <th>min</th>\n",
              "      <td>1.000000</td>\n",
              "    </tr>\n",
              "    <tr>\n",
              "      <th>25%</th>\n",
              "      <td>2.000000</td>\n",
              "    </tr>\n",
              "    <tr>\n",
              "      <th>50%</th>\n",
              "      <td>2.000000</td>\n",
              "    </tr>\n",
              "    <tr>\n",
              "      <th>75%</th>\n",
              "      <td>3.000000</td>\n",
              "    </tr>\n",
              "    <tr>\n",
              "      <th>max</th>\n",
              "      <td>3.000000</td>\n",
              "    </tr>\n",
              "  </tbody>\n",
              "</table>\n",
              "</div>\n",
              "    <div class=\"colab-df-buttons\">\n",
              "\n",
              "  <div class=\"colab-df-container\">\n",
              "    <button class=\"colab-df-convert\" onclick=\"convertToInteractive('df-391f9a29-f314-4f1e-ad78-2e83ffbef10c')\"\n",
              "            title=\"Convert this dataframe to an interactive table.\"\n",
              "            style=\"display:none;\">\n",
              "\n",
              "  <svg xmlns=\"http://www.w3.org/2000/svg\" height=\"24px\" viewBox=\"0 -960 960 960\">\n",
              "    <path d=\"M120-120v-720h720v720H120Zm60-500h600v-160H180v160Zm220 220h160v-160H400v160Zm0 220h160v-160H400v160ZM180-400h160v-160H180v160Zm440 0h160v-160H620v160ZM180-180h160v-160H180v160Zm440 0h160v-160H620v160Z\"/>\n",
              "  </svg>\n",
              "    </button>\n",
              "\n",
              "  <style>\n",
              "    .colab-df-container {\n",
              "      display:flex;\n",
              "      gap: 12px;\n",
              "    }\n",
              "\n",
              "    .colab-df-convert {\n",
              "      background-color: #E8F0FE;\n",
              "      border: none;\n",
              "      border-radius: 50%;\n",
              "      cursor: pointer;\n",
              "      display: none;\n",
              "      fill: #1967D2;\n",
              "      height: 32px;\n",
              "      padding: 0 0 0 0;\n",
              "      width: 32px;\n",
              "    }\n",
              "\n",
              "    .colab-df-convert:hover {\n",
              "      background-color: #E2EBFA;\n",
              "      box-shadow: 0px 1px 2px rgba(60, 64, 67, 0.3), 0px 1px 3px 1px rgba(60, 64, 67, 0.15);\n",
              "      fill: #174EA6;\n",
              "    }\n",
              "\n",
              "    .colab-df-buttons div {\n",
              "      margin-bottom: 4px;\n",
              "    }\n",
              "\n",
              "    [theme=dark] .colab-df-convert {\n",
              "      background-color: #3B4455;\n",
              "      fill: #D2E3FC;\n",
              "    }\n",
              "\n",
              "    [theme=dark] .colab-df-convert:hover {\n",
              "      background-color: #434B5C;\n",
              "      box-shadow: 0px 1px 3px 1px rgba(0, 0, 0, 0.15);\n",
              "      filter: drop-shadow(0px 1px 2px rgba(0, 0, 0, 0.3));\n",
              "      fill: #FFFFFF;\n",
              "    }\n",
              "  </style>\n",
              "\n",
              "    <script>\n",
              "      const buttonEl =\n",
              "        document.querySelector('#df-391f9a29-f314-4f1e-ad78-2e83ffbef10c button.colab-df-convert');\n",
              "      buttonEl.style.display =\n",
              "        google.colab.kernel.accessAllowed ? 'block' : 'none';\n",
              "\n",
              "      async function convertToInteractive(key) {\n",
              "        const element = document.querySelector('#df-391f9a29-f314-4f1e-ad78-2e83ffbef10c');\n",
              "        const dataTable =\n",
              "          await google.colab.kernel.invokeFunction('convertToInteractive',\n",
              "                                                    [key], {});\n",
              "        if (!dataTable) return;\n",
              "\n",
              "        const docLinkHtml = 'Like what you see? Visit the ' +\n",
              "          '<a target=\"_blank\" href=https://colab.research.google.com/notebooks/data_table.ipynb>data table notebook</a>'\n",
              "          + ' to learn more about interactive tables.';\n",
              "        element.innerHTML = '';\n",
              "        dataTable['output_type'] = 'display_data';\n",
              "        await google.colab.output.renderOutput(dataTable, element);\n",
              "        const docLink = document.createElement('div');\n",
              "        docLink.innerHTML = docLinkHtml;\n",
              "        element.appendChild(docLink);\n",
              "      }\n",
              "    </script>\n",
              "  </div>\n",
              "\n",
              "\n",
              "    <div id=\"df-86f65b60-5649-486b-8aba-5121f86889a1\">\n",
              "      <button class=\"colab-df-quickchart\" onclick=\"quickchart('df-86f65b60-5649-486b-8aba-5121f86889a1')\"\n",
              "                title=\"Suggest charts\"\n",
              "                style=\"display:none;\">\n",
              "\n",
              "<svg xmlns=\"http://www.w3.org/2000/svg\" height=\"24px\"viewBox=\"0 0 24 24\"\n",
              "     width=\"24px\">\n",
              "    <g>\n",
              "        <path d=\"M19 3H5c-1.1 0-2 .9-2 2v14c0 1.1.9 2 2 2h14c1.1 0 2-.9 2-2V5c0-1.1-.9-2-2-2zM9 17H7v-7h2v7zm4 0h-2V7h2v10zm4 0h-2v-4h2v4z\"/>\n",
              "    </g>\n",
              "</svg>\n",
              "      </button>\n",
              "\n",
              "<style>\n",
              "  .colab-df-quickchart {\n",
              "      --bg-color: #E8F0FE;\n",
              "      --fill-color: #1967D2;\n",
              "      --hover-bg-color: #E2EBFA;\n",
              "      --hover-fill-color: #174EA6;\n",
              "      --disabled-fill-color: #AAA;\n",
              "      --disabled-bg-color: #DDD;\n",
              "  }\n",
              "\n",
              "  [theme=dark] .colab-df-quickchart {\n",
              "      --bg-color: #3B4455;\n",
              "      --fill-color: #D2E3FC;\n",
              "      --hover-bg-color: #434B5C;\n",
              "      --hover-fill-color: #FFFFFF;\n",
              "      --disabled-bg-color: #3B4455;\n",
              "      --disabled-fill-color: #666;\n",
              "  }\n",
              "\n",
              "  .colab-df-quickchart {\n",
              "    background-color: var(--bg-color);\n",
              "    border: none;\n",
              "    border-radius: 50%;\n",
              "    cursor: pointer;\n",
              "    display: none;\n",
              "    fill: var(--fill-color);\n",
              "    height: 32px;\n",
              "    padding: 0;\n",
              "    width: 32px;\n",
              "  }\n",
              "\n",
              "  .colab-df-quickchart:hover {\n",
              "    background-color: var(--hover-bg-color);\n",
              "    box-shadow: 0 1px 2px rgba(60, 64, 67, 0.3), 0 1px 3px 1px rgba(60, 64, 67, 0.15);\n",
              "    fill: var(--button-hover-fill-color);\n",
              "  }\n",
              "\n",
              "  .colab-df-quickchart-complete:disabled,\n",
              "  .colab-df-quickchart-complete:disabled:hover {\n",
              "    background-color: var(--disabled-bg-color);\n",
              "    fill: var(--disabled-fill-color);\n",
              "    box-shadow: none;\n",
              "  }\n",
              "\n",
              "  .colab-df-spinner {\n",
              "    border: 2px solid var(--fill-color);\n",
              "    border-color: transparent;\n",
              "    border-bottom-color: var(--fill-color);\n",
              "    animation:\n",
              "      spin 1s steps(1) infinite;\n",
              "  }\n",
              "\n",
              "  @keyframes spin {\n",
              "    0% {\n",
              "      border-color: transparent;\n",
              "      border-bottom-color: var(--fill-color);\n",
              "      border-left-color: var(--fill-color);\n",
              "    }\n",
              "    20% {\n",
              "      border-color: transparent;\n",
              "      border-left-color: var(--fill-color);\n",
              "      border-top-color: var(--fill-color);\n",
              "    }\n",
              "    30% {\n",
              "      border-color: transparent;\n",
              "      border-left-color: var(--fill-color);\n",
              "      border-top-color: var(--fill-color);\n",
              "      border-right-color: var(--fill-color);\n",
              "    }\n",
              "    40% {\n",
              "      border-color: transparent;\n",
              "      border-right-color: var(--fill-color);\n",
              "      border-top-color: var(--fill-color);\n",
              "    }\n",
              "    60% {\n",
              "      border-color: transparent;\n",
              "      border-right-color: var(--fill-color);\n",
              "    }\n",
              "    80% {\n",
              "      border-color: transparent;\n",
              "      border-right-color: var(--fill-color);\n",
              "      border-bottom-color: var(--fill-color);\n",
              "    }\n",
              "    90% {\n",
              "      border-color: transparent;\n",
              "      border-bottom-color: var(--fill-color);\n",
              "    }\n",
              "  }\n",
              "</style>\n",
              "\n",
              "      <script>\n",
              "        async function quickchart(key) {\n",
              "          const quickchartButtonEl =\n",
              "            document.querySelector('#' + key + ' button');\n",
              "          quickchartButtonEl.disabled = true;  // To prevent multiple clicks.\n",
              "          quickchartButtonEl.classList.add('colab-df-spinner');\n",
              "          try {\n",
              "            const charts = await google.colab.kernel.invokeFunction(\n",
              "                'suggestCharts', [key], {});\n",
              "          } catch (error) {\n",
              "            console.error('Error during call to suggestCharts:', error);\n",
              "          }\n",
              "          quickchartButtonEl.classList.remove('colab-df-spinner');\n",
              "          quickchartButtonEl.classList.add('colab-df-quickchart-complete');\n",
              "        }\n",
              "        (() => {\n",
              "          let quickchartButtonEl =\n",
              "            document.querySelector('#df-86f65b60-5649-486b-8aba-5121f86889a1 button');\n",
              "          quickchartButtonEl.style.display =\n",
              "            google.colab.kernel.accessAllowed ? 'block' : 'none';\n",
              "        })();\n",
              "      </script>\n",
              "    </div>\n",
              "\n",
              "    </div>\n",
              "  </div>\n"
            ],
            "application/vnd.google.colaboratory.intrinsic+json": {
              "type": "dataframe",
              "summary": "{\n  \"name\": \"display(df\",\n  \"rows\": 8,\n  \"fields\": [\n    {\n      \"column\": \"deg-malig\",\n      \"properties\": {\n        \"dtype\": \"number\",\n        \"std\": 100.4231759856479,\n        \"min\": 0.7382166403717146,\n        \"max\": 286.0,\n        \"num_unique_values\": 6,\n        \"samples\": [\n          286.0,\n          2.0489510489510487,\n          3.0\n        ],\n        \"semantic_type\": \"\",\n        \"description\": \"\"\n      }\n    }\n  ]\n}"
            }
          },
          "metadata": {}
        },
        {
          "output_type": "display_data",
          "data": {
            "text/plain": [
              "<google.colab._quickchart_helpers.SectionTitle at 0x7d8f63414bf0>"
            ],
            "text/html": [
              "<h4 class=\"colab-quickchart-section-title\">Distributions</h4>\n",
              "<style>\n",
              "  .colab-quickchart-section-title {\n",
              "      clear: both;\n",
              "  }\n",
              "</style>"
            ]
          },
          "metadata": {}
        },
        {
          "output_type": "display_data",
          "data": {
            "text/plain": [
              "from matplotlib import pyplot as plt\n",
              "_df_0['deg-malig'].plot(kind='hist', bins=20, title='deg-malig')\n",
              "plt.gca().spines[['top', 'right',]].set_visible(False)"
            ],
            "text/html": [
              "      <div class=\"colab-quickchart-chart-with-code\" id=\"chart-2efce6d8-422c-48b2-93c8-b158370eb1ca\">\n",
              "        <img style=\"width: 180px;\" src=\"data:image/png;base64,iVBORw0KGgoAAAANSUhEUgAAAlgAAAHLCAYAAAAUfOasAAAAOnRFWHRTb2Z0d2FyZQBNYXRwbG90\n",
              "bGliIHZlcnNpb24zLjEwLjAsIGh0dHBzOi8vbWF0cGxvdGxpYi5vcmcvlHJYcgAAAAlwSFlzAAAP\n",
              "YQAAD2EBqD+naQAAOa9JREFUeJzt3Xd0VVXe//HPTUhCCqRQghRHEIMIIiAiJRqHIigCE5CmD+BY\n",
              "ItL8qSAyWOZBZgDhmfFRhMGZRQmg9CIjAkMXhy6EEkORBEIcEkgCJCSk3t8fWbkPMTchwL65ucn7\n",
              "tRbLyz377PMN7HX4eM4++1isVqtVAAAAMMbN2QUAAABUNgQsAAAAwwhYAAAAhhGwAAAADCNgAQAA\n",
              "GEbAAgAAMIyABQAAYBgBCwAAwDACFgAAgGEELAAaOnSomjVrpi5duji7FEh677331KxZMzVr1szu\n",
              "9s8//9y2/cKFC+VcHYCyIGABAAAYRsACAAAwjIAFAC5mzJgxOnnypE6ePKmGDRs6uxwAdhCwAAAA\n",
              "DCNgAQAAGFbN2QUAcKy8vDytWLFC33zzjU6fPq2cnBwFBwfriSee0EsvvVTmW0xWq1WbNm3Sxo0b\n",
              "dfToUSUnJ8vNzU3BwcFq3769XnjhBT344IO37Ofw4cOKjIzUwYMHlZqaqsDAQLVo0UJDhgxRWFiY\n",
              "Vq9erYkTJ0qSIiMj9fjjj9/Rz33hwgV17dpVkjR69GiNGTNGR48e1eLFi3Xw4EFdunRJQUFBatOm\n",
              "jV5//XU1b97ctm9aWpqWLl2q7777TvHx8crNzVWTJk3Uv39/DR48WG5uJf+/aXR0tLZt26Yff/xR\n",
              "Z8+eVUpKiqxWqwICAvTQQw+pe/fu6tOnjzw9Pe/o55IKniKcNWuWJGnr1q0l/h1mZmYqMjJSGzdu\n",
              "1Llz5yRJDRo0UNeuXTVs2DAFBQWpS5cuSkhIUPv27bVo0aI7rglAUQQsoBK7du2aIiIidPjw4SLf\n",
              "x8XFKS4uTmvXrtVnn312y37+85//aMyYMTp27FixbbGxsYqNjdXy5cs1YsQIvfnmm7JYLHb7mTVr\n",
              "lmbNmiWr1Wr7LikpSUlJSdq+fbuGDh2qhx566DZ/yrJZvHixpk6dqtzcXNt3Fy9e1HfffaetW7fq\n",
              "888/11NPPaWff/5Zb7zxhi2QFDp+/LiOHz+u/fv3669//avdn3HLli0aNWqU3eMX/pw7duzQokWL\n",
              "NGfOHNWvX9/sD3mT+Ph4vfzyyzp//nyR70+dOqVTp05p9erV+vLLLx12fKCqI2ABlZTVatWoUaNs\n",
              "4app06b6/e9/r5CQEN24cUO7d+/WwoUL9f/+3/9TYGBgif1cunRJgwYNUmJiotzd3fXss8/qySef\n",
              "VMOGDeXu7q6YmBgtWbJEJ0+e1Jw5c+Tp6amRI0cW62fp0qX6/PPPJUk+Pj4aPny4OnfuLC8vL505\n",
              "c0YLFizQokWL1KZNG+N/Frt371ZUVJSaNm2q4cOHq1mzZsrOztb27ds1f/58ZWdna8KECVq7dq1e\n",
              "e+01paam6rXXXlNoaKhq1KihU6dO6fPPP1dCQoK+++47hYWFKTw8vNhxcnNz5ePjoyeffFLt27dX\n",
              "kyZN5O/vr7S0NCUkJGjt2rXat2+fYmJiNGrUKC1fvlweHh7Gf96MjIwi4apdu3Z64YUX9Jvf/EZp\n",
              "aWnaunWrli5dqjFjxigzM9P48QEQsIBKa/Xq1dq/f78kqX379vrHP/4hLy8v2/b27dure/fuGjZs\n",
              "mOLi4krs57333lNiYqJq166tefPmFVv88pFHHlG/fv309ttva/PmzZo9e7b69u2rBg0a2NqkpqZq\n",
              "+vTpkiRfX1999dVXRW4ntmrVSs8995xef/11/fvf/zbx4xdx5MgRhYaG2gJgoXbt2ikwMFAzZszQ\n",
              "lStX1L9/f2VlZenrr78uUl+LFi3Uvn179erVS5mZmVq0aJHdgPXoo4/q+++/l5+fn906+vXrp+XL\n",
              "l+uDDz5QdHS0NmzYoL59+xr/eefMmWMLV+Hh4Zo6dWqRK24dO3bUb3/7W7322mvKy8szfnwATHIH\n",
              "Kq3C+TTVqlXT1KlTi4SrQg8//LAiIiJK7OPo0aPavXu3JGnSpEklrizu4eGhyZMny8PDQzk5OVq1\n",
              "alWR7WvXrlVGRoYkacSIEXbnanl6emrq1KkOuaLj6empadOm2Z33NGTIENv3ycnJGjt2rN36Cucu\n",
              "SQXzrNLT04u1qVOnTonhqtDAgQNt8702b9582z/LrWRnZ2v58uWSpKCgIH3wwQd2b2d27txZAwcO\n",
              "NH58AAUIWEAllJycrJ9++kmS1KFDh1Insg8YMKDEbYUBwNPTU927dy/1mIGBgQoJCZEk/fjjj0W2\n",
              "FYY0qeAqTknq1aunzp07l3qcO9GpUyfVqVPH7jZfX1/dd999tt/37t27xH5atGghqeD2a1leUZOT\n",
              "k6PExET9/PPPtrlPp06dUnBwsKSCoGZadHS0rly5Iknq0aOHfH19S2zbv39/48cHUIBbhEAlFBMT\n",
              "Y/v8yCOPlNq2du3aatCggRISEoptO3r0qKSCqyItW7Ys8/EvXbpU5PcnT56UVHAVqHbt2qXu+/DD\n",
              "D2vHjh12t8XHx5c4Z8jDw0ONGze2u61JkyalHrNmzZqSCkJiUFDQLdtJsnsFq/D7JUuWaOPGjban\n",
              "NkuSmppaal13ovDPWiq49Vqa5s2b2646AjCLgAVUQoVXMCSpVq1at2xfp04duwErJSXljo7/6xB0\n",
              "9epVSSo1vBQqLYD94Q9/sM0r+7UGDRpo27Ztdrf5+PiUeszCZRfK2k6S3blLZ86c0SuvvKKLFy+W\n",
              "2k8hR0wwL/yzlm79d1+tWjUFBAQUC8QA7h4BC0CJCpc08Pf31+LFi8u8nyPmUVV0ubm5GjNmjC1c\n",
              "Pffcc+rdu7eaNm2qWrVqycvLyxbQ3n33Xa1bt86Z5QJwMAIWUAkFBATYPicnJ9+yfUlXMIKCghQb\n",
              "G6vr16+rcePGdxyc/P39denSpTJdEbt8+XKJ2yryQph79+7V2bNnJUmvvvqqxo8fX2Lbm68ymebv\n",
              "72/7fKu/+9zc3CJXOwGYwyR3oBK6+Sm4qKioUttevnzZ7u1B6f8mdefm5hZbrPR2FD59mJCQcMt/\n",
              "9I8fP37Hx3GmU6dO2T6XNlE+Pz/foT/jzU962lsY9mYxMTHMvwIchIAFVEK1atWyLQWwd+/eUp94\n",
              "W7FiRYnbevToYfs8b968O64nNDTU9nnNmjUltktMTCzyxKEruXmF+NLmVn333XelXqW7Ww899JDt\n",
              "CuamTZtsy2PYs3r1aofVAVR1BCygkho6dKikgn/4J06cqKysrGJtjh07VurrUtq1a6dOnTpJkrZv\n",
              "366//OUvRV5z82v5+fnauHGjzpw5U+T73/3ud7YJ5HPmzCnypFuhnJwc/eEPf3DZKyo3P6m4cuVK\n",
              "u21iYmI0efJkh9bh6elpW98qOTlZU6ZMsdtuz549WrZsmUNrAaoy5mABlVS/fv20du1a7d+/X/v3\n",
              "71f//v3tvirHy8tLdevWLXE1908++USDBg1SQkKC5s6dqx07dqhfv35q0aKF/Pz8dP36dV24cEFR\n",
              "UVH617/+pUuXLmn+/Plq2rSprY/AwEBNmDBBH330kdLT0zV48GC99NJLxV6VExMTozZt2thuR5b0\n",
              "TsOKKDQ0VHXr1lVSUpJWrlypK1euKDw8XPXq1dPVq1e1a9cuLV26VBaLRS1atNCJEyccVssbb7yh\n",
              "jRs36vz581q1apXi4+M1ZMgQ/eY3v9G1a9e0fft2ffXVV6pfv77S09Pv+GlRACUjYAGVlMVi0Rdf\n",
              "fGF72fPp06f1hz/8oUibGjVq6NNPP9Xs2bNLDFh16tTRsmXL9O677+rf//63Tp48qalTp5Z4XHd3\n",
              "d3l7exf7fvDgwbp8+bJmzZqljIwMzZ49W7Nnzy7SZujQoXrwwQdtAcve6vMVVfXq1fXXv/5VERER\n",
              "un79urZs2aItW7YUaePn56eZM2dq06ZNDg1YPj4+mjdvnu19hIUh+2bBwcH6/PPPNWLECEmu9WcN\n",
              "uAICFlCJ1axZU0uWLNGKFSu0du1anTlzRjk5OapXr56eeOIJvfTSS2rYsGGxoPNrderU0fz587V/\n",
              "/36tX79eP/74oxITE5WRkaHq1aurXr16euCBB9ShQwd17969xLWsRo8erU6dOikyMlIHDx7UlStX\n",
              "FBAQoJYtW2rIkCEKCwvT/Pnzbe1v9dqZiqZdu3Zat26d/vGPf+iHH37QxYsX5eXlpXvuuUdPPPGE\n",
              "hg4dqvr162vTpk0Or6VRo0b65ptvFBkZqY0bN9oCdOErf4YPH66goCBdu3ZNUkHYBmCOxVrahAoA\n",
              "KGcTJ07U6tWr5eHhoR9//NHu+wNhRkJCgrp06SJJGjVqlMaOHevkioDKg0nuACqM9PR02221li1b\n",
              "Eq4cbO3atbbPbdu2dV4hQCVEwAJQLvLz83X+/PkSt2dnZ2vixIm2W1a8iPjuxMfHF1k64tcOHjyo\n",
              "uXPnSiq4bVj4tCgAM5iDBaBc5OTkqGfPngoNDVVYWJhCQkLk5+en9PR0HT9+XMuWLVNsbKykghdU\n",
              "h4eHO7li17Zs2TL985//1DPPPKNHH31UwcHBkqRffvlFO3bs0Pr1621LYrz//vtF3rMI4O4xBwtA\n",
              "ucjKylKrVq1u2a5Nmzb64osvyvSSapRs5syZ+vvf/15qGw8PD3300UcaMGBAOVUFVB0ELADlwmq1\n",
              "avv27frhhx90+PBhXb58WVeuXJHFYlFQUJAefvhhPfPMM+rRowdXUwxISEjQv/71L+3Zs0dxcXFK\n",
              "TU3V9evX5efnp0aNGqlDhw568cUXdc899zi7VKBSImABAAAYxv8mAgAAGEbAKkFiYqLR/rKysnTo\n",
              "0CG774MDHIVxB2dg3MEZCsddRUHAKkF2drbR/vLy8or8FygPjDs4A+MOzlDRxhsBCwAAwDACFgAA\n",
              "gGEELAAAAMMIWAAAAIYRsAAAAAwjYAEAABhGwAIAADCMgAUAAGAYAQsAAMAwAhYAAIBhBCwAAADD\n",
              "CFgAAACGEbAAAAAMI2ABAAAYRsACAAAwjIBVziwWi7NLAAAADkbAKkceHh7y9PJyWP/5+VaH9Q0A\n",
              "AMqumrMLqEqqVasmdzc3zVxySBcS04z23TC4hsa9+KjRPgEAwJ0hYDnBhcQ0/Zxw1dllAAAAB+EW\n",
              "IQAAgGEELAAAAMMIWAAAAIYRsAAAAAwjYAEAABhGwAIAADCMgAUAAGAYAQsAAMAwAhYAAIBhBCwA\n",
              "AADDCFgAAACGEbAAAAAMI2ABAAAYRsACAAAwjIAFAABgGAELAADAMAIWAACAYQQsAAAAwwhYAAAA\n",
              "hhGwAAAADCNgAQAAGEbAAgAAMIyABQAAYBgBCwAAwDACFgAAgGEELAAAAMMIWAAAAIYRsAAAAAwj\n",
              "YAEAABhGwAIAADCMgAUAAGAYAQsAAMAwAhYAAIBhBCwAAADDCFgAAACGEbAAAAAMI2ABAAAYVs3Z\n",
              "Bdypo0ePatWqVdq7d6+SkpIkSXXq1FHTpk3Vvn17DR48WNWrV3dylQAAoCpyuYCVm5urjz/+WMuW\n",
              "LZPVai2y7dy5czp37py2bt2qbt26qWHDhk6qEgAAVGUuFbDy8/P11ltvafPmzZKk5557Ts8//7zu\n",
              "v/9+eXh4KCEhQf/+97+1fv16J1cKAACqMpcKWIsWLdLmzZtlsVg0bdo0/e53vyuyPTAwUC1btlRE\n",
              "RIRzCgQAAJALTXJPT0/Xp59+KkkKDw8vFq4AAAAqCpcJWN98840yMjIkSS+99JJziwEAACiFywSs\n",
              "nTt3Sip4UrBZs2a2761Wq3Jzc51VFgAAQDEuMwfr2LFjkqQHHnhAVqtVK1as0NKlS3Xq1Cnl5uaq\n",
              "du3a6tChg1555RU1b97cydUCAICqzCWuYGVlZSk5OVmS5OfnpzFjxuiDDz7QiRMnlJOTI6vVqkuX\n",
              "Lmn9+vXq37+/lixZ4uSKAQBAVeYSV7CuXbtm+7x9+3bl5OSoVatWGjdunB555BFlZ2fr+++/1/Tp\n",
              "05WYmKiPP/5Y9957r5544ok7PmZeXp5tzpcJmZmZxvq61XF+vT4Yqq7CcVde4w+QGHdwjoo23lwi\n",
              "YOXn59s+5+TkKCQkRIsWLbKt1F69enX16tVLLVq0UHh4uDIyMvQ///M/dxWwkpOTbVfNTPH29jba\n",
              "nz2xsbEVbpDB+eLi4pxdAqogxh2qMpcIWL6+vkV+/8Ybb9h9Dc59992n8PBwLVmyRD/99JPi4+PV\n",
              "qFGjOzpmrVq1VLdu3Tva157MzEwlJiYa668kjRs35goWbDIzMxUXF6f77ruvXAI+IDHu4ByF466i\n",
              "cImA5ePjI09PT2VnZ0uSHnvssRLbtmvXzjYH68yZM3ccsNzd3eXj43NH+zoTJzPY4+3t7ZLjGa6N\n",
              "cYeqzCUmubu5ualJkya23/v7+5fYNiAgwPY5PT3dkWUBAADY5RIBS5JatWpl+5yamlpiu5u31axZ\n",
              "06E1AQAA2OMyAatbt262z/v27Sux3c3bWA8LAAA4g8sErNDQUN1///2SpNmzZ9u9/Xf69GmtW7dO\n",
              "ktS+fXujk9QBAADKymUClru7uz744ANVq1ZNsbGxevHFF7Vjxw6lpKQoMTFRK1as0LBhw3Tjxg15\n",
              "eXnpvffec3bJAACginKJpwgLdezYUX/+85/14YcfKiYmRq+//nqxNn5+fvrLX/6iFi1aOKFCAAAA\n",
              "FwtYktS3b1898sgjioyM1O7du5WYmCg3Nzc1bNhQYWFhGjZsGLcGAQCAU7lcwJIKFhT98MMPnV0G\n",
              "AACAXS4zBwsAAMBVELAAAAAMI2ABAAAYRsACAAAwjIAFAABgGAELAADAMAIWAACAYQQsAAAAwwhY\n",
              "AAAAhhGwAAAADCNgAQAAGEbAAgAAMIyABQAAYBgBCwAAwDACFgAAgGEELAAAAMMIWAAAAIYRsAAA\n",
              "AAwjYAEAABhGwAIAADCMgAUAAGAYAQsAAMAwAhYAAIBhBCwAAADDCFgAAACGEbAAAAAMI2ABAAAY\n",
              "RsACAAAwjIAFAABgGAELAADAMAIWAACAYQQsAAAAwwhYAAAAhhGwAAAADCNgAQAAGGYsYK1fv17Z\n",
              "2dmmugMAAHBZxgLW+PHj9eSTT2r69OmKjY011S0AAIDLMXqL8OrVq1qwYIGeffZZDRs2TBs2bFBO\n",
              "To7JQwAAAFR4xgLWH//4RzVv3lxWq1VWq1UHDhzQO++8o7CwMM2YMUPnzp0zdSgAAIAKzVjAGjx4\n",
              "sFavXq2VK1dqwIAB8vb2ltVqVUpKiubNm6eePXvqpZde0saNG5Wbm2vqsAAAABVONdMdtmzZUi1b\n",
              "ttTEiRO1fv16LV++XCdOnJAk7du3T/v27VNQUJD69++vAQMGqFGjRqZLAAAAcCqHLdPg4+OjQYMG\n",
              "adWqVVqzZo0GDhwoHx8fWa1WJScn6+9//7t69Oihl19+WZs3b1ZeXp6jSgEAAChX5bIOVvPmzTV5\n",
              "8mTt3r1bH3/8sR5++GFZrVbl5+drz549evPNNxUWFqZPP/1UFy9eLI+SAAAAHKZcFxr19vbWs88+\n",
              "q/DwcNWpU0cWi0WSZLVadfnyZc2dO1fdunXThx9+qCtXrpRnaQAAAMYYn4NVkqNHj2rZsmXasGGD\n",
              "bty4IakgWPn4+KhHjx46efKkoqOjlZubqxUrVmj37t36+uuvFRwcXF4lAgAAGOHQgJWenq5169Zp\n",
              "+fLlOnXqlKSCUCVJzZo10+DBg9WnTx/5+vpKko4fP645c+Zo69at+s9//qMvvvhCkydPdmSJAAAA\n",
              "xjkkYP34449asWKFNm7cWORqlaenp3r27KkhQ4aoTZs2xfZr2bKlvvjiC/35z39WZGSkdu/e7Yjy\n",
              "AAAAHMpYwLp27ZrWrl2rFStW6MyZM5L+72rVvffeq0GDBqlfv34KDAy8ZV99+/ZVZGSkEhMTTZUH\n",
              "AABQbowFrCeeeML2smer1Sp3d3f99re/1eDBgxUaGnpbfdWoUUOSlJ+fb6o8AACAcmMsYGVlZUmS\n",
              "6tatqwEDBmjgwIF3PEHd399fo0ePNlUaAABAuTIWsDp27KghQ4aoa9eucnd3v6u+CFgAAMCVGQtY\n",
              "8+fPN9UVAACASyvXhUYBAACqAmNXsNLS0rRw4UJJ0sCBA1W3bt1S2ycmJmrFihWSpFdeeUXe3t6m\n",
              "SgEAAHAqYwFrw4YNmjVrlho2bKhRo0bdsn3dunW1du1aJSQkqH79+urXr5+pUgAAAJzK2C3C3bt3\n",
              "y2Kx6Omnn7a9Y7A0FotFPXv2lNVq1c6dO02VAQAA4HTGAtZPP/0kSWrbtm2Z9ylczT0mJsZUGQAA\n",
              "AE5nLGBdunRJknTPPfeUeZ969epJEiu2AwCASsX4U4R5eXm33fZ29gEAAKjojAWswncMnj9/vsz7\n",
              "FLYNCAgwVQYAAIDTGQtYDz74oCRp06ZNZd7nu+++kySFhISYKgMAAMDpjAWssLAwWa1WbdmyRVu2\n",
              "bLll+y1btmjr1q2yWCx66qmnTJUBAADgdMYCVr9+/VS7dm1J0ltvvaU5c+YoPT29WLv09HTNmTNH\n",
              "b731liQpKChIAwYMMFUGAACA0xlbaNTLy0szZszQq6++qtzcXH322Wf629/+pubNmys4OFiSlJSU\n",
              "pOjoaGVnZ8tqtapatWqaOXOmqlevbqoMAAAApzMWsCSpY8eOmj17tt59911dvXpVWVlZioqKKtLG\n",
              "arVKkvz9/TVz5kx17NjRZAkAAABOZzRgSQVzsTZv3qxFixZp27ZtiomJUX5+viTJzc1NzZs3V/fu\n",
              "3fXiiy+qZs2apg8PAADgdMYDllRwdWr06NEaPXq08vLydPXqVdv37u7ujjgkAABAheGQgHUzd3d3\n",
              "BQUFOfowAAAAFYbxldwBAACqOgIWAACAYcZvEVqtVu3atUv79u1TfHy80tPTb/muQYvFooULF5ou\n",
              "BQAAwCmMBqyYmBi9/fbbio2NLfM+VqtVFovFZBkAAABOZSxgJSYmavjw4bp27ZptrStvb28FBAQQ\n",
              "oAAAQJViLGB9+eWXunr1qiwWi5577jm9/vrreuCBB0x1DwAA4DKMBazvv/9eFotFTz/9tGbOnGmq\n",
              "WwAAAJdj7CnCixcvShIvbgYAAFWesYDl7e0tSapdu7apLgEAAFySsYB1//33SyqY7A4AAFCVGQtY\n",
              "vXv3ltVq1b/+9S9TXQIAALgkYwFr4MCBeuSRR7R27Vrt3LnTVLcAAAAux1jAcnd319y5c9W6dWuN\n",
              "GjVKf/rTn3TixAnduHHD1CHsysrKUo8ePdSsWTM1a9ZMQ4cOdejxAAAAbsXYMg3Nmze3fbZarVq8\n",
              "eLEWL15cpn0tFouio6Pv6LizZs1SXFzcHe0LAADgCMYCVuHq7SX93hF++uknzZs3TzVr1pTFYtHV\n",
              "q1cdfkwAAIBbMRawwsPDTXVVJnl5eZo0aZJyc3M1btw4zZ07l4AFAAAqBGMBa+rUqaa6KpP58+fr\n",
              "xIkTatu2rQYOHKi5c+eW6/EBAABKYmySe3k6f/68Pv/8c3l4eGjy5Mm8TBoAAFQoLhmwPvzwQ924\n",
              "cUOvvPIKL5QGAAAVjrFbhPYkJibq0qVLunHjhlq2bKnq1avfdZ8rV67Unj17dO+992rkyJEGqgQA\n",
              "ADDLeMDKysrSggULtHz5cv3yyy+279evX6+mTZvafr9hwwbt2LFDNWvW1Pvvv1+mvi9fvqxPPvlE\n",
              "kvTHP/5RXl5eZosHAAAwwGjASkpKUkREhE6ePFlkmQZ7c6SaNWumt99+WxaLRX379tXDDz98y/4n\n",
              "T56sq1evqnfv3urcubPJ0ovJy8tTRkaGsf4yMzON9XWr45THEhlwDYXjrrzGHyAx7uAcFW28GQtY\n",
              "+fn5Gj16tGJiYmSxWPT000/r8ccf18cff2y3/f33369WrVrp2LFj2rFjxy0D1pYtW7Rp0yb5+/tr\n",
              "4sSJpsouUXJyspKTk4326e3tbbQ/e2JjYyvcIIPzsRgvnIFxh6rMWMD65z//qaNHj8rNzU1//etf\n",
              "1aNHD0kqMWBJ0lNPPaWjR4/q8OHDpfadlpam//7v/5YkjR8/XrVq1TJVdolq1aqlunXrGusvMzNT\n",
              "iYmJxvorSePGjbmCBZvMzEzFxcXpvvvuK5eAD0iMOzhH4birKIwFrA0bNshisahPnz62cHUrha/X\n",
              "iY2NLbXdrFmzlJSUpHbt2un555+/61rLwt3dXT4+PuVyLJM4mcEeb29vlxzPcG2MO1RlxgLWiRMn\n",
              "JKnM4UqS7UpUampqqe3i4+MlSQcPHtSDDz5Yatv9+/erWbNmkqRhw4Zp0qRJZa4HAADABGPrYF25\n",
              "ckWSVK9evTLvU61aQb7Ly8szVQYAAIDTGbuC5ePjo2vXriklJaXM+yQlJUmS/P39S203ceJEjRkz\n",
              "ptQ2r732mi5duqQWLVroT3/6kyQpKCiozLUAAACYYixg1atXT9euXdO5c+fKvITC3r17JRVMzC5N\n",
              "o0aNbtmXp6enJMnX19c2twsAAMAZjN0i7NChg6xWq1asWFGm9klJSVq1apUsFos6duxoqgwAAACn\n",
              "MxawBg0aJHd3d8XExGjBggWltk1MTNSIESOUlpYmT09PDRw40FQZAAAATmfsFmGTJk30+9//Xv/4\n",
              "xz80ffp07dmzR7169bJtP3DggI4dO6YDBw7ou+++040bN2SxWDRq1CjVrl3bVBkAAABOZ/RVOe+8\n",
              "845SU1O1atUq7dq1S7t27bK9Jmfy5Mm2doULYQ4ePFgRERFGjr1t2zYj/QAAANwtowHLYrHoT3/6\n",
              "kzp16qQ5c+bozJkzdtvde++9GjNmjHr37m3y8AAAABWC0YBVqFevXurVq5fOnj2ro0ePKiUlRbm5\n",
              "uQoKClLLli1vuVgoAACAK3NIwCrUpEkTNWnSxJGHAAAAqHCMPUUIAACAAgQsAAAAw4zdIjxw4MBd\n",
              "7f/YY48ZqgQAAMC5jAWsoUOH2pZkuF0Wi0XR0dGmSgEAAHAqo5PcC9e3AgAAqMqMBaypU6fesk1G\n",
              "RoZ+/vlnbdq0ScnJyWrXrp369+9vqgQAAIAKwVjACg8PL3Pbd999V5MmTdKGDRvUqVMnjRw50lQZ\n",
              "AAAATueUpwirV6+uTz75RM2bN9esWbN0+PBhZ5QBAADgEE5bpsHd3V0vvvii8vPztXjxYmeVAQAA\n",
              "YJxT18EKCQmRJB06dMiZZQAAABjl1IBV+NRhcnKyM8sAAAAwyqkBa+/evZKkGjVqOLMMAAAAo5wW\n",
              "sPbt26e5c+fKYrGoVatWzioDAADAOGPLNMyaNeuWbaxWq65evapjx47p6NGjslqtslgsGjp0qKky\n",
              "AAAAnM5owLqdV+UUhqvRo0erc+fOpsoAAABwOqe8Ksff31+PP/64hg0bpnbt2pksAQAAwOmMBayt\n",
              "W7feso27u7t8fX2Z1A4AACo1YwGrQYMGproCAABwaU5dpgEAAKAyImABAAAYRsACAAAwzNgcrGHD\n",
              "hpnqysZisWjhwoXG+wUAAHAkYwFr//79slgstvWtyqK0trfTDwAAQEViLGDVr19fknTjxg2lpqba\n",
              "1sTy8PCQv7+/JOnq1avKycmRVHB1KigoSNWrVzdVAgAAQIVgLGBt27ZNMTExGjNmjK5cuaLnn39e\n",
              "AwYM0EMPPaRq1QoOk5ubq+joaC1fvlyrV6+Wn5+fZs2apZCQEFNlAAAAOJ2xgJWSkqKIiAilpKRo\n",
              "zpw5CgsLK36watXUqlUrtWrVSt26ddPo0aMVERGhNWvWKDAw0FQpAAAATmXsKcKFCxcqKSlJgwYN\n",
              "shuufu2pp57SwIEDdfHiRSayAwCASsVYwNq2bZssFou6detW5n26d+8uqWyv2QEAAHAVxgJWQkKC\n",
              "JNkmtJdFYdtffvnFVBkAAABOZyxgFS6pEBcXV+Z9bqctAACAqzAWsO677z5J0uLFi8vU3mq1atGi\n",
              "RUX2BQAAqAyMBayePXvKarXq8OHDGjdunNLT00tse/36dY0fP16HDx+WxWLRs88+a6oMAAAApzO2\n",
              "TMPw4cO1atUqxcXF6dtvv9Xu3bvVs2dPPfLII6pVq5YkKTk5WVFRUdq4caOuXr0qSWrcuLGGDh1q\n",
              "qgwAAACnMxawPD09NX/+fL388suKjY3VlStXtGzZMi1btqxY28JV3ps0aaJ58+bJ09PTVBkAAABO\n",
              "Z+wWoSTdc889Wrt2rUaOHKmgoCBZrVa7v4KCgjRq1CitWbNG9erVM1kCAACA0xm7glXIy8tLY8eO\n",
              "1ciRIxUdHa2TJ08qNTVVkhQYGKhmzZoVeX0OAABAZeOwlHPza3EAAACqEqO3CAEAAODAK1jZ2dk6\n",
              "fvy4Ll26pMzMTHXr1k1+fn6OOhwAAECFYTxgpaSk6NNPP9W6deuUnZ1t+75ly5Zq2rSp7fcrV67U\n",
              "mjVrVKNGDf3tb38zXQYAAIDTGL1FePbsWfXr108rVqxQVlaW7alBe0JDQ3XkyBHt3LlT+/fvN1kG\n",
              "AACAUxkLWNnZ2XrjjTd08eJFeXp66ve//32pV6bq1aunxx57TJK0a9cuU2UAAAA4nbFbhCtXrtS5\n",
              "c+fk4eGh+fPnq23btrfcp3Pnztq7d6+ioqJMlQEAAOB0xq5gbdmyRRaLRYMGDSpTuJKkBx98UJJ0\n",
              "7tw5U2UAAAA4nbGAdfLkSUnSU089VeZ9AgMDJcn2XkIAAIDKwFjAKgxJhS92BgAAqKqMBazCNa6S\n",
              "kpLKvM9//vMfSZK/v7+pMgAAAJzOWMBq1KiRpIKlGsrq+++/lyQ98MADpsoAAABwOmMBq1OnTrJa\n",
              "rfr666+Vn59/y/Znz57VunXrZLFY9MQTT5gqAwAAwOmMBawXXnhBnp6eio+P1/Tp00tcYFSSjh8/\n",
              "rtdee01ZWVny9fXV888/b6oMAAAApzO2DlZwcLDeeecdTZ06VZGRkdq7d6969uxp2/7tt9/K3d1d\n",
              "Bw4c0IEDB5Sfny+LxaJJkybxjkIAAFCpGH0X4fDhw5Wenq4vvvhCJ0+e1KlTp2SxWCSpyKruVqtV\n",
              "FotFb731lsLDw02WAAAA4HRG30UoSaNGjdLixYv15JNPyt3d3fY+wsJfFotFHTp00KJFixQREWH6\n",
              "8AAAAE5n9ApWobZt2+rLL79URkaGoqOjlZycrLy8PAUGBuqhhx5iWQYAAFCpGQtYU6dOlSQ99thj\n",
              "6tatmyTJx8dH7dq1M3UIAAAAl2AsYC1cuNB2+w8AAKAqMzYHq/C2X7169Ux1CQAA4JKMBawGDRpI\n",
              "klJTU011CQAA4JKMBawuXbrIarVq165dproEAABwScYC1tChQ1WnTh19/fXXOnr0qKluAQAAXI7R\n",
              "OVhz585VUFCQhg0bps8++0znz5831T0AAIDLMPYUYdeuXSVJN27c0I0bNzRnzhzNmTNH3t7e8vf3\n",
              "l5tbyVnOYrFoy5YtpkoBAABwKmMBKyEhQRaLxfaS58L/ZmRkKCMjo9R9C1+nAwAAUBkYC1iPPfaY\n",
              "qa4AAABc2h0FrPT0dEmSn5+f7btFixaZqQgAAMDF3dEk93bt2ql9+/Y6c+aM3e3Z2dmKiYlRTEzM\n",
              "XRUHAADgiu74FmHhHCt7zp07p9/97ndyc3NTdHT0nR4CAADAJRlbpsGe0kIYAABAZeXQgAUAAFAV\n",
              "EbAAAAAMI2ABAAAYRsACAAAwjIAFAABgGAELAADAsLt6Vc7EiRPl7e1d7PvMzEzb52HDht2yH4vF\n",
              "ooULF95NKQAAABXGXQWs48ePl7it8AXOBw4cKLUPq9XKy54BAECl4pCV3B0hNzdX+/bt0+7du3Xk\n",
              "yBHFxsYqLS1N3t7euvfee9WpUycNGTJEDRo0KNe6AAAAfu2OAtbWrVtN13FL4eHhOnXqVLHv09LS\n",
              "dOLECZ04cUKLFy/WRx99pPDw8HKvDwAAoNAdBSxnXCW6fv26LBaLOnXqpJ49e6pNmzaqU6eO0tLS\n",
              "tGvXLn322We6cuWKJk6cqKCgIIWFhZV7jQAAANJdzsEqTz169NCAAQPUpEmTIt8HBAToxRdfVIcO\n",
              "HfT8888rIyNDM2bMIGABAACncZllGiZMmFAsXN3s/vvvV79+/SRJp0+f1i+//FJepQEAABThMgGr\n",
              "LB544AHb58TERCdWAgAAqrJKFbCSk5Ntn/38/JxYCQAAqMoqVcDavHmzJMnf37/U24kAAACOVGkC\n",
              "1qpVqxQTEyNJGjhwoNzd3Z1cEQAAqKpc5inC0pw+fVpTpkyRVLCExOuvv37Xfebl5SkjI+Ou+yl0\n",
              "8+uDHCkzM7PcF4FFxVU47spr/AES4w7OUdHGm8sHrJSUFI0cOVIZGRny8PDQzJkzVaNGjbvuNzk5\n",
              "ucicLhPsvbfRtNjY2Ao3yOB8cXFxzi4BVRDjDlWZSwes9PR0vfrqqzp//rzc3Nw0Y8YMtW3b1kjf\n",
              "tWrVUt26dY30JRUk6/J4srFx48ZcwYJNZmam4uLidN9995VLwAckxh2co3DcVRQuG7AyMzMVERGh\n",
              "EydOyGKxaMqUKXrmmWeM9e/u7i4fHx9j/ZUXTmawx9vb2yXHM1wb4w5VmUtOcs/OztaoUaN06NAh\n",
              "SdL777+v/v37O7kqAACAAi4XsHJycjR27Fj98MMPkqR33nlH//Vf/+XkqgAAAP6PSwWsvLw8jRs3\n",
              "Ttu3b5ckjRgxQhEREU6uCgAAoCiXCVhWq1WTJk3Sxo0bJUnDhw/XW2+95eSqAAAAinOZSe5TpkzR\n",
              "mjVrJEm9e/fWm2++qevXr5fY3svLS9WqucyPBwAAKhGXSSCLFy+2fV6/fr3Wr19favupU6eqX79+\n",
              "ji4LAACgGJe5RQgAAOAqXOYK1smTJ51dAgAAQJlwBQsAAMAwAhYAAIBhBCwAAADDCFgAAACGEbAA\n",
              "AAAMI2ABAAAYRsACAAAwjIAFAABgGAELAADAMAIWAACAYQQsAAAAwwhYAAAAhhGwAAAADCNgAQAA\n",
              "GEbAAgAAMIyABQAAYBgBCwAAwDACFgAAgGEELAAAAMMIWAAAAIYRsAAAAAwjYAEAABhGwAIAADCM\n",
              "gAUAAGAYAQsAAMAwAhYAAIBhBCwAAADDCFgAAACGEbAAAAAMI2ABAAAYRsACAAAwjIAFAABgGAEL\n",
              "AADAMAIWAACAYQQsAAAAwwhYAAAAhhGwAAAADCNgAQAAGEbAAgAAMIyABQAAYBgBCwAA2JWfb3Wp\n",
              "fiuSas4uAAAAVExubhbNXHJIFxLTjPXZMLiGxr34qLH+KioCFgAAKNGFxDT9nHDV2WW4HG4RAgAA\n",
              "GEbAAgAAMIyABQAAYBgBCwAAwDACFgAAgGEELAAAAMMIWAAAAIYRsAAAAAwjYAEAABhGwAIAADCM\n",
              "gAUAAGAYAQsAAMAwAhYAAIBhBCwAAADDCFgAAACGEbAAAAAMI2ABAAAYRsACAAAwjIAFAABgGAEL\n",
              "AADAMAIWAACAYQQsAAAAwwhYAAAAhhGwAAAADCNgAQAAGEbAAgAAMIyABQAAYBgBCwAAwDACFgAA\n",
              "gGEELAAAAMMIWAAAAIYRsAAAAAwjYAEAABhGwAIAADCMgAUAAGAYAQsAAMAwAhYAAIBh1ZxdwJ3Y\n",
              "s2ePvvrqKx05ckSpqakKDAxUmzZtNGTIEHXs2NHZ5QEAgCrO5QLW9OnTNW/evCLfJSUladOmTdq0\n",
              "aZNefvllTZgwwUnVAQAAuNgtwsjISFu4Cg0N1bJly7Rnzx4tXbpUoaGhkqR58+YpMjLSmWUCAIAq\n",
              "zmUCVmpqqj777DNJUrt27fTll1+qdevWCgoKUps2bfTll1/q0UcflSR99tlnunLlihOrBQAAVZnL\n",
              "BKx169YpLS1NkjR+/Hi5u7sX2e7u7q7x48dLktLS0vTNN9+Ue40AAACSCwWsrVu3SpIaNGig1q1b\n",
              "223Tpk0b1a9fX5K0ZcuW8ioNAACgCJcJWNHR0ZIKQlRpCrefOHHC4TUBAADY4xIBKzExUenp6ZKk\n",
              "Ro0aldq2cHt6erqSkpIcXhsAAMCvuUTASk1NtX2uXbt2qW1r1apldz8AAIDy4hLrYGVkZNg+e3l5\n",
              "ldq2evXqdve7XXl5eXe1/69lZmbaPjcMrmGs31/3eePGDVmtVqN9W61WWSwWo306um9XrNkRfWdn\n",
              "Z8vb21tZWVkuU7Oj+3Vk39RcwNHjzhX/nB3Zt6P6tVgsql69uvF/swr7y8zMNPrv1c3/zlYELhGw\n",
              "boepQZabm6vk5GQjfRWqUaOG4uPjNejJupLqGu1bkuLj4433CddXo0YNpaen226zA+WBcVd5OOLf\n",
              "LEf9e1W3bl0lJiYqODjYIf3fDpcIWD4+PrbPWVlZpba9ceOG3f1uV9OmTe94XwAAULW5xByswMBA\n",
              "2+dbXVW6fPmy7XNAQICjSgIAACiRSwSs4OBg+fr6SpLOnz9fatsLFy5Ikvz8/CrEJUIAAFD1uETA\n",
              "kqQWLVpIko4cOVJqu8OHDxdpDwAAUN5cJmB17dpVUsEVqqioKLttoqKilJCQUKQ9AABAeXOZgNW3\n",
              "b1/5+flJkmbOnKm8vLwi2/Py8jRjxgxJBU+v9OnTp9xrBAAAkFwoYAUGBurNN9+UJO3fv18RERGK\n",
              "iopSSkqKoqKiFBERoQMHDkiSxo4dW2RiPAAAQHmyWE2vSulg06ZN0/z580vc/vLLL2vChAnlWBEA\n",
              "AEBRLhewJGnPnj1asmSJjhw5oitXriggIEBt2rTRCy+8oI4dOzq7PAAAUMW5ZMACAACoyFxmDhYA\n",
              "AICrIGABAAAY5hLvInRle/bs0VdffaUjR44oNTVVgYGBatOmjYYMGcJ8MRQRHx+vo0eP2n5FR0fb\n",
              "3q0ZGRmpxx9/vMx9HTt2TIsXL9b+/ft1+fJl1axZU82bN9eAAQPUo0ePcusDFVtubq727dun3bt3\n",
              "68iRI4qNjVVaWpq8vb117733qlOnThoyZIgaNGhQpv5MnO84Z1Z+Fy9e1NatW3Xs2DGdPHlSycnJ\n",
              "Sk1NlZubm+rUqaNWrVqpb9++CgsLK1N/FXXcMQfLgaZPn6558+aVuJ0nHnGzZs2albjtdgLWggUL\n",
              "9MknnxRbK65Qr169NGPGDLm7uzu0D1R8vXv31qlTp0pt4+3trY8++kjh4eGltjNxvuOcWTV8/fXX\n",
              "+uMf/3jLdl26dNFf/vIXeXt7l9imIo87bhE6SGRkpO0vLDQ0VMuWLdOePXu0dOlShYaGSpLmzZun\n",
              "yMhIZ5aJCigoKEhhYWFl/r+3m23ZskXTpk1TXl6eWrZsqQULFmjPnj1au3atnnvuOUnSt99+q08+\n",
              "+cShfcA1XL9+XRaLRZ07d9bHH3+sf/7zn9q3b5+2bNmiDz/8UAEBAcrMzNTEiRO1c+fOEvsxcb7j\n",
              "nFl1eHl5KTQ0VOPHj9f8+fP17bffau/evdq0aZNmzZqldu3aSZK2bdum999/v8R+Kvy4s8K4lJQU\n",
              "66OPPmoNCQmxvvDCC9bc3Nwi23Nzc61DhgyxhoSEWB999FFramqqcwpFhbJhwwZrfHy87ferVq2y\n",
              "hoSEWENCQqx79+695f7Z2dnWLl26WENCQqxPP/209fr168XavP3229aQkBDrQw89ZD179qxD+oDr\n",
              "mDZtmvXnn38ucfuZM2esrVu3toaEhFh79eplt42J8x3nTNwsPz/f+tprr9nOfzefFwu5wrjjCpYD\n",
              "rFu3TmlpaZKk8ePHF7uN4u7urvHjx0uS0tLS9M0335R7jah4nnnmGTVs2PCO99+5c6cuXLggqeBt\n",
              "Bj4+PsXaFI7H3NxcLV261CF9wHVMmDBBTZo0KXH7/fffr379+kmSTp8+rV9++aVYGxPnO86ZuJnF\n",
              "YtHzzz9v+/2JEyeKtXGFcUfAcoCtW7dKkho0aKDWrVvbbdOmTRvVr19fUsEtGeBuFY47T09Pde/e\n",
              "3W6bevXqqW3btpLsjzsTfaByeeCBB2yfExMTi203cb7jnIlf8/DwsH328vIqtt0Vxh0BywGio6Ml\n",
              "FfzFlKZwu710Dtyu48ePS5JatGghT0/PEtsVjrsLFy7o6tWrxvtA5ZKcnGz77OfnV2y7ifMd50z8\n",
              "2rfffiupIGg1b9682HZXGHcELMMSExOVnp4uSWrUqFGpbQu3p6enKykpyeG1ofLKz89XXFycpLKP\n",
              "O0k6e/as0T5Q+WzevFmS5O/vX+x2oonzHedMFEpJSdHBgwc1duxYrV+/XpI0fPhwBQcHF2nnKuOO\n",
              "dbAMS01NtX2uXbt2qW1r1apVZL+6des6rC5UbtevX1d2drak2x93JvtA5bJq1SrFxMRIkgYOHFhs\n",
              "joqJ8x3nzKrtvffe05o1a4p97+/vr1deeUURERHFtrnKuOMKlmEZGRm2z/buG9+sevXqdvcDbtfN\n",
              "46e0W3tSyePORB+oPE6fPq0pU6ZIKpij8vrrrxdrY+J8xzkTv+bu7q7+/fvrmWeekcViKbbdVcYd\n",
              "AcuJ7A0c4G7dalyVZdyZ6AOuKyUlRSNHjlRGRoY8PDw0c+ZM1ahR4676NDFmGHeVz+TJk/Xjjz/q\n",
              "0KFD2rlzp2bPnq3HH39c8+bNU58+fbRhw4a76t+Z446AZdjNj7VnZWWV2rbwNSi/3g+4XSbGHWMX\n",
              "UsE8k1dffVXnz5+Xm5ubZsyYYXtq9NcYd7hbnp6e8vX1lZ+fn+rVq6euXbtq/vz5Gjx4sDIzMzVu\n",
              "3DjbwzeFXGXcEbAMCwwMtH2++ekbey5fvmz7HBAQ4KiSUAX4+vraHmu+1bi7efvN485EH3BtmZmZ\n",
              "ioiI0IkTJ2SxWDRlyhQ988wzJbY3cb7jnAl73n33XXl7eysvL08LFy4sss1Vxh0By7Dg4GD5+vpK\n",
              "ks6fP19q28IFHf38/Io9JQHcDjc3NzVu3FjSrcddfHy87fPNT4WZ6AOuKzs7W6NGjdKhQ4ckSe+/\n",
              "/7769+9f6j4mznecM2GPr6+vmjZtKkn66aefimxzlXFHwHKAFi1aSJKOHDlSarvDhw8XaQ/cjZYt\n",
              "W0oqWNul8GlAewrHXcOGDYv935iJPuB6cnJyNHbsWP3www+SpHfeeUf/9V//VaZ9TZzvOGfCnpJe\n",
              "Ni+5xrgjYDlA165dJRWk3qioKLttoqKilJCQUKQ9cDe6dOkiqWA+QUkrDicmJtquUNgbdyb6gGvJ\n",
              "y8vTuHHjtH37dknSiBEj7D4aXxIT5zvOmfi11NRUnT59WpL9dapcYdwRsBygb9++thWPZ86cWSyF\n",
              "5+XlacaMGZKkGjVqqE+fPuVeIyqfsLAw27sM//d//1eZmZnF2syYMUN5eXlyd3fX4MGDHdIHXIfV\n",
              "atWkSZO0ceNGSQWLOr711lu31YeJ8x3nzKrl559/LnV7Xl6eJk+erJycHElSz549i7VxhXFHwHKA\n",
              "wMBAvfnmm5Kk/fv3KyIiQlFRUUpJSVFUVJQiIiJ04MABSQUv1L15sh2qrvPnz+vIkSO2XzfPCzhz\n",
              "5kyJ2wp5enpq4sSJslgsiouL09ChQ7V3716lpKQoJiZG48aNs62OPHToULtzp0z0AdcxZcoU2yKP\n",
              "vXv31ptvvqnr16+X+Cs3N7dYHybOd5wzq5bnnntOI0aM0MqVKxUTE6Pk5GRdu3ZNsbGxWrNmjQYM\n",
              "GGBbnqF9+/bq3bt3sT5cYdxZrFar9bb2QJlNmzZN8+fPL3H7yy+/rAkTJpRjRajISlrR2J7w8HBN\n",
              "mzbN7rYFCxbok08+KXH+Qq9evTRjxoxiq3Kb7gMVX7NmzW6r/dSpU9WvXz+720yc7zhnVg1lHXc9\n",
              "evTQ1KlTbZPR7anI446A5WB79uzRkiVLdOTIEV25ckUBAQFq06aNXnjhBXXs2NHZ5aECMRWwJOnY\n",
              "sWNatGiR9u/fr8uXL6tmzZpq3ry5BgwYYPdyu6P6QMVmMmBJZs53nDMrv4MHD2r//v06dOiQLly4\n",
              "oOTkZGVmZsrPz08NGjRQ69at1adPH7Vu3bpM/VXUcUfAAgAAMIw5WAAAAIYRsAAAAAwjYAEAABhG\n",
              "wAIAADCMgAUAAGAYAQsAAMAwAhYAAIBhBCwAAADDCFgAAACGEbAAAAAMI2ABAAAYRsACAAAwjIAF\n",
              "AABgGAELAADAMAIWAACAYf8fTEGo8Mnq7FcAAAAASUVORK5CYII=\n",
              "\">\n",
              "      </div>\n",
              "      <script type=\"text/javascript\">\n",
              "        (() => {\n",
              "          const chartElement = document.getElementById(\"chart-2efce6d8-422c-48b2-93c8-b158370eb1ca\");\n",
              "          async function getCodeForChartHandler(event) {\n",
              "            const chartCodeResponse =  await google.colab.kernel.invokeFunction(\n",
              "                'getCodeForChart', [\"chart-2efce6d8-422c-48b2-93c8-b158370eb1ca\"], {});\n",
              "            const responseJson = chartCodeResponse.data['application/json'];\n",
              "            await google.colab.notebook.addCell(responseJson.code, 'code');\n",
              "          }\n",
              "          chartElement.onclick = getCodeForChartHandler;\n",
              "        })();\n",
              "      </script>\n",
              "      <style>\n",
              "        .colab-quickchart-chart-with-code  {\n",
              "            display: block;\n",
              "            float: left;\n",
              "            border: 1px solid transparent;\n",
              "        }\n",
              "\n",
              "        .colab-quickchart-chart-with-code:hover {\n",
              "            cursor: pointer;\n",
              "            border: 1px solid #aaa;\n",
              "        }\n",
              "      </style>"
            ]
          },
          "metadata": {}
        },
        {
          "output_type": "display_data",
          "data": {
            "text/plain": [
              "<google.colab._quickchart_helpers.SectionTitle at 0x7d8f634ada00>"
            ],
            "text/html": [
              "<h4 class=\"colab-quickchart-section-title\">Values</h4>\n",
              "<style>\n",
              "  .colab-quickchart-section-title {\n",
              "      clear: both;\n",
              "  }\n",
              "</style>"
            ]
          },
          "metadata": {}
        },
        {
          "output_type": "display_data",
          "data": {
            "text/plain": [
              "from matplotlib import pyplot as plt\n",
              "_df_1['deg-malig'].plot(kind='line', figsize=(8, 4), title='deg-malig')\n",
              "plt.gca().spines[['top', 'right']].set_visible(False)"
            ],
            "text/html": [
              "      <div class=\"colab-quickchart-chart-with-code\" id=\"chart-377692cd-264d-4006-a81c-92807209d38f\">\n",
              "        <img style=\"width: 180px;\" src=\"data:image/png;base64,iVBORw0KGgoAAAANSUhEUgAAAsAAAAGNCAYAAAAfAcfAAAAAOnRFWHRTb2Z0d2FyZQBNYXRwbG90\n",
              "bGliIHZlcnNpb24zLjEwLjAsIGh0dHBzOi8vbWF0cGxvdGxpYi5vcmcvlHJYcgAAAAlwSFlzAAAP\n",
              "YQAAD2EBqD+naQAASZlJREFUeJzt3Xl4VOX9/vF7MllICGSDBMIisggICCGRgmCxWgu4YBG1YgUp\n",
              "bYGWil1EwaVu/ERErRUrX20vUBYFFxaxCgoiFgUjgYQ97JJFErKRhASSTOb3RzJDQiYrk5xZ3q/r\n",
              "oh3mnPPMZ5gj3DnzOc9jslqtVgEAAABewsfoAgAAAICWRAAGAACAVyEAAwAAwKsQgAEAAOBVCMAA\n",
              "AADwKgRgAAAAeBUCMAAAALwKARgAAABehQAMAAAAr0IABoAqJk6cqN69e+vGG280uhRImj17tnr3\n",
              "7q3evXs73L5w4UL79tTU1BauDoC7IgADAADAqxCAAQAA4FUIwAAAt/Xggw8qOTlZycnJ6ty5s9Hl\n",
              "AHATBGAAAAB4FQIwAAAAvIqv0QUAQEuxWCz64IMP9PHHH+vIkSMqLS1VVFSUrr/+ek2ePLnBX6Fb\n",
              "rVZt3LhRGzZs0J49e5SdnS0fHx9FRUVpyJAhuu+++9SnT596x9m9e7eWLl2qnTt3Kjc3V2FhYerX\n",
              "r58mTJigkSNHavXq1ZozZ44kaenSpfrJT37SpPedmpqqm266SZL0pz/9SQ8++KD27Nmj5cuXa+fO\n",
              "nTpz5ozCw8MVExOjadOmqW/fvvZjCwoKtHLlSn322WdKSUlRWVmZunfvrvHjx+vee++Vj0/t11EO\n",
              "HDigL7/8Urt27dLx48eVk5Mjq9Wq0NBQXX311br55ps1duxY+fv7N+l9SRWzQLz++uuSpM2bN9f6\n",
              "GRYXF2vp0qXasGGDfvjhB0lSp06ddNNNN2nSpEkKDw/XjTfeqLS0NA0ZMkTLli1rck0AXB8BGIBX\n",
              "yM/P19SpU7V79+5qz588eVInT57U2rVr9dprr9U7zo8//qgHH3xQe/furbHtxIkTOnHihN5//31N\n",
              "nz5dDz30kEwmk8NxXn/9db3++uuyWq325zIzM5WZmaktW7Zo4sSJuvrqqxv5Lhtm+fLlmjdvnsrK\n",
              "yuzPnT59Wp999pk2b96shQsX6oYbbtCxY8f0hz/8wR4Ybfbt26d9+/YpPj5e//jHPxy+x02bNmnG\n",
              "jBkOX9/2Pr/66istW7ZMixYtUnR0tHPfZBUpKSmaMmWKTp06Ve35w4cP6/Dhw1q9erXeeuutZnt9\n",
              "AK6HAAzA41mtVs2YMcMefnv27Knf/OY3uuqqq3T+/Hlt27ZN77zzjv785z8rLCys1nHOnDmjX/3q\n",
              "V8rIyJDZbNYtt9yin/70p+rcubPMZrMOHTqkFStWKDk5WYsWLZK/v7/++Mc/1hhn5cqVWrhwoSQp\n",
              "KChIDzzwgIYPH66AgAAdPXpUb7/9tpYtW6aYmBin/1ls27ZNSUlJ6tmzpx544AH17t1bJSUl2rJl\n",
              "i5YsWaKSkhI9+uijWrt2rX7/+98rNzdXv//97zVixAi1adNGhw8f1sKFC5WWlqbPPvtMI0eO1Lhx\n",
              "42q8TllZmYKCgvTTn/5UQ4YMUffu3RUSEqKCggKlpaVp7dq1+u6773To0CHNmDFD77//vvz8/Jz+\n",
              "fouKiqqF37i4ON1333264oorVFBQoM2bN2vlypV68MEHVVxc7PTXB+CaCMAAPN7q1asVHx8vSRoy\n",
              "ZIj+85//KCAgwL59yJAhuvnmmzVp0iSdPHmy1nFmz56tjIwMtWvXTosXL66xOMPAgQN155136q9/\n",
              "/as+//xzvfHGG7rjjjvUqVMn+z65ubmaP3++JKl169Z69913q7VLXHPNNbrttts0bdo0ffvtt854\n",
              "+9UkJiZqxIgR9oBuExcXp7CwMC1YsEB5eXkaP368Lly4oPfee69aff369dOQIUN06623qri4WMuW\n",
              "LXMYgGNjY/W///1PwcHBDuu488479f777+vJJ5/UgQMH9Omnn+qOO+5w+vtdtGiRPfyOGzdO8+bN\n",
              "q3bFetiwYfrZz36m3//+97JYLE5/fQCuiZvgAHg8Wz+nr6+v5s2bVy382gwYMEBTp06tdYw9e/Zo\n",
              "27ZtkqTHH3+81pXJ/Pz89Oyzz8rPz0+lpaX66KOPqm1fu3atioqKJEnTp0932Cvs7++vefPmNcsV\n",
              "UX9/f73wwgsO+24nTJhgfz47O1szZ850WJ+td1aq6PMtLCyssU/79u1rDb8299xzj73f+PPPP2/0\n",
              "e6lPSUmJ3n//fUlSeHi4nnzySYftGsOHD9c999zj9NcH4LoIwAA8WnZ2tg4ePChJGjp0aJ03ut19\n",
              "9921brMFNH9/f9188811vmZYWJiuuuoqSdKuXbuqbbOFaKniKmhtOnTooOHDh9f5Ok1x3XXXqX37\n",
              "9g63tW7dWt26dbP//vbbb691nH79+kmqaC9pyBLEpaWlysjI0LFjx+y9t4cPH1ZUVJSkiiDtbAcO\n",
              "HFBeXp4kadSoUWrdunWt+44fP97prw/AddECAcCjHTp0yP544MCBde7brl07derUSWlpaTW27dmz\n",
              "R1LFVcX+/fs3+PXPnDlT7ffJycmSKq6itmvXrs5jBwwYoK+++srhtpSUlFp7Vv38/HTllVc63Na9\n",
              "e/c6X7Nt27aSKkJ8eHh4vftJcngF2Pb8ihUrtGHDBvusG7XJzc2ts66msP1ZSxWtJXXp27ev/ao9\n",
              "AM9HAAbg0WxXACUpIiKi3v3bt2/vMADn5OQ06fUvDalnz56VpDrDpU1dAfmxxx6z9zVfqlOnTvry\n",
              "yy8dbgsKCqrzNW3TmjV0P0kOe2ePHj2q3/72tzp9+nSd49g0xw1otj9rqf7P3tfXV6GhoTV+YAHg\n",
              "mQjAANAAtinDQkJCtHz58gYf1xx9vK6urKxMDz74oD383nbbbbr99tvVs2dPRUREKCAgwB6gH3nk\n",
              "Ea1bt87IcgF4IQIwAI8WGhpqf5ydnV3v/rVdAQwPD9eJEyd07tw5XXnllU0OtiEhITpz5kyDrihn\n",
              "ZWXVus2VF2rYsWOHjh8/Lkn63e9+p1mzZtW6b9WrtM4WEhJif1zfZ19WVlbt2wIAno2b4AB4tKqz\n",
              "GCQlJdW5b1ZWlsP2B+niTV9lZWU1FtNoDNvsEWlpafWGsn379jX5dYx0+PBh++O6bqQrLy9v1vdY\n",
              "daYORwuXVHXo0CH6fwEvQgAG4NEiIiLsU23t2LGjzhkLPvjgg1q3jRo1yv548eLFTa5nxIgR9sdr\n",
              "1qypdb+MjIxqM0a4k6orzNXV2/vZZ5/VeZX7cl199dX2bwA2btxon37OkdWrVzdbHQBcDwEYgMeb\n",
              "OHGipIpgNmfOHF24cKHGPnv37q1zOdy4uDhdd911kqQtW7bolVdeqbaM8aXKy8u1YcMGHT16tNrz\n",
              "v/zlL+03mC1atKjaTAU2paWleuyxx9z2imTVmSY+/PBDh/scOnRIzz77bLPW4e/vb5/fNzs7W3Pn\n",
              "znW43/bt27Vq1apmrQWAa6EHGIDHu/POO7V27VrFx8crPj5e48ePd7gUckBAgCIjI2tdDe7FF1/U\n",
              "r371K6WlpenNN9/UV199pTvvvFP9+vVTcHCwzp07p9TUVCUlJemLL77QmTNntGTJEvXs2dM+RlhY\n",
              "mB599FE99dRTKiws1L333qvJkyfXWAr50KFDiomJsbdbOFrAwVWNGDFCkZGRyszM1Icffqi8vDyN\n",
              "GzdOHTp00NmzZ/X1119r5cqVMplM6tevn/bv399stfzhD3/Qhg0bdOrUKX300UdKSUnRhAkTdMUV\n",
              "Vyg/P19btmzRu+++q+joaBUWFjZ5tg8A7oUADMDjmUwm/etf/9LUqVO1e/duHTlyRI899li1fdq0\n",
              "aaNXX31Vb7zxRq0BuH379lq1apUeeeQRffvtt0pOTta8efNqfV2z2azAwMAaz997773KysrS66+/\n",
              "rqKiIr3xxht64403qu0zceJE9enTxx6AHa1e56patWqlf/zjH5o6darOnTunTZs2adOmTdX2CQ4O\n",
              "1ksvvaSNGzc2awAOCgrS4sWLNWXKFJ06dcr+Q1BVUVFRWrhwoaZPny7Jvf6sATRNowPw6dOntXnz\n",
              "Zu3du1fJycnKzs5Wbm6ufHx81L59e11zzTW64447NHLkyAaNt337dr377rtKTExUbm6uwsLCFBMT\n",
              "owkTJmjYsGEtNgYAz9a2bVutWLFCH3zwgdauXaujR4+qtLRUHTp00PXXX6/Jkyerc+fONYLopdq3\n",
              "b68lS5YoPj5e69ev165du5SRkaGioiK1atVKHTp0UK9evTR06FDdfPPNtc7l+6c//UnXXXedli5d\n",
              "qp07dyovL0+hoaHq37+/JkyYoJEjR2rJkiX2/etbVtjVxMXFad26dfrPf/6jb775RqdPn1ZAQIA6\n",
              "duyo66+/XhMnTlR0dLQ2btzY7LV06dJFH3/8sZYuXaoNGzbYf8CxLen8wAMPKDw8XPn5+ZIqfhgC\n",
              "4NlM1rqa2Bx477339PTTT9e734033qhXXnnF4dUPm/nz59d5M8mUKVP06KOP1vk6zhgDAFzRnDlz\n",
              "tHr1avn5+WnXrl3y9/c3uiSPlZaWphtvvFGSNGPGDM2cOdPgigA0p0bfBBcQEKARI0Zo1qxZWrJk\n",
              "if773/9qx44d2rhxo15//XXFxcVJkr788ks98cQTtY6zdOlSe3AdMWKEVq1ape3bt2vlypX2u6QX\n",
              "L16spUuXNusYAOCKCgsL7W0D/fv3J/w2s7Vr19ofDx482LhCALSIRl8Bro/VatW0adO0detWSdLm\n",
              "zZvVuXPnavvk5ubq5ptvVkFBgeLi4rR06VKZzWb7dovFookTJyohIUFt2rTRpk2bqk1m76wxAMAI\n",
              "5eXlSk1NVdeuXR1uLykp0d/+9jd9/vnnkqS5c+fq7rvvbskSPUpKSoo6duwoX1/HXX87d+7UlClT\n",
              "dOHCBXXq1EmbNm2qttQzAM/j9JvgTCaT7rrrLnsA3r9/f40AvG7dOhUUFEiSZs2aVS24ShU3jsya\n",
              "NUv33nuvCgoK9PHHH2vSpElOHwMAjFBaWqrRo0drxIgRGjlypK666ioFBwersLBQ+/bt06pVq3Ti\n",
              "xAlJ0sCBAzVu3DiDK3Zvq1at0ieffKIxY8YoNjZWUVFRkqT09HR99dVXWr9+vX3KuSeeeILwC3iB\n",
              "ZpkFouoSoY7upt28ebOkihsQBg0a5HCMmJgYRUdHKz09XZs2baoRXp0xBgAYxWKxaOvWrfaLBY7E\n",
              "xMToX//6V61XLtFwP/74oxYvXlzrPSN+fn566qmn7H3AADxbs/yt+t///ldSxV8othWYqjpw4ICk\n",
              "ir/c6xITE6P09HSHU+Q4YwwAMIK/v78WLVqkb775Rrt371ZWVpby8vJkMpkUHh6uAQMGaMyYMRo1\n",
              "ahRXI51gwoQJateunbZv366TJ08qNzdX586dU3BwsLp06aKhQ4fq17/+tTp27Gh0qQBaiNMCcE5O\n",
              "jo4fP66lS5fap7V54IEH7F812WRkZKiwsFBSxdQ0dbFtLywsVGZmpiIjI502BgAYxWQy6cYbb+Rq\n",
              "Ywvp1KmTJk+erMmTJxtdCgAXcVkBePbs2Q7Xsg8JCdFvf/tbTZ06tca23Nxc++Pa5se0iYiIqHac\n",
              "Lbw6YwwAAAB4J6e3QJjNZo0fP15jxoxxuHRnUVGR/XF9q+20atXK4XHOGKOxEhISmnwsAAAAml9s\n",
              "bGyD9rusAPzss8/qySeflNVqVWFhofbv36/ly5dr8eLFeu+99/T888/rlltuafL4jgK0EWNIFVeS\n",
              "W/LqcXFxsU6ePKlu3brVuZgI0Fw4B2E0zkEYjXPQc11WAPb397dPzh4cHKwOHTropptu0lNPPaWV\n",
              "K1fq4YcfVteuXdW/f3/7MUFBQfbHFy5cqHP88+fPOzzOGWM0ltlsvqzjmyowMNCQ1wVsOAdhNM5B\n",
              "GI1z0PM0y+3FjzzyiAIDA2WxWPTOO+9U2xYWFmZ/nJ2dXec4WVlZ9sdVF7FwxhgAAADwTs0SgFu3\n",
              "bq2ePXtKkg4ePFhtW1RUlFq3bi1JOnXqVJ3jpKamSqq4ulx1NglnjAEAAADv1GwTTFosllq39evX\n",
              "T5KUmJhY5xi7d++utr+zxwAAAID3aZYAnJubqyNHjkhyPE/vTTfdJKni6mxSUpLDMZKSkpSWllZt\n",
              "f2ePAQAAAO/T6AB87NixOrdbLBY9++yz9nXVR48eXWOfO+64Q8HBwZKkl156qcbVYovFogULFkiS\n",
              "2rRpo7FjxzbLGAAAAPA+jQ7At912m6ZPn64PP/xQhw4dUnZ2tvLz83XixAmtWbNGd999tz799FNJ\n",
              "0pAhQ3T77bfXGCMsLEwPPfSQJCk+Pl5Tp05VUlKScnJylJSUpKlTp+r777+XJM2cObPaTW/OHAMA\n",
              "AADep9HToJWXl2vLli3asmVLnfuNGjVK8+bNq3Ud+0mTJik9PV1LlizRtm3btG3bthr7TJkyRZMm\n",
              "Tar1NZwxBgAAALxLowPwihUrFB8fr4SEBKWmpio7O1vFxcUKDg5Wp06dNGjQII0dO1aDBg2qd6zZ\n",
              "s2dr5MiRWrFihRITE5WXl6fQ0FDFxMTovvvu07Bhw1pkDAAAAHiPRgfguLg4xcXFOa2AYcOGXXZI\n",
              "dcYYAAAA8A7NNg0ams5qterH7HMqt1qNLgUAAMDjEIBd0Kb4U/rzq98q/nCh0aUAAAB4HAKwC9t7\n",
              "ssjoEgAAADwOAdgFDe4TKUlKyy7V2cISg6sBAADwLARgFxQREqhuHdpIkpKOZhlcDQAAgGchALuo\n",
              "mKvaSZJ2HyYAAwAAOBMB2EUNqgzASUezZbGUG1wNAACA5yAAu6henduqlb9J54rLlHwq1+hyAAAA\n",
              "PAYB2EWZzT7q2bGVJGnnwQyDqwEAAPAcBGAX1iu6IgAnHMw0uBIAAADPQQB2YT06tpLJJB1PP6vs\n",
              "s8VGlwMAAOARCMAuLLiVWT06tZUkJRziKjAAAIAzEIBd3KBeFbNB0AcMAADgHARgF2ebDzjx8BmV\n",
              "ljEdGgAAwOUiALu47tFtFRLsr+ILZTp4MtvocgAAANweAdjF+fiYFNsnSpK0k9kgAAAALhsB2A3E\n",
              "2QMwfcAAAACXiwDsBmJ6t5ePSUrJKFBGTpHR5QAAALg1ArAbCA7yV59u4ZKkhENcBQYAALgcBGA3\n",
              "EdeXNggAAABnIAC7CVsATjqSpZJSi8HVAAAAuC8CsJvo1rGtwtu2UkmpRfuOMR0aAABAUxGA3YTJ\n",
              "ZLJfBaYPGAAAoOkIwG4krm+kJPqAAQAALgcB2I0M7NVevmaT0rPOKf1ModHlAAAAuCUCsBsJauWn\n",
              "q6+MkCTtpA0CAACgSQjAbsa2LHICyyIDAAA0CQHYzdj6gPcey9L5C2UGVwMAAOB+CMBupktUG0WG\n",
              "Baq0rFx7jmUZXQ4AAIDbIQC7GZPJpFhWhQMAAGgyArAbss8HfDBDVqvV4GoAAADcCwHYDV3To538\n",
              "fH2UmVuslIwCo8sBAABwKwRgN9QqwFcDerSTJO1kNggAAIBGIQC7qdjK2SBYFhkAAKBxCMBuytYH\n",
              "vP94torOlxpcDQAAgPsgALup6HbBim7XWpZyqxIPnzG6HAAAALdBAHZjcUyHBgAA0GgEYDdmmw84\n",
              "4RDToQEAADQUAdiN9e8eoQB/s3LyL+hEer7R5QAAALgFArAb8/cza2DP9pJogwAAAGgoArCbi6uc\n",
              "Do0ADAAA0DAEYDcX26eiDzj5hxwVFJUYXA0AAIDrIwC7ucjwIHXt0EblVml3MqvCAQAA1IcA7AHi\n",
              "+jAdGgAAQEMRgD2AbT7gXcmZKi9nOjQAAIC6EIA9QN8rwxUY4KuzhSU6mppndDkAAAAujQDsAXzN\n",
              "PorpXTEdWgJtEAAAAHUiAHsIex/wIQIwAABAXQjAHmJwn4r5gI+k5Cmv4ILB1QAAALguArCHiAgJ\n",
              "VPdOIbJaK26GAwAAgGMEYA8SW3kVmD5gAACA2hGAPUjV6dAslnKDqwEAAHBNBGAP0rtrmIID/VRY\n",
              "XKrkU7lGlwMAAOCSCMAexGz20eDeFW0QrAoHAADgGAHYw8RWtkEkHORGOAAAAEcIwB5mcO9ImUzS\n",
              "8fSzyj5bbHQ5AAAALocA7GFC2wSoV5dQSVLCIa4CAwAAXIoA7IHsq8LRBwwAAFADAdgD2fqAEw+f\n",
              "UWkZ06EBAABURQD2QD07hyok2F/FF8p08GS20eUAAAC4FAKwB/LxMSnW3gZBHzAAAEBVBGAPRR8w\n",
              "AACAYwRgDxXTu718TFJKRoEycoqMLgcAAMBlEIA9VHCQv/p0C5ckJRziKjAAAIANAdiDxfWlDQIA\n",
              "AOBSBGAPZgvASUeyVFJqMbgaAAAA10AA9mDdOrZVeNtWKim1aN8xpkMDAACQCMAezWQyXWyDoA8Y\n",
              "AABAEgHY48X1jZQkJdAHDAAAIIkA7PEG9movX7NJ6VnnlH6m0OhyAAAADEcA9nBBrfx09ZURkmiD\n",
              "AAAAkAjAXsHWB5zAssgAAAAEYG9gC8B7j2Xp/IUyg6sBAAAwFgHYC3SODFZkWKBKy8q151iW0eUA\n",
              "AAAYigDsBUwmk2JZFQ4AAEASAdhrXOwDzpDVajW4GgAAAOMQgL3ENT3ayc/XR5m5xUrJKDC6HAAA\n",
              "AMP4NvaAsrIyfffdd9q2bZsSExN14sQJFRQUKDAwUF27dtV1112nCRMmqFOnTg0ab/v27Xr33XeV\n",
              "mJio3NxchYWFKSYmRhMmTNCwYcNabAxP1yrAVwN6tNOu5EztPJiprh3aGl0SAACAIRodgMeNG6fD\n",
              "hw/XeL6goED79+/X/v37tXz5cj311FMaN25cnWPNnz9fixcvrvZcZmamNm7cqI0bN2rKlCl69NFH\n",
              "m30MbxHbN1K7kjOVcChDd/6sp9HlAAAAGKLRLRDnzp2TyWTS8OHD9dxzz+mTTz7Rd999p02bNunv\n",
              "f/+7QkNDVVxcrDlz5mjr1q21jrN06VJ7cB0xYoRWrVql7du3a+XKlRoxYoQkafHixVq6dGmzjuFN\n",
              "bH3A+49nq+h8qcHVAAAAGKPRAXjUqFH69NNPtXjxYt1zzz3q1auXQkND1aVLF/3617/Wu+++q6Cg\n",
              "IFmtVi1YsMDhGLm5uXrttdckSXFxcXrrrbc0aNAghYeHKyYmRm+99ZZiY2MlSa+99pry8vKaZQxv\n",
              "E90uWNHtWstSblXi4TNGlwMAAGCIRgfgRx99VN27d691e48ePXTnnXdKko4cOaL09PQa+6xbt04F\n",
              "BRU3Ys2aNUtms7nadrPZrFmzZkmqaK34+OOPm2UMbxTHdGgAAMDLNcssEL169bI/zsioGbQ2b94s\n",
              "SerUqZMGDRrkcIyYmBhFR0dLkjZt2tQsY3gj23zACYeYDg0AAHinZgnA2dnZ9sfBwcE1th84cEBS\n",
              "RUCti237/v37m2UMb9S/e4QC/M3Kyb+gE+n5RpcDAADQ4polAH/++eeSpJCQkBrtEhkZGSosLJQk\n",
              "denSpc5xbNsLCwuVmZnp1DG8lb+fWQN7tpdEGwQAAPBOjZ4GrT4fffSRDh06JEm65557avTm5ubm\n",
              "2h+3a9euzrEiIiKqHRcZGem0MRrLYrGoqKioScc2RXFxcbX/d6ZreoQq/sBpxe//Ubdd19np48Mz\n",
              "NOc5CDQE5yCMxjnofoKCghq0n1MD8JEjRzR37lxJFb2506ZNq7FP1RAZEBBQ53itWrVyeJwzxmis\n",
              "7Ozsaq0dLeXkyZNOHzPYp0ySdDglTwmJ+xUUwIKAqF1znINAY3AOwmicg+7DNgNYfZwWgHNycvTH\n",
              "P/5RRUVF8vPz00svvaQ2bdpc1pgmk+my63LGGFLFleSmXj1uiuLiYp08eVLdunVTYGCg08f/cHuB\n",
              "UjPP6bxPhGL7dnD6+HB/zX0OAvXhHITROAc9l1MCcGFhoX73u9/p1KlT8vHx0YIFCzR48GCH+1a9\n",
              "NH3hwoU6xz1//rzD45wxRmOZzebLOr6pAgMDm+V1h1zdUamZR7X3eK5uHlr7tHZAc52DQENxDsJo\n",
              "nIOe57K/+y4uLtbUqVO1f/9+mUwmzZ07V2PGjKl1/7CwMPvj+loKsrKy7I9DQ0OdOoa3i7NPh5ap\n",
              "8nKmQwMAAN7jsgJwSUmJZsyYoYSEBEnSE088ofHjx9d5TFRUlFq3bi1JOnXqVJ37pqamSqqYSi0q\n",
              "KsqpY3i7vleGKzDAV/nnSnQ0Nc/ocgAAAFpMkwNwaWmpZs6cqW+++UaS9Le//U33339/g47t16+f\n",
              "JCkxMbHO/Xbv3l1tf2eP4c18zT6K6V0xHVoC06EBAAAv0qQAbLFY9PDDD2vLli2SpOnTp2vq1KkN\n",
              "Pv6mm26SVHF1NikpyeE+SUlJSktLq7a/s8fwdnF9KpdFPkQABgAA3qPRAdhqterxxx/Xhg0bJEkP\n",
              "PPCA/vKXvzRqjDvuuMO+QtxLL70ki8VSbbvFYtGCBQskSW3atNHYsWObZQxvN7hPxawWR1LylFdQ\n",
              "982EAAAAnqLRAXju3Llas2aNJOn222/XQw89pHPnztX6q6ysrMYYYWFheuihhyRJ8fHxmjp1qpKS\n",
              "kpSTk6OkpCRNnTpV33//vSRp5syZ1W56c+YY3i4iJFDdO4XIapV2JbNKHgAA8A6NngZt+fLl9sfr\n",
              "16/X+vXr69x/3rx5uvPOO2s8P2nSJKWnp2vJkiXatm2btm3bVmOfKVOmaNKkSbWO7YwxvF1c3ygd\n",
              "TzurhIMZujGu7mWlAQAAPIHTl0JujNmzZ2vkyJFasWKFEhMTlZeXp9DQUMXExOi+++7TsGHDWmQM\n",
              "bxbXJ0rvbzqsXcmZsljKZTazKhwAAPBsjQ7AycnJTi1g2LBhlx1SnTGGt7rqijAFB/qpsLhUyady\n",
              "dfWVEUaXBAAA0Ky43OflzD4mDe5dcTPcTqZDAwAAXoAADMXaVoU7yI1wAADA8xGAocG9I2UyScfT\n",
              "zyr7bLHR5QAAADQrAjAU2iZAvbqESpISDnEVGAAAeDYCMCRVWRWOPmAAAODhCMCQdLEPOPHwGZWW\n",
              "lRtcDQAAQPMhAEOS1LNzqEKC/VV8oUwHT2YbXQ4AAECzIQBDkuTjY1KsvQ2CPmAAAOC5CMCwow8Y\n",
              "AAB4AwIw7GJ6t5ePSUrJKFBGTpHR5QAAADQLAjDsgoP81adbuCQp4RBXgQEAgGciAKOauL60QQAA\n",
              "AM9GAEY1tgCcdCRLJaUWg6sBAABwPgIwqunWsa3C27ZSSalF+44xHRoAAPA8BGBUYzKZLrZB0AcM\n",
              "AAA8EAEYNcT1jZREHzAAAPBMBGDUMLBXe/maTfox65zSzxQaXQ4AAIBTEYBRQ1ArP119ZYQk2iAA\n",
              "AIDnIQDDIVsfcALLIgMAAA9DAIZDtgC891iWzl8oM7gaAAAA5yEAw6HOkcGKDA9SaVm59hzLMroc\n",
              "AAAApyEAwyGTyaS4PswGAQAAPA8BGLWKtfcBZ8hqtRpcDQAAgHMQgFGra3q0k5+vjzJzi5WSUWB0\n",
              "OQAAAE5BAEatWgX4akCPdpKkncwGAQAAPAQBGHWKrVwVLoH5gAEAgIcgAKNOtunQ9h/PVtH5UoOr\n",
              "AQAAuHwEYNQpul2wotu1lqXcqsTDZ4wuBwAA4LIRgFEv21VgpkMDAACegACMetmnQzvEdGgAAMD9\n",
              "EYBRr/7dIxTgb1ZO/gWdSM83uhwAAIDLQgBGvfz9zBrYs70k2iAAAID7IwCjQeL6siwyAADwDARg\n",
              "NEhsn4o+4OQfclRQVGJwNQAAAE1HAEaDRIYHqWuHNiq3SruTWRUOAAC4LwIwGiyuD9OhAQAA90cA\n",
              "RoPF2adDy1R5OdOhAQAA90QARoP1vTJcgQG+yj9XoqOpeUaXAwAA0CQEYDSYr9lHMb2ZDg0AALg3\n",
              "AjAahT5gAADg7gjAaJTBfSrmAz6amqe8ggsGVwMAANB4BGA0SkRIoLp3CpHVKu1iOjQAAOCGCMBo\n",
              "NPtsELRBAAAAN0QARqPZ+oB3JWfKYik3uBoAAIDGIQCj0a66IkxtgvxUWFyq5FO5RpcDAADQKARg\n",
              "NJrZx6SY3hU3wzEbBAAAcDcEYDRJbB9bHzA3wgEAAPdCAEaTDO4dKZNJOp5+Vtlni40uBwAAoMEI\n",
              "wGiS0DYB6tUlVJKUcIirwAAAwH0QgNFkrAoHAADcEQEYTRZbOR9w4uEzKi1jOjQAAOAeCMBosp6d\n",
              "QxUS7K/iC2U6eDLb6HIAAAAahACMJvPxMdlng9jJbBAAAMBNEIBxWegDBgAA7oYAjMsS07u9fExS\n",
              "SkaBMnKKjC4HAACgXgRgXJbgIH/16RYuSUo4xFVgAADg+gjAuGxxfWmDAAAA7oMAjMtmC8BJR7JU\n",
              "UmoxuBoAAIC6EYBx2bp1bKvwtq1UUmrRvmNMhwYAAFwbARiXzWQyXWyDoA8YAAC4OAIwnCKub6Qk\n",
              "+oABAIDrIwDDKQb2ai9fs0k/Zp1T+plCo8sBAACoFQEYThHUyk9XXxkhiavAAADAtRGA4TS2PuCE\n",
              "QyyLDAAAXBcBGE5jC8B7j2Xp/IUyg6sBAABwjAAMp+kcGazI8CCVlpVrz7Eso8sBAABwiAAMpzGZ\n",
              "TIrrw2wQAADAtRGA4VT2PuCDGbJarQZXAwAAUBMBGE41oGc7+fn6KDO3WCkZBUaXAwAAUAMBGE7V\n",
              "yt9XA3q0kyTtPMhsEAAAwPUQgOF0sZWrwiWwLDIAAHBBBGA4na0PeP/xbBWdLzW4GgAAgOoIwHC6\n",
              "6HbBim7XWpZyqxIPnzG6HAAAgGoIwGgWtqvATIcGAABcDQEYzSLWviwy06EBAADXQgBGs+jfPUIB\n",
              "/mbl5F/QifR8o8sBAACwIwCjWfj7mTWwZ3tJtEEAAADX4tuUg1JSUrRnzx77rwMHDuj8+fOSpKVL\n",
              "l+onP/lJg8fau3evli9frvj4eGVlZalt27bq27ev7r77bo0aNarFxoDzxfWNVPyB09p5MEP3/Pwq\n",
              "o8sBAACQ1MQA/POf/9wpL/7222/rxRdflMVisT+XlZWl//3vf/rf//6nW2+9VQsWLJDZbG7WMdA8\n",
              "YvtU9AEn/5CjgqIStQnyN7giAACAy2yBCA8P18iRIzVy5MhGH7tp0ya98MILslgs6t+/v95++21t\n",
              "375da9eu1W233SZJ+u9//6sXX3yxWcdA84kMD1LXDm1UbpV2J7MqHAAAcA1NugL86quvasCAAerc\n",
              "ubMkafXq1dq6dWuDjy8tLdW8efNktVrVrVs3LVu2TEFBQZIqQvXLL78sSfrkk0+0fPly3Xvvvbry\n",
              "yiudPgaaX1yfKJ06XaCdBzP005jORpcDAADQtCvAY8aMsYffpti6datSU1MlSTNnzrQH16pmzZol\n",
              "s9mssrIyrVy5slnGQPOLs0+HlqnycqZDAwAAxjNkFojNmzdLkvz9/XXzzTc73KdDhw4aPHiwpIpW\n",
              "h+YYA82v75XhCgzwVf65Eh1NzTO6HAAAAGMC8L59+yRJ/fr1k79/7TdGxcTESJJSU1N19uxZp4+B\n",
              "5udr9lFMb6ZDAwAArqPFA3B5eblOnjwpSerSpUud+1bdfvz4caeOgZYT14dlkQEAgOto0k1wl+Pc\n",
              "uXMqKSmRJLVr167OfSMiIuyPc3NznTpGY1ksFhUVFTX5+MYqLi6u9v/urO8VbSRJR1Ly9GNmnkKC\n",
              "mQ7NHXjSOQj3xDkIo3EOuh9H94Q50uIBuGqIrKt1QZJatWrl8DhnjNFY2dnZys7ObvLxTWW70u3u\n",
              "OoT56XRuqT77eo8GXtna6HLQCJ5yDsJ9cQ7CaJyD7iM2NrZB+7V4AK7KZDJd1nZnjdEQERERioyM\n",
              "dMpYDVFcXKyTJ0+qW7duCgwMbLHXbS7D0vy0ZusJZRT6q2/fvkaXgwbwtHMQ7odzEEbjHPRcLR6A\n",
              "q16avnDhQp372pZXvvQ4Z4zRWGaz+bKOb6rAwEBDXtfZhg3orDVbT2jP0RwFBLSS2WzI/ZdoAk85\n",
              "B+G+OAdhNM5Bz9PiKaR169by8/OTpHpbCqpuDw0NdeoYaFlXXRGmNkF+KiwuVfKppvdiAwAAXK4W\n",
              "D8A+Pj72FdlOnTpV574pKSn2x927d3fqGGhZZh+TYnpXtJAwGwQAADCSId9D9+/fX5J04MAB+2wO\n",
              "juzevVuS1Llz5xpXb50xBlqWfVW4g5kGVwIAALyZIQH4xhtvlFTRv1vbCm0ZGRlKSEiQJN10003N\n",
              "MgZa1uDekTKZpOPpZ5V9lillAACAMQwJwCNHjlTnzp0lSf/85z8dzq+3YMECWSwWmc1m3Xvvvc0y\n",
              "BlpWSHCAenUJlSQlHOIqMAAAMEaTAvCpU6eUmJho/1W1D/fo0aO1brPx9/fXnDlzZDKZdPLkSU2c\n",
              "OFE7duxQTk6ODh06pIcffljr16+XJE2cONFh764zxkDLY1U4AABgNJPVarU29qDZs2drzZo1Ddp3\n",
              "3LhxeuGFFxxue/vtt/Xiiy/KYrE43H7rrbdqwYIFMpvNtY7vjDEaIiUlpd5ll52pqKhIBw8eVN++\n",
              "fT1q6pXDp3L1t39+rcAAX614doz8fJkOzVV56jkI98E5CKNxDnouQxfCmDx5smJjY7Vs2TLFx8cr\n",
              "KytLbdu2Vd++fXX33Xdr9OjRLTIGWk7PzqEKCfbX2cISHTyZrWt6tje6JAAA4GWaFIBfeOGFWq/q\n",
              "NtaAAQP04osvGj4GWoaPj0mxfaL05c4U7TyYSQAGAAAtju+f0eLoAwYAAEYiAKPFxfRuLx+TlJJR\n",
              "oIycIqPLAQAAXoYAjBYXHOSvPt3CJUkJh7gKDAAAWhYBGIawrQpHGwQAAGhpBGAYwhaAk45kqaTU\n",
              "8RR2AAAAzYEADEN069hW4W1bqaTUon3Hso0uBwAAeBECMAxhMpkutkHQBwwAAFoQARiGiesbKYk+\n",
              "YAAA0LIIwDDMwF7t5Ws26cesc0o/U2h0OQAAwEsQgGGYoFZ+uvrKCElcBQYAAC2HAAxDMR0aAABo\n",
              "aQRgGMoWgPcdz9b5C2UGVwMAALwBARiG6hwZrMjwIJWWlWvPsSyjywEAAF6AAAxDmUwmxfVhNggA\n",
              "ANByCMAwnK0NIuFghqxWq8HVAAAAT0cAhuEG9GwnP18fZeYWKyWjwOhyAACAhyMAw3Ct/H01oGc7\n",
              "SdLOg5kGVwMAADwdARguIa5PZRsEyyIDAIBmRgCGS4itXBZ5//FsFZ0vNbgaAADgyQjAcAnR7YIV\n",
              "3a61LOVWJR4+Y3Q5AADAgxGA4TJYFQ4AALQEAjBcRmzfi33ATIcGAACaCwEYLqN/9wgF+JuVk39B\n",
              "J9LzjS4HAAB4KAIwXIa/n1kDe7aXRBsEAABoPgRguJS4viyLDAAAmhcBGC4ltnI+4OQfclRQVGJw\n",
              "NQAAwBMRgOFSIsOD1LVDG5Vbpd3JrAoHAACcjwAMl2NbFY42CAAA0BwIwHA5cfbp0DJVXs50aAAA\n",
              "wLkIwHA5fa8MV2CAr/LPlehoap7R5QAAAA9DAIbL8TX7KKY306EBAIDmQQCGS6IPGAAANBcCMFzS\n",
              "4D4V8wEfSclTbsF5g6sBAACehAAMlxQREqjunUIkMR0aAABwLgIwXJZ9NoiDBGAAAOA8BGC4LFsf\n",
              "8K7kTFks5QZXAwAAPAUBGC7rqivC1CbIT4XFpUo+lWt0OQAAwEMQgOGyzD4mxfSuuBmO2SAAAICz\n",
              "EIDh0ugDBgAAzkYAhksb3DtSJpN0PP2sss8WG10OAADwAARguLSQ4ABd1SVMkpRwiKvAAADg8hGA\n",
              "4fJi+9AHDAAAnIcADJcXW9kHnHj4jErLmA4NAABcHgIwXF7PzqEKCfZX8YUyHTyZbXQ5AADAzRGA\n",
              "4fJ8fEyKrVwUYyezQQAAgMtEAIZbiLMHYPqAAQDA5SEAwy3E9G4vH5OUklGgjJwio8sBAABujAAM\n",
              "txAc5K8+3cIlSQmHuAoMAACajgAMt2FbFY42CAAAcDkIwHAbtgCcdCRLJaUWg6sBAADuigAMt9Gt\n",
              "Y1uFt22lklKL9h1jOjQAANA0BGC4DZPJdLENgj5gAADQRARguJW4viyLDAAALg8BGG5lYK/28jWb\n",
              "9GPWOaWfKTS6HAAA4IYIwHArQa38dPWVEZK4CgwAAJqGAAy3w3RoAADgchCA4XZsAXjvsWydv1Bm\n",
              "cDUAAMDdEIDhdjpHBisyPEhllnLtOZpldDkAAMDNEIDhdkwmk+L6VM4GwXRoAACgkQjAcEu2NoiE\n",
              "gxmyWq0GVwMAANwJARhuaUDPdvLz9VFmbrFSMgqMLgcAALgRAjDcUit/Xw3o2U6StPNgpsHVAAAA\n",
              "d0IAhtuK61PZBkEfMAAAaAQCMNxWbOWyyPuPZ6vofKnB1QAAAHdBAIbbim4XrE7tW8tSblXi4TNG\n",
              "lwMAANwEARhuLbYPq8IBAIDGIQDDrcX2vdgHzHRoAACgIQjAcGv9u0cowN+snPwLOpGeb3Q5AADA\n",
              "DRCA4db8/cwa2LO9JNogAABAwxCA4fbiKmeDIAADAICGIADD7dluhEv+IUcFRSUGVwMAAFwdARhu\n",
              "LzI8SF07tFG5VdqdzKpwAACgbgRgeIQ4pkMDAAANRACGR4izT4eWqfJypkMDAAC1IwDDI/S9MlyB\n",
              "Ab7KP1eio6l5RpcDAABcGAEYHsHX7KOY3kyHBgAA6kcAhsegDxgAADSEr9EFOMv27dv17rvvKjEx\n",
              "Ubm5uQoLC1NMTIwmTJigYcOGGV0eWsDgPhXzAR9JyVNuwXmFtWllcEUAAMAVecQV4Pnz52vy5Mn6\n",
              "/PPPlZmZqdLSUmVmZmrjxo2aPHmy5s+fb3SJaAERIYHq3ilEEtOhAQCA2rl9AF66dKkWL14sSRox\n",
              "YoRWrVql7du3a+XKlRoxYoQkafHixVq6dKmRZaKF2GaD2HmQAAwAABxz6wCcm5ur1157TZIUFxen\n",
              "t956S4MGDVJ4eLhiYmL01ltvKTY2VpL02muvKS8vz8Bq0RJsfcC7kjNlsZQbXA0AAHBFbh2A161b\n",
              "p4KCAknSrFmzZDabq203m82aNWuWJKmgoEAff/xxi9eIlnXVFWFqE+Snc8WlSj6Va3Q5AADABbn1\n",
              "TXCbN2+WJHXq1EmDBg1yuE9MTIyio6OVnp6uTZs2adKkSS1YIVqa2cekmN6R+np3mnYezNDVV0YY\n",
              "XRIAoAHKy60qt1pVXm6Vpdxa7fe2x/bnbftcsr3isSr3La/2+0uPqTqW/dhLxjt/oUSZGQU6kn1S\n",
              "/n5+Rv8RuaUuUW107dUdjC6jBrcOwAcOHJBUEXLrEhMTo/T0dO3fv78lyoLB4vpG6evdadq6K1Vm\n",
              "Hx+ZzSaZfUyXPDbJx8en4rHD7RXbfKrsb9vu42OSr7lyu0/NY32qHu9jMvqPA6iT1eogXFhVGRBq\n",
              "BoiqAeHSkOIwXDgMKI63W6yVr1X52iUlpco8k69DmSfkR/hoEtvna7n0z77a56Iq28odft72YyyX\n",
              "nisN+2zLKz/bim3llWNUD72u7azRBbi15c+MVkhwgNFlVOO2ATgjI0OFhYWSpC5dutS5r217YWGh\n",
              "MjMzFRkZ2ez1wTiDe0fKx8ekzNxirfwi2dBafEyqCNqXBGmfasHbJHNloHa83ccetO3B+5KgfvG5\n",
              "qqG+ypjm6sG82j4OXsdsNqmkpEQ/ZF6QtVWOAloVSVbJKqusVkmV/1bZfm+t+I2slRustu1W2zOV\n",
              "2yt/b7UdUPnY4fHWS8av3ODw+MrfV923xnOVRdmPr1Kb1fba1irbVeV4B/VarVVqlePj7eGj1rBX\n",
              "/5Usewi1hcNLx6gnkDi8ylUl8F58r64s3+gC4AJ8fEzyMVX+fWYyXfy9j0k+Prr4nP0ih6nac1WP\n",
              "qbZPtXGqb7dYLMrPP6uQkBD5+rptZDJU16g2atva3+gyanDbTzM392J/Z7t27ercNyLi4tfgubm5\n",
              "BGAPFxIcoEcnxmnf8WxZLOX2AGApt8piqbjCUfW5Mkt5le0V2y5uL688pvo221UM+7Zarl6UW6Vy\n",
              "S7nKLC38h+BUZ4wuAAaq+CHOQfCoJVw4Ch7mS4NJjePkcIxyi0V5Z/MUGhoqX7Pb/nNlKFNtn4vt\n",
              "c3X0+TTis700OF4aKmv7bGs8V+85Ysy3aUVFRTp48KD69u2roKAgQ2pA83Dbv1GKiorsjwMC6r6s\n",
              "3qrVxQURqh7XGBaLpcnHNkVxcXG1/0fjDOoZqkE9Q1vs9azWiitpjkN0bY+rB+hyh/uVVwnutY9T\n",
              "PeDX8Xq2x7Xud7H2srJylZaVyt/PTz4+FffLmir/xySTTFX+PTJVPieT7M+bKjeYpCr7mir3vTiO\n",
              "qmw3VXmucjiZTJfs43Dciv1MVY5TjWMvPm7Q+3AwRqPfh0nV/zG3BQKTgyDh6PnKkFJzjOoBxmGg\n",
              "dHi1y9FrXHz+0oBT8Z6Na+MpLi7WyZMn1a1bNwUGBhpWB5pbla+VJKlcKpdU7gIXDvi32P009AcV\n",
              "tw3AjeGMv8Czs7OVnZ3thGoa5+TJky3+mmh55spf9i5HU5UnL4tJF6PcZQ+GJrnkH3dnKq/8dcmr\n",
              "WSp/eQr+HoTROAfdh2362/q4bQCumvAvXLhQ577nz593eFxjREREtGjrBFc+YDTOQRiNcxBG4xz0\n",
              "XG4bgMPCwuyP67sym5WVZX8cGhrapNczm82G9P8EBgbSdwRDcQ7CaJyDMBrnoOdx24UwoqKi1Lp1\n",
              "a0nSqVOn6tw3NTVVkhQcHKyoqKhmrw0AAACuy20DsCT169dPkpSYmFjnfrt37662PwAAALyXWwfg\n",
              "m266SVLFFd6kpCSH+yQlJSktLa3a/gAAAPBebh2A77jjDgUHB0uSXnrpJVks1e97tlgsWrBggSSp\n",
              "TZs2Gjt2bIvXCAAAANfi1gE4LCxMDz30kCQpPj5eU6dOVVJSknJycpSUlKSpU6fq+++/lyTNnDmz\n",
              "2o1zAAAA8E5uOwuEzaRJk5Senq4lS5Zo27Zt2rZtW419pkyZokmTJhlQHQAAAFyN2wdgSZo9e7ZG\n",
              "jhypFStWKDExUXl5FUtnxsTE6L777tOwYcOMLhEAAAAuwiMCsCQNGzaMoAsAAIB6uXUPMAAAANBY\n",
              "BGAAAAB4FZPVarUaXYQ7OHr0qAICAowuAwAAALXw9/dv0Kq/BGAAAAB4FVogAAAA4FUIwAAAAPAq\n",
              "BGAAAAB4FQIwAAAAvAoBGAAAAF6FAAwAAACvQgAGAACAVyEAAwAAwKsQgAEAAOBVCMAAAADwKgRg\n",
              "AAAAeBUCMAAAALyKr9EFAPA8q1ev1pw5cyRJycnJBlcDZyorK9N3332nbdu2KTExUSdOnFBBQYEC\n",
              "AwPVtWtXXXfddZowYYI6depU6xipqam66aabGvR6H374oQYMGOBw286dO7Vw4ULt2bNHJpNJgwYN\n",
              "0syZMzVo0KA6x5w3b57efvtt/eY3v9Hs2bMbVAdcx8SJExUfH9/g/YcMGaJly5bZf8/5B4krwKhi\n",
              "9uzZ6t27tyZOnGh0KWhhCxcuVO/evXXjjTcaXQpc3Lhx4zRlyhQtXrxYu3btUm5ursrKylRQUKD9\n",
              "+/fr3//+t2699VatWbOmWev4+uuv9cADD2jHjh0qKirSuXPn9M033+j+++/X9u3baz0uOTlZy5cv\n",
              "V1RUlB588MFmrRGuoXfv3k4fk/PP/XEFGADQYOfOnZPJZNJ1112n0aNHKyYmRu3bt1dBQYG+/vpr\n",
              "vfbaa8rLy9OcOXMUHh6ukSNH1jneW2+9pbi4uFq3BwYG1njOYrHoqaeeUllZmYYPH67HHntMkjR3\n",
              "7lxt375dTzzxhL744gv5+FS/xmO1WvX000+rrKxMjz32mFq3bt2EPwEY7d///rcsFkud+7zwwgt6\n",
              "//33JUm//OUva92P8897EYABAA02atQo3X333erevXu150NDQ/XrX/9aQ4cO1V133aWioiItWLCg\n",
              "3gDcqlWrRgeBnTt3Kj09XYGBgfrHP/6hkJAQSdIrr7yiG264QampqUpISNC1115b7bjVq1dr165d\n",
              "uv766zV69OhGvSZcR6tWrercXlpaqs8//1yS1KtXL/Xv37/OsTj/vBMtEACABnv00UdrhN+qevTo\n",
              "oTvvvFOSdOTIEaWnpzu9Bltf+aBBg+zhQ5LCw8Pt/ZeHDh2qdszZs2f10ksvKSAgQE8++aTTa4Lr\n",
              "2Lp1q/Ly8iTVffW3qTj/PANXgB0oLy/XZ599ps8++0x79+5VTk6OgoKCFBkZqUGDBmnMmDEaNmyY\n",
              "TCZTteOOHTumd955Rzt27FBmZqZMJpOio6M1fPhw/eY3v1HHjh0dvt7s2bO1Zs2aGo36l7I1/o8b\n",
              "N04vvPBCnWMkJydr8eLF2rFjh7KzsxUSEqJrr71W06dPV58+faodW/WGJUmKj4+v0TNVX21wLceO\n",
              "HdPSpUsVHx+vH3/8UWVlZQoLC1NERISuueYaXX/99br55pv13XffadKkSfbj0tLSanz2nTp10pdf\n",
              "flntOYvFopUrV2r16tU6fvy4zGazrrjiCv3yl7/Ufffd1yLvEa6rV69e9scZGRmKjo526viFhYWS\n",
              "pIiIiBrb2rVrV20fm5dfflk5OTl68MEHdcUVVzi1HrgWW/+52WzW2LFjnT4+559nIABf4scff9Sf\n",
              "/vQn7du3r9rzJSUlysvL0+HDh/X+++/r+++/V9u2be3bly9frueff75GX9LRo0d19OhRrVq1SvPn\n",
              "z2+Rrz0+/fRTPfrooyopKbE/l5WVpc8++0xbtmzRm2++qaFDhzZ7HTDGp59+qkceeUSlpaXVns/M\n",
              "zFRmZqYOHjyo9evXa/fu3U0av7i4WNOmTdN3331X7fl9+/Zp37592rx5s2655ZYm1w/3l52dbX8c\n",
              "HBzcoGNKSkrk7+/foH1tX1nn5ubW2GZ7rurr7tmzRx988IGuuOIKTZ06tUGvAfeUk5OjrVu3SpKG\n",
              "Dx+uyMjIBh3H+ed9CMBV5Ofna9KkSTp16pRMJpPGjx+vcePG2b/u++GHH7R9+3atXbu22nEbN27U\n",
              "c889J0nq1q2b/vznPysuLk7l5eXavn27Xn75ZWVmZuqvf/2r2rdvr9jY2GZ7Dz/88INmz56tfv36\n",
              "6Q9/+IP69+8vi8Wir7/+WvPmzVNhYaEee+wxffHFFzKbzZKksWPHatSoUXrqqae0fv16xcbG6t//\n",
              "/ne1cW37wrUVFBToiSeeUGlpqbp27aoZM2Zo8ODBCgkJ0fnz53Xq1CnFx8dr06ZNkqS4uDjt2rVL\n",
              "b775pt58801FR0frk08+qTbmpTdyPP300/bwO2rUKP32t79V165dlZmZqZUrV+rdd99VSkpKy7xh\n",
              "uCRb/2VISEid7RKS9NxzzyktLU1FRUXy8/PTFVdcoWHDhmnixIm1XimzfUuRmJiowsJCe9jIz89X\n",
              "YmKiJOmqq66SVPGN3tNPP63y8nL9/e9/b3DIgXv673//a//hf9y4cfXuz/nnvQjAVbzyyis6deqU\n",
              "pIo7SC/tHQoPD1dMTIymT59ub38oKSmxh9/OnTvrvffeU3h4uP2YX/7yl4qLi9P48eOVl5enp59+\n",
              "WuvXr2+295CRkaHhw4frzTfflJ+fn/35u+66S61bt9af//xnpaWl6dtvv9X1118vSfL19bX/kirC\n",
              "Lnenuqfvv/9e586dk1QxtVnVdpeQkBBFRUXp2muv1YwZMyRd/Kxt54rJZKrzs9+3b5/9B8DbbrtN\n",
              "L7/8sn1bWFiYnnrqKYWEhGjRokXOfmtwEx999JG9//Gee+6p94fnI0eO2B+XlpbavzVbuXKlZs+e\n",
              "rfvvv7/GMXFxcerQoYNOnz6t2bNn6/HHH5dUEWaKiooUHR1tv7P/vffe0/79+zV69GiNGDHCWW8T\n",
              "Lsr291Pbtm0bNNcv55/3IgBXKiws1EcffSSp4qpWXY3zVa+IffXVVzpz5owk6a9//Wu18GvTuXNn\n",
              "TZs2TfPnz9fhw4eVmJhY70TZl+Pxxx+vFn5tfvGLX6ht27bKz8/Xnj177AEYnqNqC05Dv/prjNWr\n",
              "V0uS/Pz8qvWNV/XHP/5RH374of2/C3iPI0eOaO7cuZIqesenTZvmcD8fHx8NHz5ct9xyi/r3768O\n",
              "HTooKChIqamp2rRpk958800VFhbqueeeU2BgoMaPH1/teF9fXz3zzDOaMWOGvvjiC33xxRf2bX5+\n",
              "fnrmmWdkNpuVnZ2tV199Va1bt7ZPVSVV3MW/efNm5eTkKCoqSrfcckuNeyPgfo4ePWpvXxwzZowC\n",
              "AgIc7sf5B4lZIOwSEhLsPbOXnux12blzp6SKk/7nP/95rftV7Yn8/vvvm1hl/Tp37qwePXo43Ga7\n",
              "UUmq6AmG5+nTp4/924nZs2frxIkTTh0/ISFBkhQTE2O/2eNS/v7++tnPfubU14Xry8nJ0R//+Ef7\n",
              "V8kvvfSS2rRp43Df6OhoLV68WHfddZf69Omj0NBQ+fv7q3v37po6daref/99hYaGSpJefPHFGjcU\n",
              "SdINN9ygxYsXa8iQIQoKClJQUJCGDh2qt99+Wz/96U8lSfPnz1d+fr5mzpypqKgoSRVztf7617/W\n",
              "4sWLtXbtWr355psaN26clixZ0jx/MGgxVRdfqav9gfMPEgHYztb6IEl9+/Zt8HFpaWmSKoJnbT9t\n",
              "SlKHDh3s/xjYjmkO9V31s03qff78+WarAcbp0qWLfVaHrVu3avTo0Ro9erSeeOIJrV27VpmZmZc1\n",
              "vu3cra+vs7YfwuCZCgsL9bvf/U6nTp2Sj4+PFixYoMGDBzd5vB49emjmzJmSpLy8PPtNTZf6yU9+\n",
              "omXLlmn37t3avXu33nnnHftXz99//73WrVtXbXXLdevWadmyZQoLC9N//vMf7dy5U6+88or8/f01\n",
              "f/58+w94cD/l5eX29sJu3bopJiamyWNx/nkHAnClqj/hNab/1dZv2ZBjgoKCqh3THGx9vPWxWq3N\n",
              "VgOMNWfOHD3//PP2r9ROnDihDz74QI8++qhGjhyp6dOnN/nKcFFRkaSL53Jt6CH3HsXFxZo6dar2\n",
              "798vk8mkuXPnasyYMZc9btVv1Pbv39+oY8vKyvTMM8/IZDLp6aeftvchv/POO5Iq2tWuv/56tWnT\n",
              "RrfeeqsmTpwoq9Vq3w738+233yojI0NSw25+qw/nn+cjAFeqOmVJYwKq7R96WzCoi22fS8PBpfMJ\n",
              "16asrKzBdcF72WYwWbdunX1p2smTJ6tbt24qLy/Xli1b9Ktf/UqpqamNHtsWfOs735vzhzy4jpKS\n",
              "Es2YMcN+5eqJJ55oVAtZXareT1FQUNCoY99++20dOXJE48ePt1+JPn/+vA4ePChJNVanu+GGGySp\n",
              "yVMDwni29gcfHx/dcccdlz0e55/nIwBX6tq1q/2x7SRtiE6dOkmSUlJSdOHChVr3O336tP0/Itsx\n",
              "NrbWifraEmw/3QINFRUVpVGjRmnOnDnauHGjXnjhBZlMJp09e7ZJVxts5+7x48fr3O/YsWNNqhfu\n",
              "o7S0VDNnztQ333wjSfrb3/7m8I75pqp6n0LVOdfrc/r0af3rX/9SaGioHn74YfvzZ8+eVXl5uaSK\n",
              "GUuqsoUdR/O6wvUVFhZq8+bNkqShQ4fWuuhUY3D+eT4CcKXY2Fh7EK3aSF8f21rfpaWl9v8AHdmw\n",
              "YUONY2zat28vqWIOX9t/IJc6duxYs/YOSxfbJy5dzAOeY9y4cfYbIauG2IZ+9rY5rHfv3l3rjZQl\n",
              "JSXasmWLM8qFi7JYLHr44Yftn/P06dOdPsG/bS5hSerXr1+Dj3v++edVVFSkhx9+uFrQqHqPRtWF\n",
              "Oqr+vq77OOC6NmzYoOLiYknOW/qY88/zEYArBQcH66677pIkffbZZ3XO1VteXm7voR05cqQ9wP7j\n",
              "H/+wrz9eVVpamn1e1N69e9eYAm3gwIGSKn5CtC1QUFVpaan+3//7f41+T41l+4/1cm+UgnFSUlKq\n",
              "rQB4qaKiIvv0ZLa7nKWLn31OTk6drTZ33nmnpIpzct68eQ73WbRoEVOgeTCr1arHH3/c/kP9Aw88\n",
              "oL/85S+NGuP06dN1bk9OTtbrr78uqeI8td1VX5+vv/5aGzduVExMjP3vc5vQ0FD739WXLu1t+33V\n",
              "JZzhPmxz/7Zu3Vq/+MUv6t2f8w8SAbiav/zlL/ZWiEceeURPPvmkEhISlJOTo5ycHO3Zs0dvvfWW\n",
              "xowZY29n8Pf315NPPimpYiaJe++9V59//rmysrKUmZmptWvX6r777lNeXp7MZrOeeuqpGq87bNgw\n",
              "de7cWVLFHL6rV6/WmTNnlJ2dra1bt2rSpEnauXOnfRqV5tK/f39JFSFq1apVOnv2rMrKylRWVsZV\n",
              "YTexdu1a3XDDDXruuef05ZdfKiUlRfn5+UpLS9OmTZs0adIke3/ubbfdZj/O9tmXlJRo0aJF9iB8\n",
              "6Wffv39/+xWWTz75RDNnztSePXvsy4Q/88wzeuONN+znMzzP3Llz7d+S3X777XrooYd07ty5Wn85\n",
              "+oHqjjvu0J/+9CetWbNGycnJysnJUV5envbv369//vOfuvfee5Wfny+p4qbOhiynXFJSorlz58rX\n",
              "11dPP/20w3srbr/9dknSq6++qs8//1wZGRn64IMPtHz58mrb4T5SU1Pt05GOHj3aPtNRXTj/IEkm\n",
              "K9MBVJOenq4ZM2bowIEDde73/fffV+sLWr58uZ5//vlag2JAQIDmz59f693R8fHx+v3vf++wDzgg\n",
              "IEAvvviiVqxYofj4eI0bN04vvPBCtX1mz56tNWvWaMiQIVq2bFmtdU+cOLHWMUpKSjR27FiHMwTU\n",
              "Ny5cw8KFC+1XLmpjMpk0bdq0GlftbOfGpTp16lTtikVxcbGmTZtmXw75UkOHDtUtt9yiv//975Iq\n",
              "rqbAc9iWgW2oefPm2b85sImLi6v3xqLAwEA99thjuueeexr0Oq+//roWLlyoyZMn17pIS2Fhoe6+\n",
              "+26HPezXXnut3n777QbPpAPXYPvcpYp/hy9tMXSE8w8SK8HVEB0drQ8//FDr16/Xp59+qgMHDigv\n",
              "L0/BwcGKiorSwIEDdcstt9SY4P3+++/XsGHD9M4772jHjh3KyMiQj4+POnbsqBEjRmjy5MmKjo6u\n",
              "9XWHDBmiDz74QP/3f/+n7777TmfPnlV4eLiGDRum3/3ud+rVq5dWrFjRrO/d399fy5cv1//93/9p\n",
              "27ZtSk9Pr/PGPrieBx54QFdddZV27NihvXv3KjMzUzk5OfL19VXHjh0VGxure+65R9dcc02NYxct\n",
              "WqR///vf+vLLL5Wamqri4mKH0+UFBgZqyZIlWrlypVavXq3jx4/LZDKpW7duGjt2rO6//359/PHH\n",
              "LfF24abmzZunhIQEJSUlKSMjQ7m5uSotLVWbNm3Uo0cPDRs2THfffXeDVzNMSUnRW2+9pcjISD34\n",
              "4IO17hccHKx3331XCxcu1KZNm5STk6PIyEjdfvvtmj59OuHDDa1bt05SxVz8tjl468P5B4krwAAA\n",
              "APAy9AADAADAqxCAAQAA4FUIwAAAAPAqBGAAAAB4FQIwAAAAvAoBGAAAAF6FAAwAAACvQgAGAACA\n",
              "VyEAAwAAwKsQgAEAAOBVCMAAAADwKgRgAAAAeBUCMAAAALwKARgAAABe5f8DaumcCUW0YQ4AAAAA\n",
              "SUVORK5CYII=\n",
              "\">\n",
              "      </div>\n",
              "      <script type=\"text/javascript\">\n",
              "        (() => {\n",
              "          const chartElement = document.getElementById(\"chart-377692cd-264d-4006-a81c-92807209d38f\");\n",
              "          async function getCodeForChartHandler(event) {\n",
              "            const chartCodeResponse =  await google.colab.kernel.invokeFunction(\n",
              "                'getCodeForChart', [\"chart-377692cd-264d-4006-a81c-92807209d38f\"], {});\n",
              "            const responseJson = chartCodeResponse.data['application/json'];\n",
              "            await google.colab.notebook.addCell(responseJson.code, 'code');\n",
              "          }\n",
              "          chartElement.onclick = getCodeForChartHandler;\n",
              "        })();\n",
              "      </script>\n",
              "      <style>\n",
              "        .colab-quickchart-chart-with-code  {\n",
              "            display: block;\n",
              "            float: left;\n",
              "            border: 1px solid transparent;\n",
              "        }\n",
              "\n",
              "        .colab-quickchart-chart-with-code:hover {\n",
              "            cursor: pointer;\n",
              "            border: 1px solid #aaa;\n",
              "        }\n",
              "      </style>"
            ]
          },
          "metadata": {}
        }
      ]
    },
    {
      "cell_type": "code",
      "source": [
        "print(breast_cancer.variables)"
      ],
      "metadata": {
        "colab": {
          "base_uri": "https://localhost:8080/",
          "height": 0
        },
        "id": "TAL8y2QI5P9S",
        "outputId": "06f34a84-f5ca-457e-ae14-701e9bf673f6"
      },
      "execution_count": 15,
      "outputs": [
        {
          "output_type": "stream",
          "name": "stdout",
          "text": [
            "          name     role         type demographic  \\\n",
            "0        Class   Target       Binary        None   \n",
            "1          age  Feature  Categorical         Age   \n",
            "2    menopause  Feature  Categorical        None   \n",
            "3   tumor-size  Feature  Categorical        None   \n",
            "4    inv-nodes  Feature  Categorical        None   \n",
            "5    node-caps  Feature       Binary        None   \n",
            "6    deg-malig  Feature      Integer        None   \n",
            "7       breast  Feature       Binary        None   \n",
            "8  breast-quad  Feature  Categorical        None   \n",
            "9     irradiat  Feature       Binary        None   \n",
            "\n",
            "                                         description  units missing_values  \n",
            "0            no-recurrence-events, recurrence-events   None             no  \n",
            "1  10-19, 20-29, 30-39, 40-49, 50-59, 60-69, 70-7...  years             no  \n",
            "2                                lt40, ge40, premeno   None             no  \n",
            "3  0-4, 5-9, 10-14, 15-19, 20-24, 25-29, 30-34, 3...   None             no  \n",
            "4   0-2, 3-5, 6-8, 9-11, 12-14, 15-17, 18-20, 21-...   None             no  \n",
            "5                                            yes, no   None            yes  \n",
            "6                                            1, 2, 3   None             no  \n",
            "7                                        left, right   None             no  \n",
            "8   left-up, left-low, right-up,\\tright-low, central   None            yes  \n",
            "9                                            yes, no   None             no  \n"
          ]
        }
      ]
    },
    {
      "cell_type": "code",
      "source": [
        "print(df.isnull().sum())"
      ],
      "metadata": {
        "colab": {
          "base_uri": "https://localhost:8080/",
          "height": 0
        },
        "id": "jRZEoUdT5050",
        "outputId": "023a330e-8016-479d-c814-dfbddc201942"
      },
      "execution_count": 16,
      "outputs": [
        {
          "output_type": "stream",
          "name": "stdout",
          "text": [
            "Class          0\n",
            "age            0\n",
            "menopause      0\n",
            "tumor-size     0\n",
            "inv-nodes      0\n",
            "node-caps      0\n",
            "deg-malig      0\n",
            "breast         0\n",
            "breast-quad    0\n",
            "irradiat       0\n",
            "dtype: int64\n"
          ]
        }
      ]
    },
    {
      "cell_type": "code",
      "source": [
        "# Identify categorical columns (excluding the target variable 'Class' if you don't want to encode it)\n",
        "categorical_cols = ['age', 'menopause', 'tumor-size', 'inv-nodes', 'node-caps', 'breast', 'breast-quad', 'irradiat']\n",
        "\n",
        "# Perform one-hot encoding\n",
        "df_encoded = pd.get_dummies(df, columns=categorical_cols, drop_first=True)\n",
        "\n",
        "# Display the first few rows of the encoded DataFrame\n",
        "print(\"DataFrame after one-hot encoding:\")\n",
        "display(df_encoded.head())\n",
        "\n",
        "# Display the shape of the new DataFrame to show the added columns\n",
        "print(\"\\nShape of the encoded DataFrame:\", df_encoded.shape)"
      ],
      "metadata": {
        "colab": {
          "base_uri": "https://localhost:8080/",
          "height": 516
        },
        "id": "9rLYetUR8JDl",
        "outputId": "679a3709-f9ba-44d9-b16e-d52620f1d22e"
      },
      "execution_count": 17,
      "outputs": [
        {
          "output_type": "stream",
          "name": "stdout",
          "text": [
            "DataFrame after one-hot encoding:\n"
          ]
        },
        {
          "output_type": "display_data",
          "data": {
            "text/plain": [
              "                  Class  deg-malig  age_30-39  age_40-49  age_50-59  \\\n",
              "0  no-recurrence-events          3       True      False      False   \n",
              "1  no-recurrence-events          2      False       True      False   \n",
              "2  no-recurrence-events          2      False       True      False   \n",
              "3  no-recurrence-events          2      False      False      False   \n",
              "4  no-recurrence-events          2      False       True      False   \n",
              "\n",
              "   age_60-69  age_70-79  menopause_lt40  menopause_premeno  tumor-size_09-May  \\\n",
              "0      False      False           False               True              False   \n",
              "1      False      False           False               True              False   \n",
              "2      False      False           False               True              False   \n",
              "3       True      False           False              False              False   \n",
              "4      False      False           False               True              False   \n",
              "\n",
              "   ...  inv-nodes_24-26  node-caps_no  node-caps_yes  breast_right  \\\n",
              "0  ...            False          True          False         False   \n",
              "1  ...            False          True          False          True   \n",
              "2  ...            False          True          False         False   \n",
              "3  ...            False          True          False          True   \n",
              "4  ...            False          True          False          True   \n",
              "\n",
              "   breast-quad_central  breast-quad_left_low  breast-quad_left_up  \\\n",
              "0                False                  True                False   \n",
              "1                False                 False                False   \n",
              "2                False                  True                False   \n",
              "3                False                 False                 True   \n",
              "4                False                 False                False   \n",
              "\n",
              "   breast-quad_right_low  breast-quad_right_up  irradiat_yes  \n",
              "0                  False                 False         False  \n",
              "1                  False                  True         False  \n",
              "2                  False                 False         False  \n",
              "3                  False                 False         False  \n",
              "4                   True                 False         False  \n",
              "\n",
              "[5 rows x 34 columns]"
            ],
            "text/html": [
              "\n",
              "  <div id=\"df-b142376a-08da-4013-90fd-a34663436604\" class=\"colab-df-container\">\n",
              "    <div>\n",
              "<style scoped>\n",
              "    .dataframe tbody tr th:only-of-type {\n",
              "        vertical-align: middle;\n",
              "    }\n",
              "\n",
              "    .dataframe tbody tr th {\n",
              "        vertical-align: top;\n",
              "    }\n",
              "\n",
              "    .dataframe thead th {\n",
              "        text-align: right;\n",
              "    }\n",
              "</style>\n",
              "<table border=\"1\" class=\"dataframe\">\n",
              "  <thead>\n",
              "    <tr style=\"text-align: right;\">\n",
              "      <th></th>\n",
              "      <th>Class</th>\n",
              "      <th>deg-malig</th>\n",
              "      <th>age_30-39</th>\n",
              "      <th>age_40-49</th>\n",
              "      <th>age_50-59</th>\n",
              "      <th>age_60-69</th>\n",
              "      <th>age_70-79</th>\n",
              "      <th>menopause_lt40</th>\n",
              "      <th>menopause_premeno</th>\n",
              "      <th>tumor-size_09-May</th>\n",
              "      <th>...</th>\n",
              "      <th>inv-nodes_24-26</th>\n",
              "      <th>node-caps_no</th>\n",
              "      <th>node-caps_yes</th>\n",
              "      <th>breast_right</th>\n",
              "      <th>breast-quad_central</th>\n",
              "      <th>breast-quad_left_low</th>\n",
              "      <th>breast-quad_left_up</th>\n",
              "      <th>breast-quad_right_low</th>\n",
              "      <th>breast-quad_right_up</th>\n",
              "      <th>irradiat_yes</th>\n",
              "    </tr>\n",
              "  </thead>\n",
              "  <tbody>\n",
              "    <tr>\n",
              "      <th>0</th>\n",
              "      <td>no-recurrence-events</td>\n",
              "      <td>3</td>\n",
              "      <td>True</td>\n",
              "      <td>False</td>\n",
              "      <td>False</td>\n",
              "      <td>False</td>\n",
              "      <td>False</td>\n",
              "      <td>False</td>\n",
              "      <td>True</td>\n",
              "      <td>False</td>\n",
              "      <td>...</td>\n",
              "      <td>False</td>\n",
              "      <td>True</td>\n",
              "      <td>False</td>\n",
              "      <td>False</td>\n",
              "      <td>False</td>\n",
              "      <td>True</td>\n",
              "      <td>False</td>\n",
              "      <td>False</td>\n",
              "      <td>False</td>\n",
              "      <td>False</td>\n",
              "    </tr>\n",
              "    <tr>\n",
              "      <th>1</th>\n",
              "      <td>no-recurrence-events</td>\n",
              "      <td>2</td>\n",
              "      <td>False</td>\n",
              "      <td>True</td>\n",
              "      <td>False</td>\n",
              "      <td>False</td>\n",
              "      <td>False</td>\n",
              "      <td>False</td>\n",
              "      <td>True</td>\n",
              "      <td>False</td>\n",
              "      <td>...</td>\n",
              "      <td>False</td>\n",
              "      <td>True</td>\n",
              "      <td>False</td>\n",
              "      <td>True</td>\n",
              "      <td>False</td>\n",
              "      <td>False</td>\n",
              "      <td>False</td>\n",
              "      <td>False</td>\n",
              "      <td>True</td>\n",
              "      <td>False</td>\n",
              "    </tr>\n",
              "    <tr>\n",
              "      <th>2</th>\n",
              "      <td>no-recurrence-events</td>\n",
              "      <td>2</td>\n",
              "      <td>False</td>\n",
              "      <td>True</td>\n",
              "      <td>False</td>\n",
              "      <td>False</td>\n",
              "      <td>False</td>\n",
              "      <td>False</td>\n",
              "      <td>True</td>\n",
              "      <td>False</td>\n",
              "      <td>...</td>\n",
              "      <td>False</td>\n",
              "      <td>True</td>\n",
              "      <td>False</td>\n",
              "      <td>False</td>\n",
              "      <td>False</td>\n",
              "      <td>True</td>\n",
              "      <td>False</td>\n",
              "      <td>False</td>\n",
              "      <td>False</td>\n",
              "      <td>False</td>\n",
              "    </tr>\n",
              "    <tr>\n",
              "      <th>3</th>\n",
              "      <td>no-recurrence-events</td>\n",
              "      <td>2</td>\n",
              "      <td>False</td>\n",
              "      <td>False</td>\n",
              "      <td>False</td>\n",
              "      <td>True</td>\n",
              "      <td>False</td>\n",
              "      <td>False</td>\n",
              "      <td>False</td>\n",
              "      <td>False</td>\n",
              "      <td>...</td>\n",
              "      <td>False</td>\n",
              "      <td>True</td>\n",
              "      <td>False</td>\n",
              "      <td>True</td>\n",
              "      <td>False</td>\n",
              "      <td>False</td>\n",
              "      <td>True</td>\n",
              "      <td>False</td>\n",
              "      <td>False</td>\n",
              "      <td>False</td>\n",
              "    </tr>\n",
              "    <tr>\n",
              "      <th>4</th>\n",
              "      <td>no-recurrence-events</td>\n",
              "      <td>2</td>\n",
              "      <td>False</td>\n",
              "      <td>True</td>\n",
              "      <td>False</td>\n",
              "      <td>False</td>\n",
              "      <td>False</td>\n",
              "      <td>False</td>\n",
              "      <td>True</td>\n",
              "      <td>False</td>\n",
              "      <td>...</td>\n",
              "      <td>False</td>\n",
              "      <td>True</td>\n",
              "      <td>False</td>\n",
              "      <td>True</td>\n",
              "      <td>False</td>\n",
              "      <td>False</td>\n",
              "      <td>False</td>\n",
              "      <td>True</td>\n",
              "      <td>False</td>\n",
              "      <td>False</td>\n",
              "    </tr>\n",
              "  </tbody>\n",
              "</table>\n",
              "<p>5 rows × 34 columns</p>\n",
              "</div>\n",
              "    <div class=\"colab-df-buttons\">\n",
              "\n",
              "  <div class=\"colab-df-container\">\n",
              "    <button class=\"colab-df-convert\" onclick=\"convertToInteractive('df-b142376a-08da-4013-90fd-a34663436604')\"\n",
              "            title=\"Convert this dataframe to an interactive table.\"\n",
              "            style=\"display:none;\">\n",
              "\n",
              "  <svg xmlns=\"http://www.w3.org/2000/svg\" height=\"24px\" viewBox=\"0 -960 960 960\">\n",
              "    <path d=\"M120-120v-720h720v720H120Zm60-500h600v-160H180v160Zm220 220h160v-160H400v160Zm0 220h160v-160H400v160ZM180-400h160v-160H180v160Zm440 0h160v-160H620v160ZM180-180h160v-160H180v160Zm440 0h160v-160H620v160Z\"/>\n",
              "  </svg>\n",
              "    </button>\n",
              "\n",
              "  <style>\n",
              "    .colab-df-container {\n",
              "      display:flex;\n",
              "      gap: 12px;\n",
              "    }\n",
              "\n",
              "    .colab-df-convert {\n",
              "      background-color: #E8F0FE;\n",
              "      border: none;\n",
              "      border-radius: 50%;\n",
              "      cursor: pointer;\n",
              "      display: none;\n",
              "      fill: #1967D2;\n",
              "      height: 32px;\n",
              "      padding: 0 0 0 0;\n",
              "      width: 32px;\n",
              "    }\n",
              "\n",
              "    .colab-df-convert:hover {\n",
              "      background-color: #E2EBFA;\n",
              "      box-shadow: 0px 1px 2px rgba(60, 64, 67, 0.3), 0px 1px 3px 1px rgba(60, 64, 67, 0.15);\n",
              "      fill: #174EA6;\n",
              "    }\n",
              "\n",
              "    .colab-df-buttons div {\n",
              "      margin-bottom: 4px;\n",
              "    }\n",
              "\n",
              "    [theme=dark] .colab-df-convert {\n",
              "      background-color: #3B4455;\n",
              "      fill: #D2E3FC;\n",
              "    }\n",
              "\n",
              "    [theme=dark] .colab-df-convert:hover {\n",
              "      background-color: #434B5C;\n",
              "      box-shadow: 0px 1px 3px 1px rgba(0, 0, 0, 0.15);\n",
              "      filter: drop-shadow(0px 1px 2px rgba(0, 0, 0, 0.3));\n",
              "      fill: #FFFFFF;\n",
              "    }\n",
              "  </style>\n",
              "\n",
              "    <script>\n",
              "      const buttonEl =\n",
              "        document.querySelector('#df-b142376a-08da-4013-90fd-a34663436604 button.colab-df-convert');\n",
              "      buttonEl.style.display =\n",
              "        google.colab.kernel.accessAllowed ? 'block' : 'none';\n",
              "\n",
              "      async function convertToInteractive(key) {\n",
              "        const element = document.querySelector('#df-b142376a-08da-4013-90fd-a34663436604');\n",
              "        const dataTable =\n",
              "          await google.colab.kernel.invokeFunction('convertToInteractive',\n",
              "                                                    [key], {});\n",
              "        if (!dataTable) return;\n",
              "\n",
              "        const docLinkHtml = 'Like what you see? Visit the ' +\n",
              "          '<a target=\"_blank\" href=https://colab.research.google.com/notebooks/data_table.ipynb>data table notebook</a>'\n",
              "          + ' to learn more about interactive tables.';\n",
              "        element.innerHTML = '';\n",
              "        dataTable['output_type'] = 'display_data';\n",
              "        await google.colab.output.renderOutput(dataTable, element);\n",
              "        const docLink = document.createElement('div');\n",
              "        docLink.innerHTML = docLinkHtml;\n",
              "        element.appendChild(docLink);\n",
              "      }\n",
              "    </script>\n",
              "  </div>\n",
              "\n",
              "\n",
              "    <div id=\"df-2240f2e8-c338-47de-b615-9a8f18be2636\">\n",
              "      <button class=\"colab-df-quickchart\" onclick=\"quickchart('df-2240f2e8-c338-47de-b615-9a8f18be2636')\"\n",
              "                title=\"Suggest charts\"\n",
              "                style=\"display:none;\">\n",
              "\n",
              "<svg xmlns=\"http://www.w3.org/2000/svg\" height=\"24px\"viewBox=\"0 0 24 24\"\n",
              "     width=\"24px\">\n",
              "    <g>\n",
              "        <path d=\"M19 3H5c-1.1 0-2 .9-2 2v14c0 1.1.9 2 2 2h14c1.1 0 2-.9 2-2V5c0-1.1-.9-2-2-2zM9 17H7v-7h2v7zm4 0h-2V7h2v10zm4 0h-2v-4h2v4z\"/>\n",
              "    </g>\n",
              "</svg>\n",
              "      </button>\n",
              "\n",
              "<style>\n",
              "  .colab-df-quickchart {\n",
              "      --bg-color: #E8F0FE;\n",
              "      --fill-color: #1967D2;\n",
              "      --hover-bg-color: #E2EBFA;\n",
              "      --hover-fill-color: #174EA6;\n",
              "      --disabled-fill-color: #AAA;\n",
              "      --disabled-bg-color: #DDD;\n",
              "  }\n",
              "\n",
              "  [theme=dark] .colab-df-quickchart {\n",
              "      --bg-color: #3B4455;\n",
              "      --fill-color: #D2E3FC;\n",
              "      --hover-bg-color: #434B5C;\n",
              "      --hover-fill-color: #FFFFFF;\n",
              "      --disabled-bg-color: #3B4455;\n",
              "      --disabled-fill-color: #666;\n",
              "  }\n",
              "\n",
              "  .colab-df-quickchart {\n",
              "    background-color: var(--bg-color);\n",
              "    border: none;\n",
              "    border-radius: 50%;\n",
              "    cursor: pointer;\n",
              "    display: none;\n",
              "    fill: var(--fill-color);\n",
              "    height: 32px;\n",
              "    padding: 0;\n",
              "    width: 32px;\n",
              "  }\n",
              "\n",
              "  .colab-df-quickchart:hover {\n",
              "    background-color: var(--hover-bg-color);\n",
              "    box-shadow: 0 1px 2px rgba(60, 64, 67, 0.3), 0 1px 3px 1px rgba(60, 64, 67, 0.15);\n",
              "    fill: var(--button-hover-fill-color);\n",
              "  }\n",
              "\n",
              "  .colab-df-quickchart-complete:disabled,\n",
              "  .colab-df-quickchart-complete:disabled:hover {\n",
              "    background-color: var(--disabled-bg-color);\n",
              "    fill: var(--disabled-fill-color);\n",
              "    box-shadow: none;\n",
              "  }\n",
              "\n",
              "  .colab-df-spinner {\n",
              "    border: 2px solid var(--fill-color);\n",
              "    border-color: transparent;\n",
              "    border-bottom-color: var(--fill-color);\n",
              "    animation:\n",
              "      spin 1s steps(1) infinite;\n",
              "  }\n",
              "\n",
              "  @keyframes spin {\n",
              "    0% {\n",
              "      border-color: transparent;\n",
              "      border-bottom-color: var(--fill-color);\n",
              "      border-left-color: var(--fill-color);\n",
              "    }\n",
              "    20% {\n",
              "      border-color: transparent;\n",
              "      border-left-color: var(--fill-color);\n",
              "      border-top-color: var(--fill-color);\n",
              "    }\n",
              "    30% {\n",
              "      border-color: transparent;\n",
              "      border-left-color: var(--fill-color);\n",
              "      border-top-color: var(--fill-color);\n",
              "      border-right-color: var(--fill-color);\n",
              "    }\n",
              "    40% {\n",
              "      border-color: transparent;\n",
              "      border-right-color: var(--fill-color);\n",
              "      border-top-color: var(--fill-color);\n",
              "    }\n",
              "    60% {\n",
              "      border-color: transparent;\n",
              "      border-right-color: var(--fill-color);\n",
              "    }\n",
              "    80% {\n",
              "      border-color: transparent;\n",
              "      border-right-color: var(--fill-color);\n",
              "      border-bottom-color: var(--fill-color);\n",
              "    }\n",
              "    90% {\n",
              "      border-color: transparent;\n",
              "      border-bottom-color: var(--fill-color);\n",
              "    }\n",
              "  }\n",
              "</style>\n",
              "\n",
              "      <script>\n",
              "        async function quickchart(key) {\n",
              "          const quickchartButtonEl =\n",
              "            document.querySelector('#' + key + ' button');\n",
              "          quickchartButtonEl.disabled = true;  // To prevent multiple clicks.\n",
              "          quickchartButtonEl.classList.add('colab-df-spinner');\n",
              "          try {\n",
              "            const charts = await google.colab.kernel.invokeFunction(\n",
              "                'suggestCharts', [key], {});\n",
              "          } catch (error) {\n",
              "            console.error('Error during call to suggestCharts:', error);\n",
              "          }\n",
              "          quickchartButtonEl.classList.remove('colab-df-spinner');\n",
              "          quickchartButtonEl.classList.add('colab-df-quickchart-complete');\n",
              "        }\n",
              "        (() => {\n",
              "          let quickchartButtonEl =\n",
              "            document.querySelector('#df-2240f2e8-c338-47de-b615-9a8f18be2636 button');\n",
              "          quickchartButtonEl.style.display =\n",
              "            google.colab.kernel.accessAllowed ? 'block' : 'none';\n",
              "        })();\n",
              "      </script>\n",
              "    </div>\n",
              "\n",
              "    </div>\n",
              "  </div>\n"
            ],
            "application/vnd.google.colaboratory.intrinsic+json": {
              "type": "dataframe"
            }
          },
          "metadata": {}
        },
        {
          "output_type": "stream",
          "name": "stdout",
          "text": [
            "\n",
            "Shape of the encoded DataFrame: (286, 34)\n"
          ]
        }
      ]
    },
    {
      "cell_type": "code",
      "source": [
        "# Convert the target variable 'Class' to numerical\n",
        "df_encoded['Class_numeric'] = df_encoded['Class'].apply(lambda x: 1 if x == 'recurrence-events' else 0)\n",
        "\n",
        "# Drop the original 'Class' column as it's not needed for correlation calculation\n",
        "df_numeric = df_encoded.drop('Class', axis=1)\n",
        "\n",
        "# Calculate the correlation matrix\n",
        "correlation_matrix = df_numeric.corr()\n",
        "\n",
        "# Get correlations with the target variable 'Class_numeric'\n",
        "target_correlation = correlation_matrix['Class_numeric'].sort_values(ascending=False)\n",
        "\n",
        "# Drop the correlation with itself\n",
        "target_correlation = target_correlation.drop('Class_numeric', errors='ignore')\n",
        "\n",
        "# Get the top 3 attributes with the highest absolute correlation\n",
        "top_3_attributes = target_correlation.abs().nlargest(3)\n",
        "\n",
        "print(\"Top 3 attributes based on correlation with 'Class':\")\n",
        "print(top_3_attributes)"
      ],
      "metadata": {
        "colab": {
          "base_uri": "https://localhost:8080/",
          "height": 0
        },
        "id": "KTbCX5MS9wpe",
        "outputId": "5100e9ef-8227-4c96-e50b-126b43b02923"
      },
      "execution_count": 19,
      "outputs": [
        {
          "output_type": "stream",
          "name": "stdout",
          "text": [
            "Top 3 attributes based on correlation with 'Class':\n",
            "deg-malig        0.299400\n",
            "node-caps_yes    0.276792\n",
            "node-caps_no     0.274964\n",
            "Name: Class_numeric, dtype: float64\n"
          ]
        }
      ]
    },
    {
      "cell_type": "code",
      "source": [],
      "metadata": {
        "id": "wDbc6F86_Q4-"
      },
      "execution_count": null,
      "outputs": []
    },
    {
      "cell_type": "markdown",
      "metadata": {
        "id": "a8f2e020"
      },
      "source": [
        "Based on the correlation analysis performed in the previous step, the top three attributes with the strongest relationship (highest absolute correlation) with the target variable 'Class' are:\n",
        "\n",
        "1.  **deg-malig**\n",
        "2.  **node-caps_yes**\n",
        "3.  **node-caps_no** (which is complementary to node-caps_yes)\n",
        "\n",
        "The diagrams in the following cell visualize the distribution of these attributes with respect to the target variable 'Class'."
      ]
    },
    {
      "cell_type": "markdown",
      "source": [
        "2 a"
      ],
      "metadata": {
        "id": "oH5iDDzgY8eS"
      }
    },
    {
      "cell_type": "code",
      "source": [
        "import matplotlib.pyplot as plt\n",
        "import seaborn as sns\n",
        "\n",
        "# Plot distribution of 'deg-malig' with respect to 'Class'\n",
        "plt.figure(figsize=(8, 5))\n",
        "sns.countplot(data=df_encoded, x='deg-malig', hue='Class')\n",
        "plt.title('Distribution of deg-malig by Class')\n",
        "plt.xlabel('Degree of Malignancy')\n",
        "plt.ylabel('Count')\n",
        "plt.show()\n",
        "\n",
        "# Plot distribution of 'node-caps' with respect to 'Class'\n",
        "# We can use either 'node-caps_yes' or 'node-caps_no' since they are complementary\n",
        "plt.figure(figsize=(8, 5))\n",
        "sns.countplot(data=df_encoded, x='node-caps_yes', hue='Class')\n",
        "plt.title('Distribution of Node Caps (Yes) by Class')\n",
        "plt.xlabel('Node Caps (Yes)')\n",
        "plt.ylabel('Count')\n",
        "plt.xticks(ticks=[0, 1], labels=['No', 'Yes']) # Label the x-axis for clarity\n",
        "plt.show()"
      ],
      "metadata": {
        "colab": {
          "base_uri": "https://localhost:8080/",
          "height": 1000
        },
        "id": "DOalUfQV-yh8",
        "outputId": "e339dea2-8a92-4c90-a924-2ef30807ad1c"
      },
      "execution_count": 20,
      "outputs": [
        {
          "output_type": "display_data",
          "data": {
            "text/plain": [
              "<Figure size 800x500 with 1 Axes>"
            ],
            "image/png": "[encoded data removed]"
          },
          "metadata": {}
        },
        {
          "output_type": "display_data",
          "data": {
            "text/plain": [
              "<Figure size 800x500 with 1 Axes>"
            ],
            "image/png": "[encoded data removed]"
          },
          "metadata": {}
        }
      ]
    },
    {
      "cell_type": "markdown",
      "source": [
        "Degree of Malignancy = 1 (Low malignancy):\n",
        "\n",
        "Majority of cases are no-recurrence-events (~60).\n",
        "\n",
        "Very few recurrence-events (~10–12).\n",
        "\n",
        "Suggests low malignancy tumors are less likely to recur.\n",
        "\n",
        "Degree of Malignancy = 2 (Intermediate malignancy):\n",
        "\n",
        "Most cases are still no-recurrence-events (~100).\n",
        "\n",
        "Some recurrence-events (~25–30).\n",
        "\n",
        "Indicates higher recurrence risk compared to degree 1, but still dominated by non-recurrences.\n",
        "\n",
        "Degree of Malignancy = 3 (High malignancy):\n",
        "\n",
        "Counts of recurrence-events (~45) and no-recurrence-events (~40) are roughly balanced.\n",
        "\n",
        "Shows that at higher malignancy, the probability of recurrence is substantially higher and nearly equal to non-recurrence."
      ],
      "metadata": {
        "id": "h3C3r1UoGWSk"
      }
    },
    {
      "cell_type": "markdown",
      "source": [
        "Overall Insight:\n",
        "\n",
        "Trend: As malignancy increases from 1 → 3, recurrence events become more frequent.\n",
        "\n",
        "Low degree (1): Very low recurrence risk.\n",
        "\n",
        "Intermediate degree (2): Moderate recurrence risk, but still more non-recurrence cases.\n",
        "\n",
        "High degree (3): Nearly equal risk of recurrence vs. non-recurrence.\n",
        "\n",
        "📌 Conclusion: Degree of malignancy strongly correlates with recurrence risk — higher malignancy leads to a higher likelihood of cancer recurrence."
      ],
      "metadata": {
        "id": "yOcXI8WpGivG"
      }
    },
    {
      "cell_type": "markdown",
      "source": [
        "2 b"
      ],
      "metadata": {
        "id": "H_jNSxXNY4st"
      }
    },
    {
      "cell_type": "code",
      "source": [
        "import matplotlib.pyplot as plt\n",
        "import seaborn as sns\n",
        "\n",
        "# Visualize the relationship between 'tumor-size' and 'age'\n",
        "plt.figure(figsize=(12, 6))\n",
        "sns.countplot(data=df, x='tumor-size', hue='age', order=sorted(df['tumor-size'].unique()))\n",
        "plt.title('Distribution of Tumor Size by Age Group')\n",
        "plt.xlabel('Tumor Size')\n",
        "plt.ylabel('Count')\n",
        "plt.xticks(rotation=45, ha='right')\n",
        "plt.legend(title='Age Group')\n",
        "plt.tight_layout()\n",
        "plt.show()\n",
        "\n",
        "# Visualize the relationship between 'tumor-size' and 'menopause'\n",
        "plt.figure(figsize=(12, 6))\n",
        "sns.countplot(data=df, x='tumor-size', hue='menopause', order=sorted(df['tumor-size'].unique()))\n",
        "plt.title('Distribution of Tumor Size by Menopause Status')\n",
        "plt.xlabel('Tumor Size')\n",
        "plt.ylabel('Count')\n",
        "plt.xticks(rotation=45, ha='right')\n",
        "plt.legend(title='Menopause Status')\n",
        "plt.tight_layout()\n",
        "plt.show()\n",
        "\n",
        "# Visualize the relationship between 'age' and 'menopause'\n",
        "plt.figure(figsize=(10, 6))\n",
        "sns.countplot(data=df, x='age', hue='menopause', order=sorted(df['age'].unique()))\n",
        "plt.title('Distribution of Age Group by Menopause Status')\n",
        "plt.xlabel('Age Group')\n",
        "plt.ylabel('Count')\n",
        "plt.legend(title='Menopause Status')\n",
        "plt.tight_layout()\n",
        "plt.show()"
      ],
      "metadata": {
        "colab": {
          "base_uri": "https://localhost:8080/",
          "height": 1529
        },
        "id": "e8EzLPwuG8c3",
        "outputId": "d58e37f2-1330-4c6d-e092-82dcaccf8d21"
      },
      "execution_count": 21,
      "outputs": [
        {
          "output_type": "display_data",
          "data": {
            "text/plain": [
              "<Figure size 1200x600 with 1 Axes>"
            ],
            "image/png": "[encoded data removed]"
          },
          "metadata": {}
        },
        {
          "output_type": "display_data",
          "data": {
            "text/plain": [
              "<Figure size 1200x600 with 1 Axes>"
            ],
            "image/png": "[encoded data removed]"
          },
          "metadata": {}
        },
        {
          "output_type": "display_data",
          "data": {
            "text/plain": [
              "<Figure size 1000x600 with 1 Axes>"
            ],
            "image/png": "[encoded data removed]"
          },
          "metadata": {}
        }
      ]
    },
    {
      "cell_type": "markdown",
      "source": [
        "Image 1:\n",
        "Tumors are most commonly detected in the 40–59 age range, especially with sizes between 20–34 mm.\n",
        "\n",
        "Younger (<30) and older (>70) patients have relatively fewer cases.\n",
        "\n",
        "This suggests that middle age is a critical risk window for tumor development or detection, and tumor size tends to cluster in medium ranges rather than very small or very large sizes.\n",
        "\n",
        "Image 2:\n",
        "Premenopausal women show the highest frequency of medium-sized tumors (20–34 mm), indicating earlier tumor growth patterns before menopause.\n",
        "\n",
        "Women aged ≥40 also display high tumor counts in similar ranges, though generally fewer than premenopausal women.\n",
        "\n",
        "Women <40 have very few cases overall, suggesting lower incidence or smaller sample size in this category.\n",
        "\n",
        "Across all groups, tumors tend to cluster in medium size categories rather than at very small or very large extremes.\n",
        "\n",
        "Image 3:\n",
        "\n",
        "Tumor distribution is strongly clustered in the 20–34 mm range, with premenopausal women showing the highest frequency, followed by women ≥40, while women <40 have the fewest cases.\n"
      ],
      "metadata": {
        "id": "LGrxEerwNXGw"
      }
    },
    {
      "cell_type": "markdown",
      "source": [
        "The distribution of tumor size by menopause status revealed that most tumors clustered within the 20–34 mm range across all groups. Premenopausal women exhibited the highest frequency, with peaks at 25–29 mm (approximately 35 cases) and 30–34 mm (around 30 cases). Women aged ≥40 also showed substantial tumor counts, particularly at 20–24 mm (about 23 cases) and 30–34 mm (about 28 cases), although these were slightly lower than those observed in premenopausal women. In contrast, women aged <40 demonstrated very few cases overall, with minimal representation across all tumor size categories. Tumors larger than 40 mm were uncommon across all menopause groups. Collectively, these findings suggest that medium-sized tumors (20–34 mm) are most prevalent, particularly among premenopausal and older women, while very small and very large tumors occur infrequently."
      ],
      "metadata": {
        "id": "IaTHi7E7POCC"
      }
    },
    {
      "cell_type": "markdown",
      "source": [
        "2 c\n"
      ],
      "metadata": {
        "id": "zHksJpcQYucG"
      }
    },
    {
      "cell_type": "code",
      "source": [
        "def range_to_midpoint(range_str):\n",
        "    \"\"\"Converts a string range (e.g., '20-24') to its numerical midpoint, handling errors.\"\"\"\n",
        "    if pd.isna(range_str):\n",
        "        return np.nan\n",
        "    # Handle the specific case '05-Mar' as '3-5' based on dataset description\n",
        "    if range_str == '05-Mar':\n",
        "        range_str = '3-5'\n",
        "    try:\n",
        "        if '-' in range_str:\n",
        "            start, end = map(int, range_str.split('-'))\n",
        "            return (start + end) / 2\n",
        "        else:\n",
        "            # Attempt to convert single values directly, though expecting ranges\n",
        "            return int(range_str)\n",
        "    except ValueError:\n",
        "        # Return NaN for values that cannot be converted\n",
        "        print(f\"Warning: Could not convert '{range_str}' to numerical.\")\n",
        "        return np.nan\n",
        "\n",
        "\n",
        "# Apply the conversion function to 'tumor-size' and 'inv-nodes'\n",
        "df['tumor-size_numeric'] = df['tumor-size'].apply(range_to_midpoint)\n",
        "df['inv-nodes_numeric'] = df['inv-nodes'].apply(range_to_midpoint)\n",
        "\n",
        "# Display the first few rows with the new numerical columns\n",
        "print(\"DataFrame with numerical 'tumor-size' and 'inv-nodes':\")\n",
        "display(df[['tumor-size', 'tumor-size_numeric', 'inv-nodes', 'inv-nodes_numeric']].head())\n",
        "\n",
        "# Display descriptive statistics for the new columns\n",
        "print(\"\\nDescriptive statistics for new numerical columns:\")\n",
        "display(df[['tumor-size_numeric', 'inv-nodes_numeric']].describe())\n",
        "\n",
        "# Inspect unique values in the original columns to find problematic entries\n",
        "print(\"\\nUnique values in 'tumor-size':\")\n",
        "print(df['tumor-size'].unique())\n",
        "\n",
        "print(\"\\nUnique values in 'inv-nodes':\")\n",
        "print(df['inv-nodes'].unique())"
      ],
      "metadata": {
        "colab": {
          "base_uri": "https://localhost:8080/",
          "height": 1000
        },
        "id": "bQ6F657KCODI",
        "outputId": "cb9d3604-910d-48d5-fd71-e11e7ce35beb"
      },
      "execution_count": 23,
      "outputs": [
        {
          "output_type": "stream",
          "name": "stdout",
          "text": [
            "Warning: Could not convert '14-Oct' to numerical.\n",
            "Warning: Could not convert '14-Oct' to numerical.\n",
            "Warning: Could not convert '14-Oct' to numerical.\n",
            "Warning: Could not convert '14-Oct' to numerical.\n",
            "Warning: Could not convert '14-Oct' to numerical.\n",
            "Warning: Could not convert '09-May' to numerical.\n",
            "Warning: Could not convert '14-Oct' to numerical.\n",
            "Warning: Could not convert '09-May' to numerical.\n",
            "Warning: Could not convert '14-Oct' to numerical.\n",
            "Warning: Could not convert '14-Oct' to numerical.\n",
            "Warning: Could not convert '14-Oct' to numerical.\n",
            "Warning: Could not convert '09-May' to numerical.\n",
            "Warning: Could not convert '14-Oct' to numerical.\n",
            "Warning: Could not convert '14-Oct' to numerical.\n",
            "Warning: Could not convert '14-Oct' to numerical.\n",
            "Warning: Could not convert '14-Oct' to numerical.\n",
            "Warning: Could not convert '14-Oct' to numerical.\n",
            "Warning: Could not convert '14-Oct' to numerical.\n",
            "Warning: Could not convert '14-Oct' to numerical.\n",
            "Warning: Could not convert '14-Oct' to numerical.\n",
            "Warning: Could not convert '14-Oct' to numerical.\n",
            "Warning: Could not convert '14-Oct' to numerical.\n",
            "Warning: Could not convert '09-May' to numerical.\n",
            "Warning: Could not convert '14-Oct' to numerical.\n",
            "Warning: Could not convert '14-Oct' to numerical.\n",
            "Warning: Could not convert '14-Oct' to numerical.\n",
            "Warning: Could not convert '14-Oct' to numerical.\n",
            "Warning: Could not convert '14-Oct' to numerical.\n",
            "Warning: Could not convert '14-Oct' to numerical.\n",
            "Warning: Could not convert '14-Oct' to numerical.\n",
            "Warning: Could not convert '14-Oct' to numerical.\n",
            "Warning: Could not convert '14-Oct' to numerical.\n",
            "Warning: Could not convert '08-Jun' to numerical.\n",
            "Warning: Could not convert '08-Jun' to numerical.\n",
            "Warning: Could not convert '11-Sep' to numerical.\n",
            "Warning: Could not convert '11-Sep' to numerical.\n",
            "Warning: Could not convert '08-Jun' to numerical.\n",
            "Warning: Could not convert '08-Jun' to numerical.\n",
            "Warning: Could not convert '08-Jun' to numerical.\n",
            "Warning: Could not convert '11-Sep' to numerical.\n",
            "Warning: Could not convert '11-Sep' to numerical.\n",
            "Warning: Could not convert '08-Jun' to numerical.\n",
            "Warning: Could not convert '14-Dec' to numerical.\n",
            "Warning: Could not convert '08-Jun' to numerical.\n",
            "Warning: Could not convert '11-Sep' to numerical.\n",
            "Warning: Could not convert '11-Sep' to numerical.\n",
            "Warning: Could not convert '08-Jun' to numerical.\n",
            "Warning: Could not convert '14-Dec' to numerical.\n",
            "Warning: Could not convert '11-Sep' to numerical.\n",
            "Warning: Could not convert '08-Jun' to numerical.\n",
            "Warning: Could not convert '11-Sep' to numerical.\n",
            "Warning: Could not convert '08-Jun' to numerical.\n",
            "Warning: Could not convert '08-Jun' to numerical.\n",
            "Warning: Could not convert '08-Jun' to numerical.\n",
            "Warning: Could not convert '14-Dec' to numerical.\n",
            "Warning: Could not convert '11-Sep' to numerical.\n",
            "Warning: Could not convert '08-Jun' to numerical.\n",
            "Warning: Could not convert '11-Sep' to numerical.\n",
            "Warning: Could not convert '08-Jun' to numerical.\n",
            "Warning: Could not convert '08-Jun' to numerical.\n",
            "Warning: Could not convert '08-Jun' to numerical.\n",
            "Warning: Could not convert '08-Jun' to numerical.\n",
            "DataFrame with numerical 'tumor-size' and 'inv-nodes':\n"
          ]
        },
        {
          "output_type": "display_data",
          "data": {
            "text/plain": [
              "  tumor-size  tumor-size_numeric inv-nodes  inv-nodes_numeric\n",
              "0      30-34                32.0       0-2                1.0\n",
              "1      20-24                22.0       0-2                1.0\n",
              "2      20-24                22.0       0-2                1.0\n",
              "3      15-19                17.0       0-2                1.0\n",
              "4        0-4                 2.0       0-2                1.0"
            ],
            "text/html": [
              "\n",
              "  <div id=\"df-d9f8c20c-535b-493d-abc8-1d759490b457\" class=\"colab-df-container\">\n",
              "    <div>\n",
              "<style scoped>\n",
              "    .dataframe tbody tr th:only-of-type {\n",
              "        vertical-align: middle;\n",
              "    }\n",
              "\n",
              "    .dataframe tbody tr th {\n",
              "        vertical-align: top;\n",
              "    }\n",
              "\n",
              "    .dataframe thead th {\n",
              "        text-align: right;\n",
              "    }\n",
              "</style>\n",
              "<table border=\"1\" class=\"dataframe\">\n",
              "  <thead>\n",
              "    <tr style=\"text-align: right;\">\n",
              "      <th></th>\n",
              "      <th>tumor-size</th>\n",
              "      <th>tumor-size_numeric</th>\n",
              "      <th>inv-nodes</th>\n",
              "      <th>inv-nodes_numeric</th>\n",
              "    </tr>\n",
              "  </thead>\n",
              "  <tbody>\n",
              "    <tr>\n",
              "      <th>0</th>\n",
              "      <td>30-34</td>\n",
              "      <td>32.0</td>\n",
              "      <td>0-2</td>\n",
              "      <td>1.0</td>\n",
              "    </tr>\n",
              "    <tr>\n",
              "      <th>1</th>\n",
              "      <td>20-24</td>\n",
              "      <td>22.0</td>\n",
              "      <td>0-2</td>\n",
              "      <td>1.0</td>\n",
              "    </tr>\n",
              "    <tr>\n",
              "      <th>2</th>\n",
              "      <td>20-24</td>\n",
              "      <td>22.0</td>\n",
              "      <td>0-2</td>\n",
              "      <td>1.0</td>\n",
              "    </tr>\n",
              "    <tr>\n",
              "      <th>3</th>\n",
              "      <td>15-19</td>\n",
              "      <td>17.0</td>\n",
              "      <td>0-2</td>\n",
              "      <td>1.0</td>\n",
              "    </tr>\n",
              "    <tr>\n",
              "      <th>4</th>\n",
              "      <td>0-4</td>\n",
              "      <td>2.0</td>\n",
              "      <td>0-2</td>\n",
              "      <td>1.0</td>\n",
              "    </tr>\n",
              "  </tbody>\n",
              "</table>\n",
              "</div>\n",
              "    <div class=\"colab-df-buttons\">\n",
              "\n",
              "  <div class=\"colab-df-container\">\n",
              "    <button class=\"colab-df-convert\" onclick=\"convertToInteractive('df-d9f8c20c-535b-493d-abc8-1d759490b457')\"\n",
              "            title=\"Convert this dataframe to an interactive table.\"\n",
              "            style=\"display:none;\">\n",
              "\n",
              "  <svg xmlns=\"http://www.w3.org/2000/svg\" height=\"24px\" viewBox=\"0 -960 960 960\">\n",
              "    <path d=\"M120-120v-720h720v720H120Zm60-500h600v-160H180v160Zm220 220h160v-160H400v160Zm0 220h160v-160H400v160ZM180-400h160v-160H180v160Zm440 0h160v-160H620v160ZM180-180h160v-160H180v160Zm440 0h160v-160H620v160Z\"/>\n",
              "  </svg>\n",
              "    </button>\n",
              "\n",
              "  <style>\n",
              "    .colab-df-container {\n",
              "      display:flex;\n",
              "      gap: 12px;\n",
              "    }\n",
              "\n",
              "    .colab-df-convert {\n",
              "      background-color: #E8F0FE;\n",
              "      border: none;\n",
              "      border-radius: 50%;\n",
              "      cursor: pointer;\n",
              "      display: none;\n",
              "      fill: #1967D2;\n",
              "      height: 32px;\n",
              "      padding: 0 0 0 0;\n",
              "      width: 32px;\n",
              "    }\n",
              "\n",
              "    .colab-df-convert:hover {\n",
              "      background-color: #E2EBFA;\n",
              "      box-shadow: 0px 1px 2px rgba(60, 64, 67, 0.3), 0px 1px 3px 1px rgba(60, 64, 67, 0.15);\n",
              "      fill: #174EA6;\n",
              "    }\n",
              "\n",
              "    .colab-df-buttons div {\n",
              "      margin-bottom: 4px;\n",
              "    }\n",
              "\n",
              "    [theme=dark] .colab-df-convert {\n",
              "      background-color: #3B4455;\n",
              "      fill: #D2E3FC;\n",
              "    }\n",
              "\n",
              "    [theme=dark] .colab-df-convert:hover {\n",
              "      background-color: #434B5C;\n",
              "      box-shadow: 0px 1px 3px 1px rgba(0, 0, 0, 0.15);\n",
              "      filter: drop-shadow(0px 1px 2px rgba(0, 0, 0, 0.3));\n",
              "      fill: #FFFFFF;\n",
              "    }\n",
              "  </style>\n",
              "\n",
              "    <script>\n",
              "      const buttonEl =\n",
              "        document.querySelector('#df-d9f8c20c-535b-493d-abc8-1d759490b457 button.colab-df-convert');\n",
              "      buttonEl.style.display =\n",
              "        google.colab.kernel.accessAllowed ? 'block' : 'none';\n",
              "\n",
              "      async function convertToInteractive(key) {\n",
              "        const element = document.querySelector('#df-d9f8c20c-535b-493d-abc8-1d759490b457');\n",
              "        const dataTable =\n",
              "          await google.colab.kernel.invokeFunction('convertToInteractive',\n",
              "                                                    [key], {});\n",
              "        if (!dataTable) return;\n",
              "\n",
              "        const docLinkHtml = 'Like what you see? Visit the ' +\n",
              "          '<a target=\"_blank\" href=https://colab.research.google.com/notebooks/data_table.ipynb>data table notebook</a>'\n",
              "          + ' to learn more about interactive tables.';\n",
              "        element.innerHTML = '';\n",
              "        dataTable['output_type'] = 'display_data';\n",
              "        await google.colab.output.renderOutput(dataTable, element);\n",
              "        const docLink = document.createElement('div');\n",
              "        docLink.innerHTML = docLinkHtml;\n",
              "        element.appendChild(docLink);\n",
              "      }\n",
              "    </script>\n",
              "  </div>\n",
              "\n",
              "\n",
              "    <div id=\"df-c65b9cbc-c79a-49c8-8499-7e812b304ab7\">\n",
              "      <button class=\"colab-df-quickchart\" onclick=\"quickchart('df-c65b9cbc-c79a-49c8-8499-7e812b304ab7')\"\n",
              "                title=\"Suggest charts\"\n",
              "                style=\"display:none;\">\n",
              "\n",
              "<svg xmlns=\"http://www.w3.org/2000/svg\" height=\"24px\"viewBox=\"0 0 24 24\"\n",
              "     width=\"24px\">\n",
              "    <g>\n",
              "        <path d=\"M19 3H5c-1.1 0-2 .9-2 2v14c0 1.1.9 2 2 2h14c1.1 0 2-.9 2-2V5c0-1.1-.9-2-2-2zM9 17H7v-7h2v7zm4 0h-2V7h2v10zm4 0h-2v-4h2v4z\"/>\n",
              "    </g>\n",
              "</svg>\n",
              "      </button>\n",
              "\n",
              "<style>\n",
              "  .colab-df-quickchart {\n",
              "      --bg-color: #E8F0FE;\n",
              "      --fill-color: #1967D2;\n",
              "      --hover-bg-color: #E2EBFA;\n",
              "      --hover-fill-color: #174EA6;\n",
              "      --disabled-fill-color: #AAA;\n",
              "      --disabled-bg-color: #DDD;\n",
              "  }\n",
              "\n",
              "  [theme=dark] .colab-df-quickchart {\n",
              "      --bg-color: #3B4455;\n",
              "      --fill-color: #D2E3FC;\n",
              "      --hover-bg-color: #434B5C;\n",
              "      --hover-fill-color: #FFFFFF;\n",
              "      --disabled-bg-color: #3B4455;\n",
              "      --disabled-fill-color: #666;\n",
              "  }\n",
              "\n",
              "  .colab-df-quickchart {\n",
              "    background-color: var(--bg-color);\n",
              "    border: none;\n",
              "    border-radius: 50%;\n",
              "    cursor: pointer;\n",
              "    display: none;\n",
              "    fill: var(--fill-color);\n",
              "    height: 32px;\n",
              "    padding: 0;\n",
              "    width: 32px;\n",
              "  }\n",
              "\n",
              "  .colab-df-quickchart:hover {\n",
              "    background-color: var(--hover-bg-color);\n",
              "    box-shadow: 0 1px 2px rgba(60, 64, 67, 0.3), 0 1px 3px 1px rgba(60, 64, 67, 0.15);\n",
              "    fill: var(--button-hover-fill-color);\n",
              "  }\n",
              "\n",
              "  .colab-df-quickchart-complete:disabled,\n",
              "  .colab-df-quickchart-complete:disabled:hover {\n",
              "    background-color: var(--disabled-bg-color);\n",
              "    fill: var(--disabled-fill-color);\n",
              "    box-shadow: none;\n",
              "  }\n",
              "\n",
              "  .colab-df-spinner {\n",
              "    border: 2px solid var(--fill-color);\n",
              "    border-color: transparent;\n",
              "    border-bottom-color: var(--fill-color);\n",
              "    animation:\n",
              "      spin 1s steps(1) infinite;\n",
              "  }\n",
              "\n",
              "  @keyframes spin {\n",
              "    0% {\n",
              "      border-color: transparent;\n",
              "      border-bottom-color: var(--fill-color);\n",
              "      border-left-color: var(--fill-color);\n",
              "    }\n",
              "    20% {\n",
              "      border-color: transparent;\n",
              "      border-left-color: var(--fill-color);\n",
              "      border-top-color: var(--fill-color);\n",
              "    }\n",
              "    30% {\n",
              "      border-color: transparent;\n",
              "      border-left-color: var(--fill-color);\n",
              "      border-top-color: var(--fill-color);\n",
              "      border-right-color: var(--fill-color);\n",
              "    }\n",
              "    40% {\n",
              "      border-color: transparent;\n",
              "      border-right-color: var(--fill-color);\n",
              "      border-top-color: var(--fill-color);\n",
              "    }\n",
              "    60% {\n",
              "      border-color: transparent;\n",
              "      border-right-color: var(--fill-color);\n",
              "    }\n",
              "    80% {\n",
              "      border-color: transparent;\n",
              "      border-right-color: var(--fill-color);\n",
              "      border-bottom-color: var(--fill-color);\n",
              "    }\n",
              "    90% {\n",
              "      border-color: transparent;\n",
              "      border-bottom-color: var(--fill-color);\n",
              "    }\n",
              "  }\n",
              "</style>\n",
              "\n",
              "      <script>\n",
              "        async function quickchart(key) {\n",
              "          const quickchartButtonEl =\n",
              "            document.querySelector('#' + key + ' button');\n",
              "          quickchartButtonEl.disabled = true;  // To prevent multiple clicks.\n",
              "          quickchartButtonEl.classList.add('colab-df-spinner');\n",
              "          try {\n",
              "            const charts = await google.colab.kernel.invokeFunction(\n",
              "                'suggestCharts', [key], {});\n",
              "          } catch (error) {\n",
              "            console.error('Error during call to suggestCharts:', error);\n",
              "          }\n",
              "          quickchartButtonEl.classList.remove('colab-df-spinner');\n",
              "          quickchartButtonEl.classList.add('colab-df-quickchart-complete');\n",
              "        }\n",
              "        (() => {\n",
              "          let quickchartButtonEl =\n",
              "            document.querySelector('#df-c65b9cbc-c79a-49c8-8499-7e812b304ab7 button');\n",
              "          quickchartButtonEl.style.display =\n",
              "            google.colab.kernel.accessAllowed ? 'block' : 'none';\n",
              "        })();\n",
              "      </script>\n",
              "    </div>\n",
              "\n",
              "    </div>\n",
              "  </div>\n"
            ],
            "application/vnd.google.colaboratory.intrinsic+json": {
              "type": "dataframe",
              "summary": "{\n  \"name\": \"print(df['inv-nodes']\",\n  \"rows\": 5,\n  \"fields\": [\n    {\n      \"column\": \"tumor-size\",\n      \"properties\": {\n        \"dtype\": \"string\",\n        \"num_unique_values\": 4,\n        \"samples\": [\n          \"20-24\",\n          \"0-4\",\n          \"30-34\"\n        ],\n        \"semantic_type\": \"\",\n        \"description\": \"\"\n      }\n    },\n    {\n      \"column\": \"tumor-size_numeric\",\n      \"properties\": {\n        \"dtype\": \"number\",\n        \"std\": 10.954451150103322,\n        \"min\": 2.0,\n        \"max\": 32.0,\n        \"num_unique_values\": 4,\n        \"samples\": [\n          22.0,\n          2.0,\n          32.0\n        ],\n        \"semantic_type\": \"\",\n        \"description\": \"\"\n      }\n    },\n    {\n      \"column\": \"inv-nodes\",\n      \"properties\": {\n        \"dtype\": \"category\",\n        \"num_unique_values\": 1,\n        \"samples\": [\n          \"0-2\"\n        ],\n        \"semantic_type\": \"\",\n        \"description\": \"\"\n      }\n    },\n    {\n      \"column\": \"inv-nodes_numeric\",\n      \"properties\": {\n        \"dtype\": \"number\",\n        \"std\": 0.0,\n        \"min\": 1.0,\n        \"max\": 1.0,\n        \"num_unique_values\": 1,\n        \"samples\": [\n          1.0\n        ],\n        \"semantic_type\": \"\",\n        \"description\": \"\"\n      }\n    }\n  ]\n}"
            }
          },
          "metadata": {}
        },
        {
          "output_type": "stream",
          "name": "stdout",
          "text": [
            "\n",
            "Descriptive statistics for new numerical columns:\n"
          ]
        },
        {
          "output_type": "display_data",
          "data": {
            "text/plain": [
              "       tumor-size_numeric  inv-nodes_numeric\n",
              "count          254.000000         256.000000\n",
              "mean            28.299213           1.867188\n",
              "std              9.611271           2.840522\n",
              "min              2.000000           1.000000\n",
              "25%             22.000000           1.000000\n",
              "50%             27.000000           1.000000\n",
              "75%             32.000000           1.000000\n",
              "max             52.000000          25.000000"
            ],
            "text/html": [
              "\n",
              "  <div id=\"df-f6f7d106-ebaa-4750-b95e-12b5b78c379e\" class=\"colab-df-container\">\n",
              "    <div>\n",
              "<style scoped>\n",
              "    .dataframe tbody tr th:only-of-type {\n",
              "        vertical-align: middle;\n",
              "    }\n",
              "\n",
              "    .dataframe tbody tr th {\n",
              "        vertical-align: top;\n",
              "    }\n",
              "\n",
              "    .dataframe thead th {\n",
              "        text-align: right;\n",
              "    }\n",
              "</style>\n",
              "<table border=\"1\" class=\"dataframe\">\n",
              "  <thead>\n",
              "    <tr style=\"text-align: right;\">\n",
              "      <th></th>\n",
              "      <th>tumor-size_numeric</th>\n",
              "      <th>inv-nodes_numeric</th>\n",
              "    </tr>\n",
              "  </thead>\n",
              "  <tbody>\n",
              "    <tr>\n",
              "      <th>count</th>\n",
              "      <td>254.000000</td>\n",
              "      <td>256.000000</td>\n",
              "    </tr>\n",
              "    <tr>\n",
              "      <th>mean</th>\n",
              "      <td>28.299213</td>\n",
              "      <td>1.867188</td>\n",
              "    </tr>\n",
              "    <tr>\n",
              "      <th>std</th>\n",
              "      <td>9.611271</td>\n",
              "      <td>2.840522</td>\n",
              "    </tr>\n",
              "    <tr>\n",
              "      <th>min</th>\n",
              "      <td>2.000000</td>\n",
              "      <td>1.000000</td>\n",
              "    </tr>\n",
              "    <tr>\n",
              "      <th>25%</th>\n",
              "      <td>22.000000</td>\n",
              "      <td>1.000000</td>\n",
              "    </tr>\n",
              "    <tr>\n",
              "      <th>50%</th>\n",
              "      <td>27.000000</td>\n",
              "      <td>1.000000</td>\n",
              "    </tr>\n",
              "    <tr>\n",
              "      <th>75%</th>\n",
              "      <td>32.000000</td>\n",
              "      <td>1.000000</td>\n",
              "    </tr>\n",
              "    <tr>\n",
              "      <th>max</th>\n",
              "      <td>52.000000</td>\n",
              "      <td>25.000000</td>\n",
              "    </tr>\n",
              "  </tbody>\n",
              "</table>\n",
              "</div>\n",
              "    <div class=\"colab-df-buttons\">\n",
              "\n",
              "  <div class=\"colab-df-container\">\n",
              "    <button class=\"colab-df-convert\" onclick=\"convertToInteractive('df-f6f7d106-ebaa-4750-b95e-12b5b78c379e')\"\n",
              "            title=\"Convert this dataframe to an interactive table.\"\n",
              "            style=\"display:none;\">\n",
              "\n",
              "  <svg xmlns=\"http://www.w3.org/2000/svg\" height=\"24px\" viewBox=\"0 -960 960 960\">\n",
              "    <path d=\"M120-120v-720h720v720H120Zm60-500h600v-160H180v160Zm220 220h160v-160H400v160Zm0 220h160v-160H400v160ZM180-400h160v-160H180v160Zm440 0h160v-160H620v160ZM180-180h160v-160H180v160Zm440 0h160v-160H620v160Z\"/>\n",
              "  </svg>\n",
              "    </button>\n",
              "\n",
              "  <style>\n",
              "    .colab-df-container {\n",
              "      display:flex;\n",
              "      gap: 12px;\n",
              "    }\n",
              "\n",
              "    .colab-df-convert {\n",
              "      background-color: #E8F0FE;\n",
              "      border: none;\n",
              "      border-radius: 50%;\n",
              "      cursor: pointer;\n",
              "      display: none;\n",
              "      fill: #1967D2;\n",
              "      height: 32px;\n",
              "      padding: 0 0 0 0;\n",
              "      width: 32px;\n",
              "    }\n",
              "\n",
              "    .colab-df-convert:hover {\n",
              "      background-color: #E2EBFA;\n",
              "      box-shadow: 0px 1px 2px rgba(60, 64, 67, 0.3), 0px 1px 3px 1px rgba(60, 64, 67, 0.15);\n",
              "      fill: #174EA6;\n",
              "    }\n",
              "\n",
              "    .colab-df-buttons div {\n",
              "      margin-bottom: 4px;\n",
              "    }\n",
              "\n",
              "    [theme=dark] .colab-df-convert {\n",
              "      background-color: #3B4455;\n",
              "      fill: #D2E3FC;\n",
              "    }\n",
              "\n",
              "    [theme=dark] .colab-df-convert:hover {\n",
              "      background-color: #434B5C;\n",
              "      box-shadow: 0px 1px 3px 1px rgba(0, 0, 0, 0.15);\n",
              "      filter: drop-shadow(0px 1px 2px rgba(0, 0, 0, 0.3));\n",
              "      fill: #FFFFFF;\n",
              "    }\n",
              "  </style>\n",
              "\n",
              "    <script>\n",
              "      const buttonEl =\n",
              "        document.querySelector('#df-f6f7d106-ebaa-4750-b95e-12b5b78c379e button.colab-df-convert');\n",
              "      buttonEl.style.display =\n",
              "        google.colab.kernel.accessAllowed ? 'block' : 'none';\n",
              "\n",
              "      async function convertToInteractive(key) {\n",
              "        const element = document.querySelector('#df-f6f7d106-ebaa-4750-b95e-12b5b78c379e');\n",
              "        const dataTable =\n",
              "          await google.colab.kernel.invokeFunction('convertToInteractive',\n",
              "                                                    [key], {});\n",
              "        if (!dataTable) return;\n",
              "\n",
              "        const docLinkHtml = 'Like what you see? Visit the ' +\n",
              "          '<a target=\"_blank\" href=https://colab.research.google.com/notebooks/data_table.ipynb>data table notebook</a>'\n",
              "          + ' to learn more about interactive tables.';\n",
              "        element.innerHTML = '';\n",
              "        dataTable['output_type'] = 'display_data';\n",
              "        await google.colab.output.renderOutput(dataTable, element);\n",
              "        const docLink = document.createElement('div');\n",
              "        docLink.innerHTML = docLinkHtml;\n",
              "        element.appendChild(docLink);\n",
              "      }\n",
              "    </script>\n",
              "  </div>\n",
              "\n",
              "\n",
              "    <div id=\"df-06715009-3c2e-4eb8-a014-faa3bc11adfc\">\n",
              "      <button class=\"colab-df-quickchart\" onclick=\"quickchart('df-06715009-3c2e-4eb8-a014-faa3bc11adfc')\"\n",
              "                title=\"Suggest charts\"\n",
              "                style=\"display:none;\">\n",
              "\n",
              "<svg xmlns=\"http://www.w3.org/2000/svg\" height=\"24px\"viewBox=\"0 0 24 24\"\n",
              "     width=\"24px\">\n",
              "    <g>\n",
              "        <path d=\"M19 3H5c-1.1 0-2 .9-2 2v14c0 1.1.9 2 2 2h14c1.1 0 2-.9 2-2V5c0-1.1-.9-2-2-2zM9 17H7v-7h2v7zm4 0h-2V7h2v10zm4 0h-2v-4h2v4z\"/>\n",
              "    </g>\n",
              "</svg>\n",
              "      </button>\n",
              "\n",
              "<style>\n",
              "  .colab-df-quickchart {\n",
              "      --bg-color: #E8F0FE;\n",
              "      --fill-color: #1967D2;\n",
              "      --hover-bg-color: #E2EBFA;\n",
              "      --hover-fill-color: #174EA6;\n",
              "      --disabled-fill-color: #AAA;\n",
              "      --disabled-bg-color: #DDD;\n",
              "  }\n",
              "\n",
              "  [theme=dark] .colab-df-quickchart {\n",
              "      --bg-color: #3B4455;\n",
              "      --fill-color: #D2E3FC;\n",
              "      --hover-bg-color: #434B5C;\n",
              "      --hover-fill-color: #FFFFFF;\n",
              "      --disabled-bg-color: #3B4455;\n",
              "      --disabled-fill-color: #666;\n",
              "  }\n",
              "\n",
              "  .colab-df-quickchart {\n",
              "    background-color: var(--bg-color);\n",
              "    border: none;\n",
              "    border-radius: 50%;\n",
              "    cursor: pointer;\n",
              "    display: none;\n",
              "    fill: var(--fill-color);\n",
              "    height: 32px;\n",
              "    padding: 0;\n",
              "    width: 32px;\n",
              "  }\n",
              "\n",
              "  .colab-df-quickchart:hover {\n",
              "    background-color: var(--hover-bg-color);\n",
              "    box-shadow: 0 1px 2px rgba(60, 64, 67, 0.3), 0 1px 3px 1px rgba(60, 64, 67, 0.15);\n",
              "    fill: var(--button-hover-fill-color);\n",
              "  }\n",
              "\n",
              "  .colab-df-quickchart-complete:disabled,\n",
              "  .colab-df-quickchart-complete:disabled:hover {\n",
              "    background-color: var(--disabled-bg-color);\n",
              "    fill: var(--disabled-fill-color);\n",
              "    box-shadow: none;\n",
              "  }\n",
              "\n",
              "  .colab-df-spinner {\n",
              "    border: 2px solid var(--fill-color);\n",
              "    border-color: transparent;\n",
              "    border-bottom-color: var(--fill-color);\n",
              "    animation:\n",
              "      spin 1s steps(1) infinite;\n",
              "  }\n",
              "\n",
              "  @keyframes spin {\n",
              "    0% {\n",
              "      border-color: transparent;\n",
              "      border-bottom-color: var(--fill-color);\n",
              "      border-left-color: var(--fill-color);\n",
              "    }\n",
              "    20% {\n",
              "      border-color: transparent;\n",
              "      border-left-color: var(--fill-color);\n",
              "      border-top-color: var(--fill-color);\n",
              "    }\n",
              "    30% {\n",
              "      border-color: transparent;\n",
              "      border-left-color: var(--fill-color);\n",
              "      border-top-color: var(--fill-color);\n",
              "      border-right-color: var(--fill-color);\n",
              "    }\n",
              "    40% {\n",
              "      border-color: transparent;\n",
              "      border-right-color: var(--fill-color);\n",
              "      border-top-color: var(--fill-color);\n",
              "    }\n",
              "    60% {\n",
              "      border-color: transparent;\n",
              "      border-right-color: var(--fill-color);\n",
              "    }\n",
              "    80% {\n",
              "      border-color: transparent;\n",
              "      border-right-color: var(--fill-color);\n",
              "      border-bottom-color: var(--fill-color);\n",
              "    }\n",
              "    90% {\n",
              "      border-color: transparent;\n",
              "      border-bottom-color: var(--fill-color);\n",
              "    }\n",
              "  }\n",
              "</style>\n",
              "\n",
              "      <script>\n",
              "        async function quickchart(key) {\n",
              "          const quickchartButtonEl =\n",
              "            document.querySelector('#' + key + ' button');\n",
              "          quickchartButtonEl.disabled = true;  // To prevent multiple clicks.\n",
              "          quickchartButtonEl.classList.add('colab-df-spinner');\n",
              "          try {\n",
              "            const charts = await google.colab.kernel.invokeFunction(\n",
              "                'suggestCharts', [key], {});\n",
              "          } catch (error) {\n",
              "            console.error('Error during call to suggestCharts:', error);\n",
              "          }\n",
              "          quickchartButtonEl.classList.remove('colab-df-spinner');\n",
              "          quickchartButtonEl.classList.add('colab-df-quickchart-complete');\n",
              "        }\n",
              "        (() => {\n",
              "          let quickchartButtonEl =\n",
              "            document.querySelector('#df-06715009-3c2e-4eb8-a014-faa3bc11adfc button');\n",
              "          quickchartButtonEl.style.display =\n",
              "            google.colab.kernel.accessAllowed ? 'block' : 'none';\n",
              "        })();\n",
              "      </script>\n",
              "    </div>\n",
              "\n",
              "    </div>\n",
              "  </div>\n"
            ],
            "application/vnd.google.colaboratory.intrinsic+json": {
              "type": "dataframe",
              "summary": "{\n  \"name\": \"print(df['inv-nodes']\",\n  \"rows\": 8,\n  \"fields\": [\n    {\n      \"column\": \"tumor-size_numeric\",\n      \"properties\": {\n        \"dtype\": \"number\",\n        \"std\": 82.43842020359949,\n        \"min\": 2.0,\n        \"max\": 254.0,\n        \"num_unique_values\": 8,\n        \"samples\": [\n          28.299212598425196,\n          27.0,\n          254.0\n        ],\n        \"semantic_type\": \"\",\n        \"description\": \"\"\n      }\n    },\n    {\n      \"column\": \"inv-nodes_numeric\",\n      \"properties\": {\n        \"dtype\": \"number\",\n        \"std\": 89.19099516153508,\n        \"min\": 1.0,\n        \"max\": 256.0,\n        \"num_unique_values\": 5,\n        \"samples\": [\n          1.8671875,\n          25.0,\n          2.8405221661642757\n        ],\n        \"semantic_type\": \"\",\n        \"description\": \"\"\n      }\n    }\n  ]\n}"
            }
          },
          "metadata": {}
        },
        {
          "output_type": "stream",
          "name": "stdout",
          "text": [
            "\n",
            "Unique values in 'tumor-size':\n",
            "['30-34' '20-24' '15-19' '0-4' '25-29' '50-54' '14-Oct' '40-44' '35-39'\n",
            " '09-May' '45-49']\n",
            "\n",
            "Unique values in 'inv-nodes':\n",
            "['0-2' '08-Jun' '11-Sep' '05-Mar' '15-17' '14-Dec' '24-26']\n"
          ]
        }
      ]
    },
    {
      "cell_type": "code",
      "source": [
        "data = {\n",
        "    'tumor-size': ['0-4', '5-9', '20-24', '25-29', '50-54'],\n",
        "    'inv-nodes': ['0-2', '3-5', '6-8', '9-11', '12-14']\n",
        "}\n",
        "df = pd.DataFrame(data)\n",
        "\n",
        "# Function to convert interval string into midpoint value\n",
        "def interval_to_midpoint(value):\n",
        "    try:\n",
        "        low, high = map(int, value.split('-'))\n",
        "        return (low + high) / 2\n",
        "    except:\n",
        "        return None  # handle missing or special cases if any"
      ],
      "metadata": {
        "id": "q84JmNRuUOmB"
      },
      "execution_count": 24,
      "outputs": []
    },
    {
      "cell_type": "code",
      "source": [
        "df['tumor_size_num'] = df['tumor-size'].apply(interval_to_midpoint)\n",
        "df['inv_nodes_num'] = df['inv-nodes'].apply(interval_to_midpoint)"
      ],
      "metadata": {
        "id": "MygYzB5oU6Du"
      },
      "execution_count": 25,
      "outputs": []
    },
    {
      "cell_type": "code",
      "source": [
        "print (df)"
      ],
      "metadata": {
        "colab": {
          "base_uri": "https://localhost:8080/"
        },
        "id": "D2UXvgqjVEFu",
        "outputId": "a7a541af-836d-4e7d-be6d-06720adf91e4"
      },
      "execution_count": 26,
      "outputs": [
        {
          "output_type": "stream",
          "name": "stdout",
          "text": [
            "  tumor-size inv-nodes  tumor_size_num  inv_nodes_num\n",
            "0        0-4       0-2             2.0            1.0\n",
            "1        5-9       3-5             7.0            4.0\n",
            "2      20-24       6-8            22.0            7.0\n",
            "3      25-29      9-11            27.0           10.0\n",
            "4      50-54     12-14            52.0           13.0\n"
          ]
        }
      ]
    },
    {
      "cell_type": "markdown",
      "source": [
        "Converting ordinal categorical variables like tumor-size and inv-nodes into their numerical midpoints preserves their inherent order, improves model efficiency, and helps classifiers detect clinically meaningful trends."
      ],
      "metadata": {
        "id": "_4l-hXmlVbvF"
      }
    },
    {
      "cell_type": "markdown",
      "source": [
        "2 d"
      ],
      "metadata": {
        "id": "Fd_KGCZlYP6A"
      }
    },
    {
      "cell_type": "code",
      "source": [
        "import pandas as pd\n",
        "from sklearn.preprocessing import StandardScaler\n",
        "import numpy as np # Import numpy for np.nan\n",
        "\n",
        "# Reload the complete dataset to ensure all columns are available\n",
        "df = pd.read_csv('breast-cancer raw data.csv')\n",
        "\n",
        "\n",
        "# Function to map interval to midpoint, including error handling and special cases\n",
        "def interval_to_midpoint(val):\n",
        "    \"\"\"Converts a string range (e.g., '20-24') to its numerical midpoint, handling errors.\"\"\"\n",
        "    if pd.isna(val):\n",
        "        return np.nan\n",
        "    # Handle the specific case '05-Mar' as '3-5' based on dataset description\n",
        "    if val == '05-Mar':\n",
        "        val = '3-5'\n",
        "    try:\n",
        "        if '-' in val:\n",
        "            start, end = map(int, val.split('-'))\n",
        "            return (start + end) / 2\n",
        "        else:\n",
        "             # Attempt to convert single values directly, though expecting ranges\n",
        "            return int(val)\n",
        "    except ValueError:\n",
        "        # Return NaN for values that cannot be converted\n",
        "        # print(f\"Warning: Could not convert '{val}' to numerical.\") # Optional: keep warning\n",
        "        return np.nan\n",
        "\n",
        "\n",
        "# Convert ordinal categorical variables\n",
        "df['tumor-size'] = df['tumor-size'].apply(interval_to_midpoint)\n",
        "df['inv-nodes'] = df['inv-nodes'].apply(interval_to_midpoint)\n",
        "\n",
        "# Encode nominal categorical variables\n",
        "# Identify nominal columns excluding the target\n",
        "nominal_cols = ['age', 'menopause', 'node-caps', 'breast', 'breast-quad', 'irradiat']\n",
        "df_encoded = pd.get_dummies(df, columns=nominal_cols, drop_first=True)\n",
        "\n",
        "\n",
        "# Separate the target variable before scaling\n",
        "target = df_encoded['Class']\n",
        "# Drop the original 'Class' column and the target variable from features\n",
        "features_df = df_encoded.drop(['Class'], axis=1)\n",
        "\n",
        "# Standardize the numerical features\n",
        "# Identify numerical columns (now including the converted 'tumor-size' and 'inv-nodes')\n",
        "numerical_cols = ['tumor-size', 'inv-nodes', 'deg-malig'] + [col for col in features_df.columns if col.startswith(('age_', 'menopause_', 'node-caps_', 'breast_', 'breast-quad_', 'irradiat_'))] # Assuming encoded columns start with prefixes\n",
        "\n",
        "# Ensure only numerical columns are selected for scaling\n",
        "features_for_scaling = features_df[numerical_cols]\n",
        "\n",
        "\n",
        "# Handle potential NaNs in numerical columns before scaling (e.g., from interval conversion failures)\n",
        "# For simplicity here, I will drop rows with NaNs. Imputation could also be considered.\n",
        "features_for_scaling = features_for_scaling.dropna()\n",
        "# Align target with features after dropping rows\n",
        "target_aligned = target.loc[features_for_scaling.index]\n",
        "\n",
        "\n",
        "scaler = StandardScaler()\n",
        "df_scaled = pd.DataFrame(scaler.fit_transform(features_for_scaling), columns=features_for_scaling.columns)\n",
        "\n",
        "\n",
        "# Report descriptive statistics of the scaled data\n",
        "stats = df_scaled.agg(['min', 'max', 'mean']).T\n",
        "print(stats)"
      ],
      "metadata": {
        "colab": {
          "base_uri": "https://localhost:8080/"
        },
        "id": "NUFJBsQ2VsOg",
        "outputId": "2646a557-b3c0-40fe-f107-db1e29fe4c91"
      },
      "execution_count": 28,
      "outputs": [
        {
          "output_type": "stream",
          "name": "stdout",
          "text": [
            "                            min       max          mean\n",
            "tumor-size            -2.666309  2.492071 -7.105427e-17\n",
            "inv-nodes             -0.324217  7.670179 -6.315935e-17\n",
            "deg-malig             -1.446198  1.299747  9.473903e-17\n",
            "age_30-39             -0.369274  2.708013  7.105427e-17\n",
            "age_40-49             -0.685994  1.457738 -3.157968e-17\n",
            "age_50-59             -0.714190  1.400188 -7.500173e-17\n",
            "age_60-69             -0.500000  2.000000 -3.947460e-18\n",
            "age_70-79             -0.134535  7.433034 -3.157968e-17\n",
            "menopause_lt40        -0.165521  6.041523 -4.736952e-17\n",
            "menopause_premeno     -1.059548  0.943799  1.263187e-16\n",
            "node-caps_no          -2.183857  0.457905 -6.315935e-17\n",
            "node-caps_yes         -0.421913  2.370158  6.315935e-17\n",
            "breast_right          -0.978019  1.022475  2.763222e-17\n",
            "breast-quad_central   -0.294884  3.391165 -4.934325e-17\n",
            "breast-quad_left_low  -0.793999  1.259447  3.947460e-18\n",
            "breast-quad_left_up   -0.714190  1.400188 -7.500173e-17\n",
            "breast-quad_right_low -0.267261  3.741657  4.736952e-17\n",
            "breast-quad_right_up  -0.377004  2.652492  8.141636e-18\n",
            "irradiat_yes          -0.506935  1.972639 -6.315935e-17\n"
          ]
        }
      ]
    },
    {
      "cell_type": "markdown",
      "metadata": {
        "id": "8Y3Z2DbKTfJt"
      },
      "source": [
        "## 2. Loading the data into the data frame."
      ]
    },
    {
      "cell_type": "markdown",
      "metadata": {
        "id": "ko5zGJFCySaz"
      },
      "source": [
        "Loading the data into the pandas data frame is certainly one of the most important steps in EDA, as we can see that the value from the data set is comma-separated. So all we have to do is to just read the CSV into a data frame and pandas data frame does the job for us."
      ]
    },
    {
      "cell_type": "markdown",
      "metadata": {
        "id": "LgzUzD61IM8h"
      },
      "source": [
        "To get or load the dataset into the notebook, all I did was one trivial step. In Google Colab at the left-hand side of the notebook, you will find a > (greater than symbol). When you click that you will find a tab with three options, you just have to select Files. Then you can easily upload your file with the help of the Upload option. No need to mount to the google drive or use any specific libraries just upload the data set and your job is done. One thing to remember in this step is that uploaded files will get deleted when this runtime is recycled. This is how I got the data set into the notebook."
      ]
    },
    {
      "cell_type": "code",
      "metadata": {
        "id": "0oVZnezwQ159",
        "outputId": "f1e0fe18-8fa0-482a-e2b9-2ecd87d97d9d",
        "colab": {
          "base_uri": "https://localhost:8080/",
          "height": 430
        }
      },
      "source": [
        "df = pd.read_csv(\"data.csv\")\n",
        "# To display the top 5 rows\n",
        "df.head(5)"
      ],
      "execution_count": null,
      "outputs": [
        {
          "output_type": "execute_result",
          "data": {
            "text/html": [
              "<div>\n",
              "<style scoped>\n",
              "    .dataframe tbody tr th:only-of-type {\n",
              "        vertical-align: middle;\n",
              "    }\n",
              "\n",
              "    .dataframe tbody tr th {\n",
              "        vertical-align: top;\n",
              "    }\n",
              "\n",
              "    .dataframe thead th {\n",
              "        text-align: right;\n",
              "    }\n",
              "</style>\n",
              "<table border=\"1\" class=\"dataframe\">\n",
              "  <thead>\n",
              "    <tr style=\"text-align: right;\">\n",
              "      <th></th>\n",
              "      <th>Make</th>\n",
              "      <th>Model</th>\n",
              "      <th>Year</th>\n",
              "      <th>Engine Fuel Type</th>\n",
              "      <th>Engine HP</th>\n",
              "      <th>Engine Cylinders</th>\n",
              "      <th>Transmission Type</th>\n",
              "      <th>Driven_Wheels</th>\n",
              "      <th>Number of Doors</th>\n",
              "      <th>Market Category</th>\n",
              "      <th>Vehicle Size</th>\n",
              "      <th>Vehicle Style</th>\n",
              "      <th>highway MPG</th>\n",
              "      <th>city mpg</th>\n",
              "      <th>Popularity</th>\n",
              "      <th>MSRP</th>\n",
              "    </tr>\n",
              "  </thead>\n",
              "  <tbody>\n",
              "    <tr>\n",
              "      <th>0</th>\n",
              "      <td>BMW</td>\n",
              "      <td>1 Series M</td>\n",
              "      <td>2011</td>\n",
              "      <td>premium unleaded (required)</td>\n",
              "      <td>335.0</td>\n",
              "      <td>6.0</td>\n",
              "      <td>MANUAL</td>\n",
              "      <td>rear wheel drive</td>\n",
              "      <td>2.0</td>\n",
              "      <td>Factory Tuner,Luxury,High-Performance</td>\n",
              "      <td>Compact</td>\n",
              "      <td>Coupe</td>\n",
              "      <td>26</td>\n",
              "      <td>19</td>\n",
              "      <td>3916</td>\n",
              "      <td>46135</td>\n",
              "    </tr>\n",
              "    <tr>\n",
              "      <th>1</th>\n",
              "      <td>BMW</td>\n",
              "      <td>1 Series</td>\n",
              "      <td>2011</td>\n",
              "      <td>premium unleaded (required)</td>\n",
              "      <td>300.0</td>\n",
              "      <td>6.0</td>\n",
              "      <td>MANUAL</td>\n",
              "      <td>rear wheel drive</td>\n",
              "      <td>2.0</td>\n",
              "      <td>Luxury,Performance</td>\n",
              "      <td>Compact</td>\n",
              "      <td>Convertible</td>\n",
              "      <td>28</td>\n",
              "      <td>19</td>\n",
              "      <td>3916</td>\n",
              "      <td>40650</td>\n",
              "    </tr>\n",
              "    <tr>\n",
              "      <th>2</th>\n",
              "      <td>BMW</td>\n",
              "      <td>1 Series</td>\n",
              "      <td>2011</td>\n",
              "      <td>premium unleaded (required)</td>\n",
              "      <td>300.0</td>\n",
              "      <td>6.0</td>\n",
              "      <td>MANUAL</td>\n",
              "      <td>rear wheel drive</td>\n",
              "      <td>2.0</td>\n",
              "      <td>Luxury,High-Performance</td>\n",
              "      <td>Compact</td>\n",
              "      <td>Coupe</td>\n",
              "      <td>28</td>\n",
              "      <td>20</td>\n",
              "      <td>3916</td>\n",
              "      <td>36350</td>\n",
              "    </tr>\n",
              "    <tr>\n",
              "      <th>3</th>\n",
              "      <td>BMW</td>\n",
              "      <td>1 Series</td>\n",
              "      <td>2011</td>\n",
              "      <td>premium unleaded (required)</td>\n",
              "      <td>230.0</td>\n",
              "      <td>6.0</td>\n",
              "      <td>MANUAL</td>\n",
              "      <td>rear wheel drive</td>\n",
              "      <td>2.0</td>\n",
              "      <td>Luxury,Performance</td>\n",
              "      <td>Compact</td>\n",
              "      <td>Coupe</td>\n",
              "      <td>28</td>\n",
              "      <td>18</td>\n",
              "      <td>3916</td>\n",
              "      <td>29450</td>\n",
              "    </tr>\n",
              "    <tr>\n",
              "      <th>4</th>\n",
              "      <td>BMW</td>\n",
              "      <td>1 Series</td>\n",
              "      <td>2011</td>\n",
              "      <td>premium unleaded (required)</td>\n",
              "      <td>230.0</td>\n",
              "      <td>6.0</td>\n",
              "      <td>MANUAL</td>\n",
              "      <td>rear wheel drive</td>\n",
              "      <td>2.0</td>\n",
              "      <td>Luxury</td>\n",
              "      <td>Compact</td>\n",
              "      <td>Convertible</td>\n",
              "      <td>28</td>\n",
              "      <td>18</td>\n",
              "      <td>3916</td>\n",
              "      <td>34500</td>\n",
              "    </tr>\n",
              "  </tbody>\n",
              "</table>\n",
              "</div>"
            ],
            "text/plain": [
              "  Make       Model  Year  ... city mpg  Popularity   MSRP\n",
              "0  BMW  1 Series M  2011  ...       19        3916  46135\n",
              "1  BMW    1 Series  2011  ...       19        3916  40650\n",
              "2  BMW    1 Series  2011  ...       20        3916  36350\n",
              "3  BMW    1 Series  2011  ...       18        3916  29450\n",
              "4  BMW    1 Series  2011  ...       18        3916  34500\n",
              "\n",
              "[5 rows x 16 columns]"
            ]
          },
          "metadata": {
            "tags": []
          },
          "execution_count": 2
        }
      ]
    },
    {
      "cell_type": "code",
      "metadata": {
        "id": "Fm-9dzdTRKpe",
        "outputId": "7892eaf7-0605-4b92-e139-cf0553041e51",
        "colab": {
          "base_uri": "https://localhost:8080/",
          "height": 413
        }
      },
      "source": [
        "df.tail(5)                        # To display the botton 5 rows"
      ],
      "execution_count": null,
      "outputs": [
        {
          "output_type": "execute_result",
          "data": {
            "text/html": [
              "<div>\n",
              "<style scoped>\n",
              "    .dataframe tbody tr th:only-of-type {\n",
              "        vertical-align: middle;\n",
              "    }\n",
              "\n",
              "    .dataframe tbody tr th {\n",
              "        vertical-align: top;\n",
              "    }\n",
              "\n",
              "    .dataframe thead th {\n",
              "        text-align: right;\n",
              "    }\n",
              "</style>\n",
              "<table border=\"1\" class=\"dataframe\">\n",
              "  <thead>\n",
              "    <tr style=\"text-align: right;\">\n",
              "      <th></th>\n",
              "      <th>Make</th>\n",
              "      <th>Model</th>\n",
              "      <th>Year</th>\n",
              "      <th>Engine Fuel Type</th>\n",
              "      <th>Engine HP</th>\n",
              "      <th>Engine Cylinders</th>\n",
              "      <th>Transmission Type</th>\n",
              "      <th>Driven_Wheels</th>\n",
              "      <th>Number of Doors</th>\n",
              "      <th>Market Category</th>\n",
              "      <th>Vehicle Size</th>\n",
              "      <th>Vehicle Style</th>\n",
              "      <th>highway MPG</th>\n",
              "      <th>city mpg</th>\n",
              "      <th>Popularity</th>\n",
              "      <th>MSRP</th>\n",
              "    </tr>\n",
              "  </thead>\n",
              "  <tbody>\n",
              "    <tr>\n",
              "      <th>11909</th>\n",
              "      <td>Acura</td>\n",
              "      <td>ZDX</td>\n",
              "      <td>2012</td>\n",
              "      <td>premium unleaded (required)</td>\n",
              "      <td>300.0</td>\n",
              "      <td>6.0</td>\n",
              "      <td>AUTOMATIC</td>\n",
              "      <td>all wheel drive</td>\n",
              "      <td>4.0</td>\n",
              "      <td>Crossover,Hatchback,Luxury</td>\n",
              "      <td>Midsize</td>\n",
              "      <td>4dr Hatchback</td>\n",
              "      <td>23</td>\n",
              "      <td>16</td>\n",
              "      <td>204</td>\n",
              "      <td>46120</td>\n",
              "    </tr>\n",
              "    <tr>\n",
              "      <th>11910</th>\n",
              "      <td>Acura</td>\n",
              "      <td>ZDX</td>\n",
              "      <td>2012</td>\n",
              "      <td>premium unleaded (required)</td>\n",
              "      <td>300.0</td>\n",
              "      <td>6.0</td>\n",
              "      <td>AUTOMATIC</td>\n",
              "      <td>all wheel drive</td>\n",
              "      <td>4.0</td>\n",
              "      <td>Crossover,Hatchback,Luxury</td>\n",
              "      <td>Midsize</td>\n",
              "      <td>4dr Hatchback</td>\n",
              "      <td>23</td>\n",
              "      <td>16</td>\n",
              "      <td>204</td>\n",
              "      <td>56670</td>\n",
              "    </tr>\n",
              "    <tr>\n",
              "      <th>11911</th>\n",
              "      <td>Acura</td>\n",
              "      <td>ZDX</td>\n",
              "      <td>2012</td>\n",
              "      <td>premium unleaded (required)</td>\n",
              "      <td>300.0</td>\n",
              "      <td>6.0</td>\n",
              "      <td>AUTOMATIC</td>\n",
              "      <td>all wheel drive</td>\n",
              "      <td>4.0</td>\n",
              "      <td>Crossover,Hatchback,Luxury</td>\n",
              "      <td>Midsize</td>\n",
              "      <td>4dr Hatchback</td>\n",
              "      <td>23</td>\n",
              "      <td>16</td>\n",
              "      <td>204</td>\n",
              "      <td>50620</td>\n",
              "    </tr>\n",
              "    <tr>\n",
              "      <th>11912</th>\n",
              "      <td>Acura</td>\n",
              "      <td>ZDX</td>\n",
              "      <td>2013</td>\n",
              "      <td>premium unleaded (recommended)</td>\n",
              "      <td>300.0</td>\n",
              "      <td>6.0</td>\n",
              "      <td>AUTOMATIC</td>\n",
              "      <td>all wheel drive</td>\n",
              "      <td>4.0</td>\n",
              "      <td>Crossover,Hatchback,Luxury</td>\n",
              "      <td>Midsize</td>\n",
              "      <td>4dr Hatchback</td>\n",
              "      <td>23</td>\n",
              "      <td>16</td>\n",
              "      <td>204</td>\n",
              "      <td>50920</td>\n",
              "    </tr>\n",
              "    <tr>\n",
              "      <th>11913</th>\n",
              "      <td>Lincoln</td>\n",
              "      <td>Zephyr</td>\n",
              "      <td>2006</td>\n",
              "      <td>regular unleaded</td>\n",
              "      <td>221.0</td>\n",
              "      <td>6.0</td>\n",
              "      <td>AUTOMATIC</td>\n",
              "      <td>front wheel drive</td>\n",
              "      <td>4.0</td>\n",
              "      <td>Luxury</td>\n",
              "      <td>Midsize</td>\n",
              "      <td>Sedan</td>\n",
              "      <td>26</td>\n",
              "      <td>17</td>\n",
              "      <td>61</td>\n",
              "      <td>28995</td>\n",
              "    </tr>\n",
              "  </tbody>\n",
              "</table>\n",
              "</div>"
            ],
            "text/plain": [
              "          Make   Model  Year  ... city mpg  Popularity   MSRP\n",
              "11909    Acura     ZDX  2012  ...       16         204  46120\n",
              "11910    Acura     ZDX  2012  ...       16         204  56670\n",
              "11911    Acura     ZDX  2012  ...       16         204  50620\n",
              "11912    Acura     ZDX  2013  ...       16         204  50920\n",
              "11913  Lincoln  Zephyr  2006  ...       17          61  28995\n",
              "\n",
              "[5 rows x 16 columns]"
            ]
          },
          "metadata": {
            "tags": []
          },
          "execution_count": 3
        }
      ]
    },
    {
      "cell_type": "markdown",
      "metadata": {
        "id": "JjQnr4SPzaL5"
      },
      "source": [
        "\n",
        "\n",
        "---\n",
        "\n"
      ]
    },
    {
      "cell_type": "markdown",
      "metadata": {
        "id": "vAmC369yTpMF"
      },
      "source": [
        "## 3. Checking the types of data"
      ]
    },
    {
      "cell_type": "markdown",
      "metadata": {
        "id": "9ESKxikIzA1d"
      },
      "source": [
        "Here we check for the datatypes because sometimes the MSRP or the price of the car would be stored as a string, if in that case, we have to convert that string to the integer data only then we can plot the data via a graph. Here, in this case, the data is already in integer format so nothing to worry."
      ]
    },
    {
      "cell_type": "code",
      "metadata": {
        "id": "qPbKQ0noRptD",
        "outputId": "6a5aea47-ad0c-4118-8471-d91b6432b339",
        "colab": {
          "base_uri": "https://localhost:8080/",
          "height": 312
        }
      },
      "source": [
        "df.dtypes"
      ],
      "execution_count": null,
      "outputs": [
        {
          "output_type": "execute_result",
          "data": {
            "text/plain": [
              "Make                  object\n",
              "Model                 object\n",
              "Year                   int64\n",
              "Engine Fuel Type      object\n",
              "Engine HP            float64\n",
              "Engine Cylinders     float64\n",
              "Transmission Type     object\n",
              "Driven_Wheels         object\n",
              "Number of Doors      float64\n",
              "Market Category       object\n",
              "Vehicle Size          object\n",
              "Vehicle Style         object\n",
              "highway MPG            int64\n",
              "city mpg               int64\n",
              "Popularity             int64\n",
              "MSRP                   int64\n",
              "dtype: object"
            ]
          },
          "metadata": {
            "tags": []
          },
          "execution_count": 4
        }
      ]
    },
    {
      "cell_type": "markdown",
      "metadata": {
        "id": "beRJyQAezdX8"
      },
      "source": [
        "\n",
        "\n",
        "---\n",
        "\n"
      ]
    },
    {
      "cell_type": "markdown",
      "metadata": {
        "id": "QoHuBhXxT5E9"
      },
      "source": [
        "## 4. Dropping irrelevant columns"
      ]
    },
    {
      "cell_type": "markdown",
      "metadata": {
        "id": "_3cy877Mze4H"
      },
      "source": [
        "This step is certainly needed in every EDA because sometimes there would be many columns that we never use in such cases dropping is the only solution. In this case, the columns such as Engine Fuel Type, Market Category, Vehicle style, Popularity, Number of doors, Vehicle Size doesn't make any sense to me so I just dropped for this instance."
      ]
    },
    {
      "cell_type": "code",
      "metadata": {
        "id": "uvSkK8swTr9H",
        "outputId": "1734f538-a4a1-45b9-d656-7ddc0124dc35",
        "colab": {
          "base_uri": "https://localhost:8080/",
          "height": 202
        }
      },
      "source": [
        "df = df.drop(['Engine Fuel Type', 'Market Category', 'Vehicle Style', 'Popularity', 'Number of Doors', 'Vehicle Size'], axis=1)\n",
        "df.head(5)"
      ],
      "execution_count": null,
      "outputs": [
        {
          "output_type": "execute_result",
          "data": {
            "text/html": [
              "<div>\n",
              "<style scoped>\n",
              "    .dataframe tbody tr th:only-of-type {\n",
              "        vertical-align: middle;\n",
              "    }\n",
              "\n",
              "    .dataframe tbody tr th {\n",
              "        vertical-align: top;\n",
              "    }\n",
              "\n",
              "    .dataframe thead th {\n",
              "        text-align: right;\n",
              "    }\n",
              "</style>\n",
              "<table border=\"1\" class=\"dataframe\">\n",
              "  <thead>\n",
              "    <tr style=\"text-align: right;\">\n",
              "      <th></th>\n",
              "      <th>Make</th>\n",
              "      <th>Model</th>\n",
              "      <th>Year</th>\n",
              "      <th>Engine HP</th>\n",
              "      <th>Engine Cylinders</th>\n",
              "      <th>Transmission Type</th>\n",
              "      <th>Driven_Wheels</th>\n",
              "      <th>highway MPG</th>\n",
              "      <th>city mpg</th>\n",
              "      <th>MSRP</th>\n",
              "    </tr>\n",
              "  </thead>\n",
              "  <tbody>\n",
              "    <tr>\n",
              "      <th>0</th>\n",
              "      <td>BMW</td>\n",
              "      <td>1 Series M</td>\n",
              "      <td>2011</td>\n",
              "      <td>335.0</td>\n",
              "      <td>6.0</td>\n",
              "      <td>MANUAL</td>\n",
              "      <td>rear wheel drive</td>\n",
              "      <td>26</td>\n",
              "      <td>19</td>\n",
              "      <td>46135</td>\n",
              "    </tr>\n",
              "    <tr>\n",
              "      <th>1</th>\n",
              "      <td>BMW</td>\n",
              "      <td>1 Series</td>\n",
              "      <td>2011</td>\n",
              "      <td>300.0</td>\n",
              "      <td>6.0</td>\n",
              "      <td>MANUAL</td>\n",
              "      <td>rear wheel drive</td>\n",
              "      <td>28</td>\n",
              "      <td>19</td>\n",
              "      <td>40650</td>\n",
              "    </tr>\n",
              "    <tr>\n",
              "      <th>2</th>\n",
              "      <td>BMW</td>\n",
              "      <td>1 Series</td>\n",
              "      <td>2011</td>\n",
              "      <td>300.0</td>\n",
              "      <td>6.0</td>\n",
              "      <td>MANUAL</td>\n",
              "      <td>rear wheel drive</td>\n",
              "      <td>28</td>\n",
              "      <td>20</td>\n",
              "      <td>36350</td>\n",
              "    </tr>\n",
              "    <tr>\n",
              "      <th>3</th>\n",
              "      <td>BMW</td>\n",
              "      <td>1 Series</td>\n",
              "      <td>2011</td>\n",
              "      <td>230.0</td>\n",
              "      <td>6.0</td>\n",
              "      <td>MANUAL</td>\n",
              "      <td>rear wheel drive</td>\n",
              "      <td>28</td>\n",
              "      <td>18</td>\n",
              "      <td>29450</td>\n",
              "    </tr>\n",
              "    <tr>\n",
              "      <th>4</th>\n",
              "      <td>BMW</td>\n",
              "      <td>1 Series</td>\n",
              "      <td>2011</td>\n",
              "      <td>230.0</td>\n",
              "      <td>6.0</td>\n",
              "      <td>MANUAL</td>\n",
              "      <td>rear wheel drive</td>\n",
              "      <td>28</td>\n",
              "      <td>18</td>\n",
              "      <td>34500</td>\n",
              "    </tr>\n",
              "  </tbody>\n",
              "</table>\n",
              "</div>"
            ],
            "text/plain": [
              "  Make       Model  Year  ...  highway MPG  city mpg   MSRP\n",
              "0  BMW  1 Series M  2011  ...           26        19  46135\n",
              "1  BMW    1 Series  2011  ...           28        19  40650\n",
              "2  BMW    1 Series  2011  ...           28        20  36350\n",
              "3  BMW    1 Series  2011  ...           28        18  29450\n",
              "4  BMW    1 Series  2011  ...           28        18  34500\n",
              "\n",
              "[5 rows x 10 columns]"
            ]
          },
          "metadata": {
            "tags": []
          },
          "execution_count": 5
        }
      ]
    },
    {
      "cell_type": "markdown",
      "metadata": {
        "id": "20OeQBpWz89v"
      },
      "source": [
        "\n",
        "\n",
        "---\n",
        "\n"
      ]
    },
    {
      "cell_type": "markdown",
      "metadata": {
        "id": "caAownWdUZso"
      },
      "source": [
        "## 5. Renaming the columns"
      ]
    },
    {
      "cell_type": "markdown",
      "metadata": {
        "id": "UABLiEcyz-2G"
      },
      "source": [
        "In this instance, most of the column names are very confusing to read, so I just tweaked their column names. This is a good approach it improves the readability of the data set."
      ]
    },
    {
      "cell_type": "code",
      "metadata": {
        "id": "1wHW41whURub",
        "outputId": "dec9b1b3-e344-4b33-92fd-6e9f4c03c878",
        "colab": {
          "base_uri": "https://localhost:8080/",
          "height": 202
        }
      },
      "source": [
        "df = df.rename(columns={\"Engine HP\": \"HP\", \"Engine Cylinders\": \"Cylinders\", \"Transmission Type\": \"Transmission\", \"Driven_Wheels\": \"Drive Mode\",\"highway MPG\": \"MPG-H\", \"city mpg\": \"MPG-C\", \"MSRP\": \"Price\" })\n",
        "df.head(5)"
      ],
      "execution_count": null,
      "outputs": [
        {
          "output_type": "execute_result",
          "data": {
            "text/html": [
              "<div>\n",
              "<style scoped>\n",
              "    .dataframe tbody tr th:only-of-type {\n",
              "        vertical-align: middle;\n",
              "    }\n",
              "\n",
              "    .dataframe tbody tr th {\n",
              "        vertical-align: top;\n",
              "    }\n",
              "\n",
              "    .dataframe thead th {\n",
              "        text-align: right;\n",
              "    }\n",
              "</style>\n",
              "<table border=\"1\" class=\"dataframe\">\n",
              "  <thead>\n",
              "    <tr style=\"text-align: right;\">\n",
              "      <th></th>\n",
              "      <th>Make</th>\n",
              "      <th>Model</th>\n",
              "      <th>Year</th>\n",
              "      <th>HP</th>\n",
              "      <th>Cylinders</th>\n",
              "      <th>Transmission</th>\n",
              "      <th>Drive Mode</th>\n",
              "      <th>MPG-H</th>\n",
              "      <th>MPG-C</th>\n",
              "      <th>Price</th>\n",
              "    </tr>\n",
              "  </thead>\n",
              "  <tbody>\n",
              "    <tr>\n",
              "      <th>0</th>\n",
              "      <td>BMW</td>\n",
              "      <td>1 Series M</td>\n",
              "      <td>2011</td>\n",
              "      <td>335.0</td>\n",
              "      <td>6.0</td>\n",
              "      <td>MANUAL</td>\n",
              "      <td>rear wheel drive</td>\n",
              "      <td>26</td>\n",
              "      <td>19</td>\n",
              "      <td>46135</td>\n",
              "    </tr>\n",
              "    <tr>\n",
              "      <th>1</th>\n",
              "      <td>BMW</td>\n",
              "      <td>1 Series</td>\n",
              "      <td>2011</td>\n",
              "      <td>300.0</td>\n",
              "      <td>6.0</td>\n",
              "      <td>MANUAL</td>\n",
              "      <td>rear wheel drive</td>\n",
              "      <td>28</td>\n",
              "      <td>19</td>\n",
              "      <td>40650</td>\n",
              "    </tr>\n",
              "    <tr>\n",
              "      <th>2</th>\n",
              "      <td>BMW</td>\n",
              "      <td>1 Series</td>\n",
              "      <td>2011</td>\n",
              "      <td>300.0</td>\n",
              "      <td>6.0</td>\n",
              "      <td>MANUAL</td>\n",
              "      <td>rear wheel drive</td>\n",
              "      <td>28</td>\n",
              "      <td>20</td>\n",
              "      <td>36350</td>\n",
              "    </tr>\n",
              "    <tr>\n",
              "      <th>3</th>\n",
              "      <td>BMW</td>\n",
              "      <td>1 Series</td>\n",
              "      <td>2011</td>\n",
              "      <td>230.0</td>\n",
              "      <td>6.0</td>\n",
              "      <td>MANUAL</td>\n",
              "      <td>rear wheel drive</td>\n",
              "      <td>28</td>\n",
              "      <td>18</td>\n",
              "      <td>29450</td>\n",
              "    </tr>\n",
              "    <tr>\n",
              "      <th>4</th>\n",
              "      <td>BMW</td>\n",
              "      <td>1 Series</td>\n",
              "      <td>2011</td>\n",
              "      <td>230.0</td>\n",
              "      <td>6.0</td>\n",
              "      <td>MANUAL</td>\n",
              "      <td>rear wheel drive</td>\n",
              "      <td>28</td>\n",
              "      <td>18</td>\n",
              "      <td>34500</td>\n",
              "    </tr>\n",
              "  </tbody>\n",
              "</table>\n",
              "</div>"
            ],
            "text/plain": [
              "  Make       Model  Year     HP  ...        Drive Mode MPG-H MPG-C  Price\n",
              "0  BMW  1 Series M  2011  335.0  ...  rear wheel drive    26    19  46135\n",
              "1  BMW    1 Series  2011  300.0  ...  rear wheel drive    28    19  40650\n",
              "2  BMW    1 Series  2011  300.0  ...  rear wheel drive    28    20  36350\n",
              "3  BMW    1 Series  2011  230.0  ...  rear wheel drive    28    18  29450\n",
              "4  BMW    1 Series  2011  230.0  ...  rear wheel drive    28    18  34500\n",
              "\n",
              "[5 rows x 10 columns]"
            ]
          },
          "metadata": {
            "tags": []
          },
          "execution_count": 6
        }
      ]
    },
    {
      "cell_type": "markdown",
      "metadata": {
        "id": "5tcGiOmV0afN"
      },
      "source": [
        "\n",
        "\n",
        "---\n",
        "\n"
      ]
    },
    {
      "cell_type": "markdown",
      "metadata": {
        "id": "uiW7x_O4WIDX"
      },
      "source": [
        "## 6. Dropping the duplicate rows"
      ]
    },
    {
      "cell_type": "markdown",
      "metadata": {
        "id": "9LpR5NW70hXm"
      },
      "source": [
        "This is often a handy thing to do because a huge data set as in this case contains more than 10, 000 rows often have some duplicate data which might be disturbing, so here I remove all the duplicate value from the data-set. For example prior to removing I had 11914 rows of data but after removing the duplicates 10925 data meaning that I had 989 of duplicate data."
      ]
    },
    {
      "cell_type": "code",
      "metadata": {
        "id": "1nBN_BCDWSmv",
        "outputId": "9a070a7d-a4d4-45c7-cac8-acb2c4db0e72",
        "colab": {
          "base_uri": "https://localhost:8080/",
          "height": 35
        }
      },
      "source": [
        "df.shape"
      ],
      "execution_count": null,
      "outputs": [
        {
          "output_type": "execute_result",
          "data": {
            "text/plain": [
              "(11914, 10)"
            ]
          },
          "metadata": {
            "tags": []
          },
          "execution_count": 7
        }
      ]
    },
    {
      "cell_type": "code",
      "metadata": {
        "id": "yB8t6o0wH7If",
        "outputId": "d4778cd1-5372-4e27-db62-20635493786e",
        "colab": {
          "base_uri": "https://localhost:8080/",
          "height": 35
        }
      },
      "source": [
        "duplicate_rows_df = df[df.duplicated()]\n",
        "print(\"number of duplicate rows: \", duplicate_rows_df.shape)"
      ],
      "execution_count": null,
      "outputs": [
        {
          "output_type": "stream",
          "text": [
            "number of duplicate rows:  (989, 10)\n"
          ],
          "name": "stdout"
        }
      ]
    },
    {
      "cell_type": "markdown",
      "metadata": {
        "id": "chhNvMFCIzqI"
      },
      "source": [
        "Now let us remove the duplicate data because it's ok to remove them."
      ]
    },
    {
      "cell_type": "code",
      "metadata": {
        "id": "kuobmetTV820",
        "outputId": "c6d6ce5c-6a38-4cd2-ee99-151124a1f84d",
        "colab": {
          "base_uri": "https://localhost:8080/",
          "height": 208
        }
      },
      "source": [
        "df.count()      # Used to count the number of rows"
      ],
      "execution_count": null,
      "outputs": [
        {
          "output_type": "execute_result",
          "data": {
            "text/plain": [
              "Make            11914\n",
              "Model           11914\n",
              "Year            11914\n",
              "HP              11845\n",
              "Cylinders       11884\n",
              "Transmission    11914\n",
              "Drive Mode      11914\n",
              "MPG-H           11914\n",
              "MPG-C           11914\n",
              "Price           11914\n",
              "dtype: int64"
            ]
          },
          "metadata": {
            "tags": []
          },
          "execution_count": 9
        }
      ]
    },
    {
      "cell_type": "markdown",
      "metadata": {
        "id": "_MJKjbzHI40K"
      },
      "source": [
        "So seen above there are 11914 rows and we are removing 989 rows of duplicate data."
      ]
    },
    {
      "cell_type": "code",
      "metadata": {
        "id": "OiOsEF6WVTSj",
        "outputId": "a527c1a2-5d74-42bb-99e2-8112ebffb871",
        "colab": {
          "base_uri": "https://localhost:8080/",
          "height": 202
        }
      },
      "source": [
        "df = df.drop_duplicates()\n",
        "df.head(5)"
      ],
      "execution_count": null,
      "outputs": [
        {
          "output_type": "execute_result",
          "data": {
            "text/html": [
              "<div>\n",
              "<style scoped>\n",
              "    .dataframe tbody tr th:only-of-type {\n",
              "        vertical-align: middle;\n",
              "    }\n",
              "\n",
              "    .dataframe tbody tr th {\n",
              "        vertical-align: top;\n",
              "    }\n",
              "\n",
              "    .dataframe thead th {\n",
              "        text-align: right;\n",
              "    }\n",
              "</style>\n",
              "<table border=\"1\" class=\"dataframe\">\n",
              "  <thead>\n",
              "    <tr style=\"text-align: right;\">\n",
              "      <th></th>\n",
              "      <th>Make</th>\n",
              "      <th>Model</th>\n",
              "      <th>Year</th>\n",
              "      <th>HP</th>\n",
              "      <th>Cylinders</th>\n",
              "      <th>Transmission</th>\n",
              "      <th>Drive Mode</th>\n",
              "      <th>MPG-H</th>\n",
              "      <th>MPG-C</th>\n",
              "      <th>Price</th>\n",
              "    </tr>\n",
              "  </thead>\n",
              "  <tbody>\n",
              "    <tr>\n",
              "      <th>0</th>\n",
              "      <td>BMW</td>\n",
              "      <td>1 Series M</td>\n",
              "      <td>2011</td>\n",
              "      <td>335.0</td>\n",
              "      <td>6.0</td>\n",
              "      <td>MANUAL</td>\n",
              "      <td>rear wheel drive</td>\n",
              "      <td>26</td>\n",
              "      <td>19</td>\n",
              "      <td>46135</td>\n",
              "    </tr>\n",
              "    <tr>\n",
              "      <th>1</th>\n",
              "      <td>BMW</td>\n",
              "      <td>1 Series</td>\n",
              "      <td>2011</td>\n",
              "      <td>300.0</td>\n",
              "      <td>6.0</td>\n",
              "      <td>MANUAL</td>\n",
              "      <td>rear wheel drive</td>\n",
              "      <td>28</td>\n",
              "      <td>19</td>\n",
              "      <td>40650</td>\n",
              "    </tr>\n",
              "    <tr>\n",
              "      <th>2</th>\n",
              "      <td>BMW</td>\n",
              "      <td>1 Series</td>\n",
              "      <td>2011</td>\n",
              "      <td>300.0</td>\n",
              "      <td>6.0</td>\n",
              "      <td>MANUAL</td>\n",
              "      <td>rear wheel drive</td>\n",
              "      <td>28</td>\n",
              "      <td>20</td>\n",
              "      <td>36350</td>\n",
              "    </tr>\n",
              "    <tr>\n",
              "      <th>3</th>\n",
              "      <td>BMW</td>\n",
              "      <td>1 Series</td>\n",
              "      <td>2011</td>\n",
              "      <td>230.0</td>\n",
              "      <td>6.0</td>\n",
              "      <td>MANUAL</td>\n",
              "      <td>rear wheel drive</td>\n",
              "      <td>28</td>\n",
              "      <td>18</td>\n",
              "      <td>29450</td>\n",
              "    </tr>\n",
              "    <tr>\n",
              "      <th>4</th>\n",
              "      <td>BMW</td>\n",
              "      <td>1 Series</td>\n",
              "      <td>2011</td>\n",
              "      <td>230.0</td>\n",
              "      <td>6.0</td>\n",
              "      <td>MANUAL</td>\n",
              "      <td>rear wheel drive</td>\n",
              "      <td>28</td>\n",
              "      <td>18</td>\n",
              "      <td>34500</td>\n",
              "    </tr>\n",
              "  </tbody>\n",
              "</table>\n",
              "</div>"
            ],
            "text/plain": [
              "  Make       Model  Year     HP  ...        Drive Mode MPG-H MPG-C  Price\n",
              "0  BMW  1 Series M  2011  335.0  ...  rear wheel drive    26    19  46135\n",
              "1  BMW    1 Series  2011  300.0  ...  rear wheel drive    28    19  40650\n",
              "2  BMW    1 Series  2011  300.0  ...  rear wheel drive    28    20  36350\n",
              "3  BMW    1 Series  2011  230.0  ...  rear wheel drive    28    18  29450\n",
              "4  BMW    1 Series  2011  230.0  ...  rear wheel drive    28    18  34500\n",
              "\n",
              "[5 rows x 10 columns]"
            ]
          },
          "metadata": {
            "tags": []
          },
          "execution_count": 10
        }
      ]
    },
    {
      "cell_type": "code",
      "metadata": {
        "id": "2gMM4lb0Vzor",
        "outputId": "f04e1803-e7de-4cbf-fdeb-8449a8051a07",
        "colab": {
          "base_uri": "https://localhost:8080/",
          "height": 208
        }
      },
      "source": [
        "df.count()"
      ],
      "execution_count": null,
      "outputs": [
        {
          "output_type": "execute_result",
          "data": {
            "text/plain": [
              "Make            10925\n",
              "Model           10925\n",
              "Year            10925\n",
              "HP              10856\n",
              "Cylinders       10895\n",
              "Transmission    10925\n",
              "Drive Mode      10925\n",
              "MPG-H           10925\n",
              "MPG-C           10925\n",
              "Price           10925\n",
              "dtype: int64"
            ]
          },
          "metadata": {
            "tags": []
          },
          "execution_count": 11
        }
      ]
    },
    {
      "cell_type": "markdown",
      "metadata": {
        "id": "zCLUdZOQ1PDP"
      },
      "source": [
        "\n",
        "\n",
        "---\n",
        "\n"
      ]
    },
    {
      "cell_type": "markdown",
      "metadata": {
        "id": "JkXUQtyQW3Dy"
      },
      "source": [
        "## 7. Dropping the missing or null values."
      ]
    },
    {
      "cell_type": "markdown",
      "metadata": {
        "id": "K5pKvJi41YCp"
      },
      "source": [
        "This is mostly similar to the previous step but in here all the missing values are detected and are dropped later. Now, this is not a good approach to do so, because many people just replace the missing values with the mean or the average of that column, but in this case, I just dropped that missing values. This is because there is nearly 100 missing value compared to 10, 000 values this is a small number and this is negligible so I just dropped those values."
      ]
    },
    {
      "cell_type": "code",
      "metadata": {
        "id": "Tzdlg-1OWjMz",
        "outputId": "7375ab6e-1473-4346-e5b5-0c61189cc716",
        "colab": {
          "base_uri": "https://localhost:8080/",
          "height": 208
        }
      },
      "source": [
        "print(df.isnull().sum())"
      ],
      "execution_count": null,
      "outputs": [
        {
          "output_type": "stream",
          "text": [
            "Make             0\n",
            "Model            0\n",
            "Year             0\n",
            "HP              69\n",
            "Cylinders       30\n",
            "Transmission     0\n",
            "Drive Mode       0\n",
            "MPG-H            0\n",
            "MPG-C            0\n",
            "Price            0\n",
            "dtype: int64\n"
          ],
          "name": "stdout"
        }
      ]
    },
    {
      "cell_type": "markdown",
      "metadata": {
        "id": "iWJqTVxTJQnO"
      },
      "source": [
        "This is the reason in the above step while counting both Cylinders and Horsepower (HP) had 10856 and 10895 over 10925 rows."
      ]
    },
    {
      "cell_type": "code",
      "metadata": {
        "id": "KbbV0xHPWoad",
        "outputId": "17dda8ec-1282-4814-de79-8f5e1aff3a5f",
        "colab": {
          "base_uri": "https://localhost:8080/",
          "height": 208
        }
      },
      "source": [
        "df = df.dropna()    # Dropping the missing values.\n",
        "df.count()"
      ],
      "execution_count": null,
      "outputs": [
        {
          "output_type": "execute_result",
          "data": {
            "text/plain": [
              "Make            10827\n",
              "Model           10827\n",
              "Year            10827\n",
              "HP              10827\n",
              "Cylinders       10827\n",
              "Transmission    10827\n",
              "Drive Mode      10827\n",
              "MPG-H           10827\n",
              "MPG-C           10827\n",
              "Price           10827\n",
              "dtype: int64"
            ]
          },
          "metadata": {
            "tags": []
          },
          "execution_count": 13
        }
      ]
    },
    {
      "cell_type": "markdown",
      "metadata": {
        "id": "2t7L9l2mJSoX"
      },
      "source": [
        "Now we have removed all the rows which contain the Null or N/A values (Cylinders and Horsepower (HP))."
      ]
    },
    {
      "cell_type": "code",
      "metadata": {
        "id": "V-DmX1O4Wtox",
        "outputId": "2d50fc20-3535-413b-e317-75a7f94fa2a2",
        "colab": {
          "base_uri": "https://localhost:8080/",
          "height": 208
        }
      },
      "source": [
        "print(df.isnull().sum())   # After dropping the values"
      ],
      "execution_count": null,
      "outputs": [
        {
          "output_type": "stream",
          "text": [
            "Make            0\n",
            "Model           0\n",
            "Year            0\n",
            "HP              0\n",
            "Cylinders       0\n",
            "Transmission    0\n",
            "Drive Mode      0\n",
            "MPG-H           0\n",
            "MPG-C           0\n",
            "Price           0\n",
            "dtype: int64\n"
          ],
          "name": "stdout"
        }
      ]
    },
    {
      "cell_type": "markdown",
      "metadata": {
        "id": "bk8RAHqQJVJK"
      },
      "source": [
        "\n",
        "\n",
        "---\n",
        "\n"
      ]
    },
    {
      "cell_type": "markdown",
      "metadata": {
        "id": "8Py3sQc_ZxyU"
      },
      "source": [
        "## 8. Detecting Outliers"
      ]
    },
    {
      "cell_type": "markdown",
      "metadata": {
        "id": "1g6CJPofZzHN"
      },
      "source": [
        "An outlier is a point or set of points that are different from other points. Sometimes they can be very high or very low. It's often a good idea to detect and remove the outliers. Because outliers are one of the primary reasons for resulting in a less accurate model. Hence it's a good idea to remove them. The outlier detection and removing that I am going to perform is called IQR score technique. Often outliers can be seen with visualizations using a box plot. Shown below are the box plot of MSRP, Cylinders, Horsepower and EngineSize. Herein all the plots, you can find some points are outside the box they are none other than outliers. The technique of finding and removing outlier that I am performing in this assignment is taken help of a tutorial from[ towards data science](https://towardsdatascience.com/ways-to-detect-and-remove-the-outliers-404d16608dba)."
      ]
    },
    {
      "cell_type": "code",
      "metadata": {
        "id": "vtxX_y6zZ2ri",
        "outputId": "e3f93522-9244-4c32-c34c-103e0834e93b",
        "colab": {
          "base_uri": "https://localhost:8080/",
          "height": 309
        }
      },
      "source": [
        "sns.boxplot(x=df['Price'])"
      ],
      "execution_count": null,
      "outputs": [
        {
          "output_type": "execute_result",
          "data": {
            "text/plain": [
              "<matplotlib.axes._subplots.AxesSubplot at 0x7f0d36a38be0>"
            ]
          },
          "metadata": {
            "tags": []
          },
          "execution_count": 15
        },
        {
          "output_type": "display_data",
          "data": {
            "image/png": "[encoded data removed]",
            "text/plain": [
              "<Figure size 432x288 with 1 Axes>"
            ]
          },
          "metadata": {
            "tags": []
          }
        }
      ]
    },
    {
      "cell_type": "code",
      "metadata": {
        "id": "9HtvQYVHZ8u5",
        "outputId": "3dc30a01-6fb1-41d9-dec8-0ceeead6a358",
        "colab": {
          "base_uri": "https://localhost:8080/",
          "height": 309
        }
      },
      "source": [
        "sns.boxplot(x=df['HP'])"
      ],
      "execution_count": null,
      "outputs": [
        {
          "output_type": "execute_result",
          "data": {
            "text/plain": [
              "<matplotlib.axes._subplots.AxesSubplot at 0x7f0d369b3ba8>"
            ]
          },
          "metadata": {
            "tags": []
          },
          "execution_count": 16
        },
        {
          "output_type": "display_data",
          "data": {
            "image/png": "[encoded data removed]",
            "text/plain": [
              "<Figure size 432x288 with 1 Axes>"
            ]
          },
          "metadata": {
            "tags": []
          }
        }
      ]
    },
    {
      "cell_type": "code",
      "metadata": {
        "id": "Xz3MwIjbaBUr",
        "outputId": "335d1e55-55a3-4e61-8401-a414580d9d62",
        "colab": {
          "base_uri": "https://localhost:8080/",
          "height": 309
        }
      },
      "source": [
        "sns.boxplot(x=df['Cylinders'])"
      ],
      "execution_count": null,
      "outputs": [
        {
          "output_type": "execute_result",
          "data": {
            "text/plain": [
              "<matplotlib.axes._subplots.AxesSubplot at 0x7f0d3413ff28>"
            ]
          },
          "metadata": {
            "tags": []
          },
          "execution_count": 17
        },
        {
          "output_type": "display_data",
          "data": {
            "image/png": "[encoded data removed]",
            "text/plain": [
              "<Figure size 432x288 with 1 Axes>"
            ]
          },
          "metadata": {
            "tags": []
          }
        }
      ]
    },
    {
      "cell_type": "code",
      "metadata": {
        "id": "cFG9hck7aHUx",
        "outputId": "7c09ff98-3725-4d56-9b97-ef6b43d0e17b",
        "colab": {
          "base_uri": "https://localhost:8080/",
          "height": 139
        }
      },
      "source": [
        "Q1 = df.quantile(0.25)\n",
        "Q3 = df.quantile(0.75)\n",
        "IQR = Q3 - Q1\n",
        "print(IQR)"
      ],
      "execution_count": null,
      "outputs": [
        {
          "output_type": "stream",
          "text": [
            "Year             9.0\n",
            "HP             130.0\n",
            "Cylinders        2.0\n",
            "MPG-H            8.0\n",
            "MPG-C            6.0\n",
            "Price        21327.5\n",
            "dtype: float64\n"
          ],
          "name": "stdout"
        }
      ]
    },
    {
      "cell_type": "markdown",
      "metadata": {
        "id": "kCv110_cJiDz"
      },
      "source": [
        "Don't worry about the above values because it's not important to know each and every one of them because it's just important to know how to use this technique in order to remove the outliers."
      ]
    },
    {
      "cell_type": "code",
      "metadata": {
        "id": "igh_mRXeaJrI",
        "outputId": "44660b71-2eb7-4387-c599-e527640a7c21",
        "colab": {
          "base_uri": "https://localhost:8080/",
          "height": 35
        }
      },
      "source": [
        "df = df[~((df < (Q1 - 1.5 * IQR)) |(df > (Q3 + 1.5 * IQR))).any(axis=1)]\n",
        "df.shape"
      ],
      "execution_count": null,
      "outputs": [
        {
          "output_type": "execute_result",
          "data": {
            "text/plain": [
              "(9191, 10)"
            ]
          },
          "metadata": {
            "tags": []
          },
          "execution_count": 19
        }
      ]
    },
    {
      "cell_type": "markdown",
      "metadata": {
        "id": "9Nh93DCGJkqT"
      },
      "source": [
        "As seen above there were around 1600 rows were outliers. But you cannot completely remove the outliers because even after you use the above technique there maybe 1–2 outlier unremoved but that ok because there were more than 100 outliers. Something is better than nothing."
      ]
    },
    {
      "cell_type": "markdown",
      "metadata": {
        "id": "Z87kHbgvaQbb"
      },
      "source": [
        "\n",
        "\n",
        "---\n",
        "\n"
      ]
    },
    {
      "cell_type": "markdown",
      "metadata": {
        "id": "WqFPRda8eEp_"
      },
      "source": [
        "## 9. Plot different features against one another (scatter), against frequency (histogram)"
      ]
    },
    {
      "cell_type": "markdown",
      "metadata": {
        "id": "Z-W6Q9-hJosZ"
      },
      "source": [
        "### Histogram\n",
        "\n",
        "Histogram refers to the frequency of occurrence of variables in an interval. In this case, there are mainly 10 different types of car manufacturing companies, but it is often important to know who has the most number of cars. To do this histogram is one of the trivial solutions which lets us know the total number of car manufactured by a different company."
      ]
    },
    {
      "cell_type": "code",
      "metadata": {
        "id": "dAnd4DSyeHDb",
        "outputId": "44b04e39-9dc7-40fc-9ddb-b7182f4f6e1f",
        "colab": {
          "base_uri": "https://localhost:8080/",
          "height": 431
        }
      },
      "source": [
        "df.Make.value_counts().nlargest(40).plot(kind='bar', figsize=(10,5))\n",
        "plt.title(\"Number of cars by make\")\n",
        "plt.ylabel('Number of cars')\n",
        "plt.xlabel('Make');"
      ],
      "execution_count": null,
      "outputs": [
        {
          "output_type": "display_data",
          "data": {
            "image/png": "[encoded data removed]",
            "text/plain": [
              "<Figure size 720x360 with 1 Axes>"
            ]
          },
          "metadata": {
            "tags": []
          }
        }
      ]
    },
    {
      "cell_type": "markdown",
      "metadata": {
        "id": "c37WtYYWJuAQ"
      },
      "source": [
        "### Heat Maps\n",
        "\n",
        "Heat Maps is a type of plot which is necessary when we need to find the dependent variables. One of the best way to find the relationship between the features can be done using heat maps. In the below heat map we know that the price feature depends mainly on the Engine Size, Horsepower, and Cylinders."
      ]
    },
    {
      "cell_type": "code",
      "metadata": {
        "id": "yhHfLVTj6nmy",
        "outputId": "50a65ae0-841a-42ec-87e6-1a99da1ea57b",
        "colab": {
          "base_uri": "https://localhost:8080/",
          "height": 544
        }
      },
      "source": [
        "plt.figure(figsize=(10,5))\n",
        "c= df.corr()\n",
        "sns.heatmap(c,cmap=\"BrBG\",annot=True)\n",
        "c"
      ],
      "execution_count": null,
      "outputs": [
        {
          "output_type": "execute_result",
          "data": {
            "text/html": [
              "<div>\n",
              "<style scoped>\n",
              "    .dataframe tbody tr th:only-of-type {\n",
              "        vertical-align: middle;\n",
              "    }\n",
              "\n",
              "    .dataframe tbody tr th {\n",
              "        vertical-align: top;\n",
              "    }\n",
              "\n",
              "    .dataframe thead th {\n",
              "        text-align: right;\n",
              "    }\n",
              "</style>\n",
              "<table border=\"1\" class=\"dataframe\">\n",
              "  <thead>\n",
              "    <tr style=\"text-align: right;\">\n",
              "      <th></th>\n",
              "      <th>Year</th>\n",
              "      <th>HP</th>\n",
              "      <th>Cylinders</th>\n",
              "      <th>MPG-H</th>\n",
              "      <th>MPG-C</th>\n",
              "      <th>Price</th>\n",
              "    </tr>\n",
              "  </thead>\n",
              "  <tbody>\n",
              "    <tr>\n",
              "      <th>Year</th>\n",
              "      <td>1.000000</td>\n",
              "      <td>0.326726</td>\n",
              "      <td>-0.133920</td>\n",
              "      <td>0.378479</td>\n",
              "      <td>0.338145</td>\n",
              "      <td>0.592983</td>\n",
              "    </tr>\n",
              "    <tr>\n",
              "      <th>HP</th>\n",
              "      <td>0.326726</td>\n",
              "      <td>1.000000</td>\n",
              "      <td>0.715237</td>\n",
              "      <td>-0.443807</td>\n",
              "      <td>-0.544551</td>\n",
              "      <td>0.739042</td>\n",
              "    </tr>\n",
              "    <tr>\n",
              "      <th>Cylinders</th>\n",
              "      <td>-0.133920</td>\n",
              "      <td>0.715237</td>\n",
              "      <td>1.000000</td>\n",
              "      <td>-0.703856</td>\n",
              "      <td>-0.755540</td>\n",
              "      <td>0.354013</td>\n",
              "    </tr>\n",
              "    <tr>\n",
              "      <th>MPG-H</th>\n",
              "      <td>0.378479</td>\n",
              "      <td>-0.443807</td>\n",
              "      <td>-0.703856</td>\n",
              "      <td>1.000000</td>\n",
              "      <td>0.939141</td>\n",
              "      <td>-0.106320</td>\n",
              "    </tr>\n",
              "    <tr>\n",
              "      <th>MPG-C</th>\n",
              "      <td>0.338145</td>\n",
              "      <td>-0.544551</td>\n",
              "      <td>-0.755540</td>\n",
              "      <td>0.939141</td>\n",
              "      <td>1.000000</td>\n",
              "      <td>-0.180515</td>\n",
              "    </tr>\n",
              "    <tr>\n",
              "      <th>Price</th>\n",
              "      <td>0.592983</td>\n",
              "      <td>0.739042</td>\n",
              "      <td>0.354013</td>\n",
              "      <td>-0.106320</td>\n",
              "      <td>-0.180515</td>\n",
              "      <td>1.000000</td>\n",
              "    </tr>\n",
              "  </tbody>\n",
              "</table>\n",
              "</div>"
            ],
            "text/plain": [
              "               Year        HP  Cylinders     MPG-H     MPG-C     Price\n",
              "Year       1.000000  0.326726  -0.133920  0.378479  0.338145  0.592983\n",
              "HP         0.326726  1.000000   0.715237 -0.443807 -0.544551  0.739042\n",
              "Cylinders -0.133920  0.715237   1.000000 -0.703856 -0.755540  0.354013\n",
              "MPG-H      0.378479 -0.443807  -0.703856  1.000000  0.939141 -0.106320\n",
              "MPG-C      0.338145 -0.544551  -0.755540  0.939141  1.000000 -0.180515\n",
              "Price      0.592983  0.739042   0.354013 -0.106320 -0.180515  1.000000"
            ]
          },
          "metadata": {
            "tags": []
          },
          "execution_count": 21
        },
        {
          "output_type": "display_data",
          "data": {
            "image/png": "[encoded data removed]",
            "text/plain": [
              "<Figure size 720x360 with 2 Axes>"
            ]
          },
          "metadata": {
            "tags": []
          }
        }
      ]
    },
    {
      "cell_type": "markdown",
      "metadata": {
        "id": "1ROThOLQfRZw"
      },
      "source": [
        "### Scatterplot\n",
        "\n",
        "We generally use scatter plots to find the correlation between two variables. Here the scatter plots are plotted between Horsepower and Price and we can see the plot below. With the plot given below, we can easily draw a trend line. These features provide a good scattering of points."
      ]
    },
    {
      "cell_type": "code",
      "metadata": {
        "id": "2aOfHNFefSrX",
        "outputId": "4b5286f0-5419-48bc-d2de-476aeb36f022",
        "colab": {
          "base_uri": "https://localhost:8080/",
          "height": 401
        }
      },
      "source": [
        "fig, ax = plt.subplots(figsize=(10,6))\n",
        "ax.scatter(df['HP'], df['Price'])\n",
        "ax.set_xlabel('HP')\n",
        "ax.set_ylabel('Price')\n",
        "plt.show()"
      ],
      "execution_count": null,
      "outputs": [
        {
          "output_type": "display_data",
          "data": {
            "image/png": "[encoded data removed]",
            "text/plain": [
              "<Figure size 720x432 with 1 Axes>"
            ]
          },
          "metadata": {
            "tags": []
          }
        }
      ]
    },
    {
      "cell_type": "markdown",
      "metadata": {
        "id": "hQXy8o_gKFS5"
      },
      "source": [
        "**Hence the above are some of the steps involved in Exploratory data analysis, these are some general steps that you must follow in order to perform EDA. There are many more yet to come but for now, this is more than enough idea as to how to perform a good EDA given any data sets. Stay tuned for more updates.**\n",
        "\n",
        "## Thank you."
      ]
    }
  ]
}